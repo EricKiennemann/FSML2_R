{
 "cells": [
  {
   "cell_type": "markdown",
   "metadata": {},
   "source": [
    "# Foundations of Statistical Analysis  Machine Leaning - Part 2\n",
    "## Dr Christine Malot\n",
    "\n",
    "# Day 1"
   ]
  },
  {
   "cell_type": "markdown",
   "metadata": {},
   "source": [
    "## Example 1.1 - Importance of the number of observations"
   ]
  },
  {
   "cell_type": "code",
   "execution_count": 149,
   "metadata": {},
   "outputs": [
    {
     "data": {
      "image/png": "[encoded data removed]",
      "text/plain": [
       "Plot with title \"500000 values\""
      ]
     },
     "metadata": {
      "image/png": {
       "height": 420,
       "width": 420
      },
      "text/plain": {
       "height": 420,
       "width": 420
      }
     },
     "output_type": "display_data"
    }
   ],
   "source": [
    "A <- rnorm(10,0.5,4)    #n too small to get a 0.5 as a good estimator\n",
    "B <- rnorm(10000,0.5,4) #n is ok\n",
    "\n",
    "Am<-matrix(rnorm(500,0.5,4),ncol=50)\n",
    "Bm<-matrix(rnorm(500000,0.5,4),ncol=10000)\n",
    "\n",
    "meanA<-apply(Am,1,mean)  #1 = for each row\n",
    "meanB<-apply(Bm,1,mean)  #1 = for each row\n",
    "\n",
    "# see the difference on the bar plot\n",
    "par(mfrow = c(1,2))\n",
    "boxplot(meanA,main = \"500 values\")\n",
    "boxplot(meanB,main = \"500000 values\")\n"
   ]
  },
  {
   "cell_type": "markdown",
   "metadata": {},
   "source": [
    "## Example 1.2 - Max(Xi) is a good estimator for uniform distribution\n",
    "* simulation : A uniform distribution Unif(0,5) with 500000 observations"
   ]
  },
  {
   "cell_type": "code",
   "execution_count": 150,
   "metadata": {},
   "outputs": [
    {
     "data": {
      "text/html": [
       "'Estimator Max(Xi) of Theta in a Unif(0,Theta=5) distribution : 4.949922'"
      ],
      "text/latex": [
       "'Estimator Max(Xi) of Theta in a Unif(0,Theta=5) distribution : 4.949922'"
      ],
      "text/markdown": [
       "'Estimator Max(Xi) of Theta in a Unif(0,Theta=5) distribution : 4.949922'"
      ],
      "text/plain": [
       "[1] \"Estimator Max(Xi) of Theta in a Unif(0,Theta=5) distribution : 4.949922\""
      ]
     },
     "metadata": {},
     "output_type": "display_data"
    },
    {
     "data": {
      "text/html": [
       "'The variance of the estimator is : 0.002454'"
      ],
      "text/latex": [
       "'The variance of the estimator is : 0.002454'"
      ],
      "text/markdown": [
       "'The variance of the estimator is : 0.002454'"
      ],
      "text/plain": [
       "[1] \"The variance of the estimator is : 0.002454\""
      ]
     },
     "metadata": {},
     "output_type": "display_data"
    }
   ],
   "source": [
    "Am<-matrix(runif(500000,0,5),ncol=100)\n",
    "maxA<-apply(Am,1,max)\n",
    "sprintf(\"Estimator Max(Xi) of Theta in a Unif(0,Theta=5) distribution : %f\" ,mean(maxA))\n",
    "sprintf(\"The variance of the estimator is : %f\", var(maxA))"
   ]
  },
  {
   "cell_type": "markdown",
   "metadata": {},
   "source": [
    "# Day 2"
   ]
  },
  {
   "cell_type": "markdown",
   "metadata": {},
   "source": [
    "## Example 2.1 - Frequency vs density histogram"
   ]
  },
  {
   "cell_type": "markdown",
   "metadata": {},
   "source": [
    "### The two histograms\n",
    "* before the histogram the \"summary\" R function gives various information on the dataset\n",
    "* for instance the fact that Mean >> Median reveal that it is not a symetric distribution\n",
    "* after the graphes, the variable h$density, gives the values used in the density graph"
   ]
  },
  {
   "cell_type": "code",
   "execution_count": 151,
   "metadata": {},
   "outputs": [
    {
     "data": {
      "text/html": [
       "'Summary of the Dataset'"
      ],
      "text/latex": [
       "'Summary of the Dataset'"
      ],
      "text/markdown": [
       "'Summary of the Dataset'"
      ],
      "text/plain": [
       "[1] \"Summary of the Dataset\""
      ]
     },
     "metadata": {},
     "output_type": "display_data"
    },
    {
     "data": {
      "text/plain": [
       "     Min.   1st Qu.    Median      Mean   3rd Qu.      Max. \n",
       " 0.000637  0.806842  1.848384  2.566738  3.504536 19.640304 "
      ]
     },
     "metadata": {},
     "output_type": "display_data"
    },
    {
     "data": {
      "text/html": [
       "'Values of the density'"
      ],
      "text/latex": [
       "'Values of the density'"
      ],
      "text/markdown": [
       "'Values of the density'"
      ],
      "text/plain": [
       "[1] \"Values of the density\""
      ]
     },
     "metadata": {},
     "output_type": "display_data"
    },
    {
     "data": {
      "text/html": [
       "<style>\n",
       ".list-inline {list-style: none; margin:0; padding: 0}\n",
       ".list-inline>li {display: inline-block}\n",
       ".list-inline>li:not(:last-child)::after {content: \"\\00b7\"; padding: 0 .5ex}\n",
       "</style>\n",
       "<ol class=list-inline><li>0.2685</li><li>0.125</li><li>0.0585</li><li>0.029</li><li>0.0105</li><li>0.0045</li><li>0.0015</li><li>0.0015</li><li>0</li><li>0.001</li></ol>\n"
      ],
      "text/latex": [
       "\\begin{enumerate*}\n",
       "\\item 0.2685\n",
       "\\item 0.125\n",
       "\\item 0.0585\n",
       "\\item 0.029\n",
       "\\item 0.0105\n",
       "\\item 0.0045\n",
       "\\item 0.0015\n",
       "\\item 0.0015\n",
       "\\item 0\n",
       "\\item 0.001\n",
       "\\end{enumerate*}\n"
      ],
      "text/markdown": [
       "1. 0.2685\n",
       "2. 0.125\n",
       "3. 0.0585\n",
       "4. 0.029\n",
       "5. 0.0105\n",
       "6. 0.0045\n",
       "7. 0.0015\n",
       "8. 0.0015\n",
       "9. 0\n",
       "10. 0.001\n",
       "\n",
       "\n"
      ],
      "text/plain": [
       " [1] 0.2685 0.1250 0.0585 0.0290 0.0105 0.0045 0.0015 0.0015 0.0000 0.0010"
      ]
     },
     "metadata": {},
     "output_type": "display_data"
    },
    {
     "data": {
      "image/png": "[encoded data removed]",
      "text/plain": [
       "Plot with title \"Histo / Density\""
      ]
     },
     "metadata": {
      "image/png": {
       "height": 420,
       "width": 420
      },
      "text/plain": {
       "height": 420,
       "width": 420
      }
     },
     "output_type": "display_data"
    }
   ],
   "source": [
    "A=rexp(1000,0.4) # exponential distribution\n",
    "sprintf(\"Summary of the Dataset\")\n",
    "summary(A) # various information on the sample\n",
    "# differece between histogram frequancy / density\n",
    "par(mfrow=c(1,2))\n",
    "hist(A, main=\"Histo / Frequency\") # frequency\n",
    "h=hist(A,main=\"Histo / Density\",freq=FALSE) # density\n",
    "sprintf(\"Values of the density\")\n",
    "h$density # density distribution\n",
    "\n"
   ]
  },
  {
   "cell_type": "markdown",
   "metadata": {},
   "source": [
    "### Case when frequency and density are not similar : non identical classes\n",
    "* here the classes do not all have the same length : 1,2,1"
   ]
  },
  {
   "cell_type": "code",
   "execution_count": 152,
   "metadata": {},
   "outputs": [
    {
     "name": "stderr",
     "output_type": "stream",
     "text": [
      "Warning message in plot.histogram(r, freq = freq1, col = col, border = border, angle = angle, :\n",
      "\"the AREAS in the plot are wrong -- rather use 'freq = FALSE'\"\n"
     ]
    },
    {
     "data": {
      "image/png": "[encoded data removed]",
      "text/plain": [
       "Plot with title \"Histo / Density\""
      ]
     },
     "metadata": {
      "image/png": {
       "height": 420,
       "width": 420
      },
      "text/plain": {
       "height": 420,
       "width": 420
      }
     },
     "output_type": "display_data"
    }
   ],
   "source": [
    "B=runif(1000,0,4)\n",
    "par(mfrow=c(2,2))\n",
    "hd=hist(B,breaks=c(0,1,3,4),freq = TRUE,main=\"Histo / Frequency\")\n",
    "hf=hist(B,breaks=c(0,1,3,4), freq = FALSE,main=\"Histo / Density\")"
   ]
  },
  {
   "cell_type": "markdown",
   "metadata": {},
   "source": [
    "## Example 2.2 - impact of size of classes on lambda calculation for exponential distribution\n",
    "* Four graphes with increasing values of the size of the classes : 5, 20, 50, 100\n"
   ]
  },
  {
   "cell_type": "code",
   "execution_count": 153,
   "metadata": {
    "scrolled": false
   },
   "outputs": [
    {
     "data": {
      "image/png": "[encoded data removed]",
      "text/plain": [
       "Plot with title \"size of the class = 100\""
      ]
     },
     "metadata": {
      "image/png": {
       "height": 420,
       "width": 420
      },
      "text/plain": {
       "height": 420,
       "width": 420
      }
     },
     "output_type": "display_data"
    }
   ],
   "source": [
    "C=rexp(100000,0.4)\n",
    "par(mfrow=c(2,2))\n",
    "hist(C,breaks=5,freq=FALSE,main=\"size of the class = 5\")\n",
    "hist(C,breaks=20,freq=FALSE,main=\"size of the class = 20\")\n",
    "hist(C,breaks=50,freq=FALSE,main=\"size of the class = 50\")\n",
    "hist(C,breaks=100,freq=FALSE,main=\"size of the class = 100\")"
   ]
  },
  {
   "cell_type": "markdown",
   "metadata": {},
   "source": [
    "## Exemple 2.3 - find the lambda parameter of an exponential distribution\n",
    "\n",
    "The simulation used is an exponential distribution with lambda = 4\n",
    "\n",
    "### First solution : use the first value of the density vector : not a good approximation"
   ]
  },
  {
   "cell_type": "code",
   "execution_count": 154,
   "metadata": {
    "scrolled": true
   },
   "outputs": [
    {
     "data": {
      "text/html": [
       "'First value of density vector : lambda = 0.365000'"
      ],
      "text/latex": [
       "'First value of density vector : lambda = 0.365000'"
      ],
      "text/markdown": [
       "'First value of density vector : lambda = 0.365000'"
      ],
      "text/plain": [
       "[1] \"First value of density vector : lambda = 0.365000\""
      ]
     },
     "metadata": {},
     "output_type": "display_data"
    }
   ],
   "source": [
    "A=rexp(1000,0.4)\n",
    "hh=hist(A,breaks=100,plot=FALSE)\n",
    "lambda_1 = hh$density[1] # density distribution - the first element of hh$density is an approximation of the estimator but ....\n",
    "sprintf(\"First value of density vector : lambda = %f\", lambda_1)\n"
   ]
  },
  {
   "cell_type": "markdown",
   "metadata": {},
   "source": [
    "### Better solution : lambda_2 = 1 / mean(dataset) <- moment methods"
   ]
  },
  {
   "cell_type": "code",
   "execution_count": 155,
   "metadata": {},
   "outputs": [
    {
     "data": {
      "text/html": [
       "'Moment methode : lambda_2 = 0.377638'"
      ],
      "text/latex": [
       "'Moment methode : lambda\\_2 = 0.377638'"
      ],
      "text/markdown": [
       "'Moment methode : lambda_2 = 0.377638'"
      ],
      "text/plain": [
       "[1] \"Moment methode : lambda_2 = 0.377638\""
      ]
     },
     "metadata": {},
     "output_type": "display_data"
    }
   ],
   "source": [
    "A=rexp(1000,0.4)\n",
    "lambda_2 = 1/mean(A)\n",
    "\n",
    "sprintf(\"Moment methode : lambda_2 = %f\", lambda_2)\n"
   ]
  },
  {
   "cell_type": "markdown",
   "metadata": {},
   "source": [
    "### Impact of the number of observation on the calcul of 1/mean(A) with A an exponential distribution\n",
    "* in red the approximation of lambda using 1/mean(A)\n",
    "* in blue the real value of lambda = 0.4"
   ]
  },
  {
   "cell_type": "code",
   "execution_count": 156,
   "metadata": {},
   "outputs": [
    {
     "data": {
      "image/png": "[encoded data removed]",
      "text/plain": [
       "Plot with title \"Lambda value related to sample size\""
      ]
     },
     "metadata": {
      "image/png": {
       "height": 420,
       "width": 420
      },
      "text/plain": {
       "height": 420,
       "width": 420
      }
     },
     "output_type": "display_data"
    }
   ],
   "source": [
    "A=rexp(1000,0.4)\n",
    "#length(A) # number of values in A\n",
    "sumx=cumsum(A) # x1, x1+x2,x1+x2+x3 ...to calculate meanA for 1,2,3 ... element\n",
    "barx=sumx/1:1000 # division a vector by a vector - division terme by term\n",
    "esti_lambda = 1 / barx\n",
    "par(mfrow=c(1,1))\n",
    "plot(1:1000,esti_lambda,type='l',col='red',xlim=c(0,1001),ylim=c(0.2,0.6),main=\"Lambda value related to sample size\",xlab=\"n° of observation\",ylab=\"lambda\") # evolution of lambda estimation in fn of sample size\n",
    "par(new=TRUE)\n",
    "plot(c(0,1000),c(0.4,0.4),type='l',col='blue',xlim=c(0,1001),ylim=c(0.2,0.6),xlab=\"\",ylab=\"\") # in blue the \"real\" value\n",
    "\n"
   ]
  },
  {
   "cell_type": "markdown",
   "metadata": {},
   "source": [
    "## Example 2.4 - 3 distribution graphes\n",
    "* exponential distribution\n",
    "* normal distribution\n",
    "* uniforme distribution"
   ]
  },
  {
   "cell_type": "code",
   "execution_count": 157,
   "metadata": {},
   "outputs": [
    {
     "data": {
      "image/png": "[encoded data removed]",
      "text/plain": [
       "Plot with title \"Uniform distribution\""
      ]
     },
     "metadata": {
      "image/png": {
       "height": 420,
       "width": 420
      },
      "text/plain": {
       "height": 420,
       "width": 420
      }
     },
     "output_type": "display_data"
    }
   ],
   "source": [
    "par(mfrow=c(2,2))\n",
    "x=seq(-10,10,0.01)\n",
    "plot(x,dexp(x,0.4),type='l',col='red',main=\"Exponential distribution\") # exponential distribution\n",
    "plot(x,dnorm(x,2,0.5),type='l',col='red',main=\"Normal distribution\") # normal distribution\n",
    "plot(x,dunif(x,-3,5),type='l',col='red',main=\"Uniform distribution\") # uniform distribution"
   ]
  },
  {
   "cell_type": "markdown",
   "metadata": {},
   "source": [
    "# Day 3\n",
    "## Exemple 3.1 - Difference of distribution between Gaussian and Student\n",
    "* Gaussian (normal distibution) in red\n",
    "* Student (number of degree of liberty 2) in blue"
   ]
  },
  {
   "cell_type": "code",
   "execution_count": 158,
   "metadata": {},
   "outputs": [
    {
     "data": {
      "image/png": "[encoded data removed]",
      "text/plain": [
       "Plot with title \"Gaussian and Student Distribution\""
      ]
     },
     "metadata": {
      "image/png": {
       "height": 420,
       "width": 420
      },
      "text/plain": {
       "height": 420,
       "width": 420
      }
     },
     "output_type": "display_data"
    }
   ],
   "source": [
    "\n",
    "x=seq(-5,5,0.01)\n",
    "y=dnorm(x)\n",
    "t=dt(x,2)\n",
    "maxy=max(y,t)\n",
    "plot(x,y,type='l',col='red',xlim=c(-5,5),ylim=c(0,maxy),main=\"Gaussian and Student Distribution\")\n",
    "par(new=TRUE)\n",
    "plot(x,t,type='l',col='blue',xlim=c(-5,5),ylim=c(0,maxy))\n"
   ]
  },
  {
   "cell_type": "markdown",
   "metadata": {},
   "source": [
    "## Example 3.2 - using R to compute Gaussian and Student Probabilies\n",
    "    * pnorm (Gaussian), pt (Student) to get a probability knowing a value for the R.V\n",
    "    * qnorm (Gaussian), qt (Student) to get a R.V value knowing the probability\n",
    "    * take care, pnorm/qnorm use standard deviation and not variance as third parameter"
   ]
  },
  {
   "cell_type": "code",
   "execution_count": 159,
   "metadata": {
    "scrolled": true
   },
   "outputs": [
    {
     "data": {
      "text/html": [
       "'P(-0.28 &lt;= Z &lt;= 0.57) for N(0,1) = 0.325922'"
      ],
      "text/latex": [
       "'P(-0.28 <= Z <= 0.57) for N(0,1) = 0.325922'"
      ],
      "text/markdown": [
       "'P(-0.28 &lt;= Z &lt;= 0.57) for N(0,1) = 0.325922'"
      ],
      "text/plain": [
       "[1] \"P(-0.28 <= Z <= 0.57) for N(0,1) = 0.325922\""
      ]
     },
     "metadata": {},
     "output_type": "display_data"
    },
    {
     "data": {
      "text/html": [
       "'P(-0.2 &lt;= Z &lt;= 1.2) for N(1,4) = 0.265575'"
      ],
      "text/latex": [
       "'P(-0.2 <= Z <= 1.2) for N(1,4) = 0.265575'"
      ],
      "text/markdown": [
       "'P(-0.2 &lt;= Z &lt;= 1.2) for N(1,4) = 0.265575'"
      ],
      "text/plain": [
       "[1] \"P(-0.2 <= Z <= 1.2) for N(1,4) = 0.265575\""
      ]
     },
     "metadata": {},
     "output_type": "display_data"
    },
    {
     "data": {
      "text/html": [
       "'P(-0.271 &lt;= Z &lt;= 0.271) for T(4) = 0.200199'"
      ],
      "text/latex": [
       "'P(-0.271 <= Z <= 0.271) for T(4) = 0.200199'"
      ],
      "text/markdown": [
       "'P(-0.271 &lt;= Z &lt;= 0.271) for T(4) = 0.200199'"
      ],
      "text/plain": [
       "[1] \"P(-0.271 <= Z <= 0.271) for T(4) = 0.200199\""
      ]
     },
     "metadata": {},
     "output_type": "display_data"
    },
    {
     "data": {
      "text/html": [
       "'P(0,414 &lt;= Z &lt;= 1.19) for T(4) = 0.200131'"
      ],
      "text/latex": [
       "'P(0,414 <= Z <= 1.19) for T(4) = 0.200131'"
      ],
      "text/markdown": [
       "'P(0,414 &lt;= Z &lt;= 1.19) for T(4) = 0.200131'"
      ],
      "text/plain": [
       "[1] \"P(0,414 <= Z <= 1.19) for T(4) = 0.200131\""
      ]
     },
     "metadata": {},
     "output_type": "display_data"
    },
    {
     "data": {
      "text/html": [
       "'t so that P( Z &lt;= t) = 0,95 for N(0,1), t = 1.644854'"
      ],
      "text/latex": [
       "'t so that P( Z <= t) = 0,95 for N(0,1), t = 1.644854'"
      ],
      "text/markdown": [
       "'t so that P( Z &lt;= t) = 0,95 for N(0,1), t = 1.644854'"
      ],
      "text/plain": [
       "[1] \"t so that P( Z <= t) = 0,95 for N(0,1), t = 1.644854\""
      ]
     },
     "metadata": {},
     "output_type": "display_data"
    },
    {
     "data": {
      "text/html": [
       "'t so that P( Z &lt;= t) = 0,95 for N(1,4), t = 4.289707'"
      ],
      "text/latex": [
       "'t so that P( Z <= t) = 0,95 for N(1,4), t = 4.289707'"
      ],
      "text/markdown": [
       "'t so that P( Z &lt;= t) = 0,95 for N(1,4), t = 4.289707'"
      ],
      "text/plain": [
       "[1] \"t so that P( Z <= t) = 0,95 for N(1,4), t = 4.289707\""
      ]
     },
     "metadata": {},
     "output_type": "display_data"
    }
   ],
   "source": [
    "# P(-0.28 <= Z <= 0.57)\n",
    "sprintf (\"P(-0.28 <= Z <= 0.57) for N(0,1) = %f\" , pnorm(0.57)-pnorm(-0.28))\n",
    "sprintf (\"P(-0.2 <= Z <= 1.2) for N(1,4) = %f\" , pnorm(1.2,1,2)-pnorm(-0.2,1,2))\n",
    "\n",
    "sprintf (\"P(-0.271 <= Z <= 0.271) for T(4) = %f\" , pt(0.271,4)-pt(-0.271,4))\n",
    "sprintf (\"P(0,414 <= Z <= 1.19) for T(4) = %f\" , pt(1.19,4)-pt(0.414,4))\n",
    "\n",
    "sprintf (\"t so that P( Z <= t) = 0,95 for N(0,1), t = %f\" , qnorm(0.95))\n",
    "sprintf (\"t so that P( Z <= t) = 0,95 for N(1,4), t = %f\" , qnorm(0.95,1,2))\n"
   ]
  },
  {
   "cell_type": "markdown",
   "metadata": {},
   "source": [
    "## Example 3.3 - Compare Student distribution when the degree of freedom is changing\n",
    "* comparaison with 2,4 and 10 degree of freedom"
   ]
  },
  {
   "cell_type": "code",
   "execution_count": 160,
   "metadata": {
    "scrolled": false
   },
   "outputs": [
    {
     "data": {
      "text/html": [
       "<span style=white-space:pre-wrap>'value for which Probability for Student T(2) = 0.95 :  t= 1.885618'</span>"
      ],
      "text/latex": [
       "'value for which Probability for Student T(2) = 0.95 :  t= 1.885618'"
      ],
      "text/markdown": [
       "<span style=white-space:pre-wrap>'value for which Probability for Student T(2) = 0.95 :  t= 1.885618'</span>"
      ],
      "text/plain": [
       "[1] \"value for which Probability for Student T(2) = 0.95 :  t= 1.885618\""
      ]
     },
     "metadata": {},
     "output_type": "display_data"
    },
    {
     "data": {
      "text/html": [
       "<span style=white-space:pre-wrap>'value for which Probability for Student T(2) = 0.95 :  t= 1.533206'</span>"
      ],
      "text/latex": [
       "'value for which Probability for Student T(2) = 0.95 :  t= 1.533206'"
      ],
      "text/markdown": [
       "<span style=white-space:pre-wrap>'value for which Probability for Student T(2) = 0.95 :  t= 1.533206'</span>"
      ],
      "text/plain": [
       "[1] \"value for which Probability for Student T(2) = 0.95 :  t= 1.533206\""
      ]
     },
     "metadata": {},
     "output_type": "display_data"
    },
    {
     "data": {
      "text/html": [
       "<span style=white-space:pre-wrap>'value for which Probability for Student T(2) = 0.95 :  t= 1.372184'</span>"
      ],
      "text/latex": [
       "'value for which Probability for Student T(2) = 0.95 :  t= 1.372184'"
      ],
      "text/markdown": [
       "<span style=white-space:pre-wrap>'value for which Probability for Student T(2) = 0.95 :  t= 1.372184'</span>"
      ],
      "text/plain": [
       "[1] \"value for which Probability for Student T(2) = 0.95 :  t= 1.372184\""
      ]
     },
     "metadata": {},
     "output_type": "display_data"
    },
    {
     "data": {
      "image/png": "[encoded data removed]",
      "text/plain": [
       "Plot with title \"Student Distribution with different degrees of freedom\""
      ]
     },
     "metadata": {
      "image/png": {
       "height": 420,
       "width": 420
      },
      "text/plain": {
       "height": 420,
       "width": 420
      }
     },
     "output_type": "display_data"
    }
   ],
   "source": [
    "x=seq(-5,5,0.01)\n",
    "y2=dt(x,2)\n",
    "y4=dt(x,4)\n",
    "y10=dt(x,10)\n",
    "maxy=max(y2,y4,y10)\n",
    "plot(x,y2,type='l',col='red',xlim=c(-5,5),ylim=c(0,maxy),ylab=\"y\",main=\"Student Distribution with different degrees of freedom\")\n",
    "par(new=TRUE)\n",
    "plot(x,y4,type='l',col='blue',xlim=c(-5,5),ylim=c(0,maxy),xlab=\"\",ylab=\"\")\n",
    "par(new=TRUE)\n",
    "plot(x,y10,type='l',col='green',xlim=c(-5,5),ylim=c(0,maxy),xlab=\"\",ylab=\"\")\n",
    "sprintf(\"value for which Probability for Student T(2) = 0.95 :  t= %f\",qt(0.9,2))\n",
    "sprintf(\"value for which Probability for Student T(2) = 0.95 :  t= %f\",qt(0.9,4))\n",
    "sprintf(\"value for which Probability for Student T(2) = 0.95 :  t= %f\",qt(0.9,10))\n"
   ]
  },
  {
   "cell_type": "markdown",
   "metadata": {},
   "source": [
    "## Exemple 3.4 - Showing that the Mean of a dataset can be outside of the calculated Confidence Interval\n",
    "* but with a probability linked to the choice of alpha\n",
    "* in the example, the simulation is a Normal distribution (mu=1,sd=2) and alpha = 0.05\n",
    "* we suppose that the variance = 4 is known\n",
    "* we run the simulation 100 times and check the number of times that mu is out of the calculated CI"
   ]
  },
  {
   "cell_type": "code",
   "execution_count": 161,
   "metadata": {
    "scrolled": true
   },
   "outputs": [
    {
     "data": {
      "text/html": [
       "'mu is out of CI 6 times over 100. The maximum should be : 5 times'"
      ],
      "text/latex": [
       "'mu is out of CI 6 times over 100. The maximum should be : 5 times'"
      ],
      "text/markdown": [
       "'mu is out of CI 6 times over 100. The maximum should be : 5 times'"
      ],
      "text/plain": [
       "[1] \"mu is out of CI 6 times over 100. The maximum should be : 5 times\""
      ]
     },
     "metadata": {},
     "output_type": "display_data"
    }
   ],
   "source": [
    "#if you run it several times, you can have mu out of CI \n",
    "K=100\n",
    "M=matrix(data=0,ncol=2,nrow=K) # one CI by row\n",
    "for (i in 1:K)\n",
    "{\n",
    "  data=rnorm(1000,2,1) # normal mu=2 sd= 1\n",
    "  # alpha = 5%, sd is known\n",
    "  lowerbound = mean(data)-1/sqrt(1000)*qnorm(0.975)\n",
    "  upperbound = mean(data)+1/sqrt(1000)*qnorm(0.975)\n",
    "  CI =c(lowerbound,upperbound)\n",
    "  M[i,]=CI\n",
    "}\n",
    "#M # we should have at most 5% of cases where mu outside of CI# counting when we are outside\n",
    "B=(M[,1]>2)+(M[,2]<2)\n",
    "sprintf(\"mu is out of CI %i times over %i. The maximum should be : %i times\",sum(B),K,5) #number of sample where mu out of CI\n",
    "\n",
    "\n"
   ]
  },
  {
   "cell_type": "markdown",
   "metadata": {},
   "source": [
    "## Example 3.5 - Is Max(Xi) a good approximation for N in a Binomail distribution(N,p) (as it is for Uniform Distribution)\n",
    "* we simulate 10000 Binomial distribution sample (10,p) for p=0.8 and p=0.2\n",
    "* for p=0.8, the Max(Xi) estimator is good (very close to 10)\n",
    "* for p=0.2, the Max(Xi) estimator is not good\n",
    "* the estimator is not good for p=0.2 because the probability to have a 10 value among the 10000 observations is very low"
   ]
  },
  {
   "cell_type": "code",
   "execution_count": 162,
   "metadata": {},
   "outputs": [
    {
     "data": {
      "text/html": [
       "'estimator of N (=10) for Binomial(10,0.8) : 10.000000 - very good'"
      ],
      "text/latex": [
       "'estimator of N (=10) for Binomial(10,0.8) : 10.000000 - very good'"
      ],
      "text/markdown": [
       "'estimator of N (=10) for Binomial(10,0.8) : 10.000000 - very good'"
      ],
      "text/plain": [
       "[1] \"estimator of N (=10) for Binomial(10,0.8) : 10.000000 - very good\""
      ]
     },
     "metadata": {},
     "output_type": "display_data"
    },
    {
     "data": {
      "text/html": [
       "'estimator of N (=10) for Binomial(10,0.2) : 7.000000 - not good'"
      ],
      "text/latex": [
       "'estimator of N (=10) for Binomial(10,0.2) : 7.000000 - not good'"
      ],
      "text/markdown": [
       "'estimator of N (=10) for Binomial(10,0.2) : 7.000000 - not good'"
      ],
      "text/plain": [
       "[1] \"estimator of N (=10) for Binomial(10,0.2) : 7.000000 - not good\""
      ]
     },
     "metadata": {},
     "output_type": "display_data"
    },
    {
     "data": {
      "text/html": [
       "'Probability to reach to have a sample = 10 with p=0.2 is very low : 0.001024'"
      ],
      "text/latex": [
       "'Probability to reach to have a sample = 10 with p=0.2 is very low : 0.001024'"
      ],
      "text/markdown": [
       "'Probability to reach to have a sample = 10 with p=0.2 is very low : 0.001024'"
      ],
      "text/plain": [
       "[1] \"Probability to reach to have a sample = 10 with p=0.2 is very low : 0.001024\""
      ]
     },
     "metadata": {},
     "output_type": "display_data"
    }
   ],
   "source": [
    "#binomial\n",
    "D1=rbinom(10000,10,0.8) # N=10\n",
    "sprintf(\"estimator of N (=10) for Binomial(10,0.8) : %f - very good\",max(D1)) # ok\n",
    "D2=rbinom(10000,10,0.2)\n",
    "sprintf(\"estimator of N (=10) for Binomial(10,0.2) : %f - not good\",max(D2)) # ok\n",
    "sprintf(\"Probability to reach to have a sample = 10 with p=0.2 is very low : %f\",0.2^10*10000) # ok\n"
   ]
  },
  {
   "cell_type": "markdown",
   "metadata": {},
   "source": [
    "# Day 4\n",
    "## Preparing the data"
   ]
  },
  {
   "cell_type": "code",
   "execution_count": null,
   "metadata": {},
   "outputs": [],
   "source": [
    "getwd() # folder used at the moment\n",
    "# to modify the default header : setwd\n",
    "setwd('C:/Users/erick/OneDrive - Data ScienceTech Institute/course/FMSL2')\n",
    "\n",
    "dir() # to see the content of the current directory"
   ]
  },
  {
   "cell_type": "markdown",
   "metadata": {},
   "source": [
    "### use of read.table to read a file\n",
    "* data1 is a data.frame (works as a list)\n",
    "* use \"header=TRUE or header = FALSE\" depending if you have header in the file\n",
    "* in our case there is no header => header = FALSE\n",
    "* argument \"set=\" to fixe separator. For instance set=\";\" for a \";\" separator\n",
    "* in R by default the \".\" is used as a decimal separator. To change it dec = ','"
   ]
  },
  {
   "cell_type": "code",
   "execution_count": 231,
   "metadata": {
    "scrolled": false
   },
   "outputs": [
    {
     "data": {
      "text/html": [
       "<table>\n",
       "<caption>A data.frame: 6 × 1</caption>\n",
       "<thead>\n",
       "\t<tr><th></th><th scope=col>V1</th></tr>\n",
       "\t<tr><th></th><th scope=col>&lt;dbl&gt;</th></tr>\n",
       "</thead>\n",
       "<tbody>\n",
       "\t<tr><th scope=row>1</th><td>0.5792213</td></tr>\n",
       "\t<tr><th scope=row>2</th><td>1.7901780</td></tr>\n",
       "\t<tr><th scope=row>3</th><td>0.3182912</td></tr>\n",
       "\t<tr><th scope=row>4</th><td>1.5247270</td></tr>\n",
       "\t<tr><th scope=row>5</th><td>2.2034720</td></tr>\n",
       "\t<tr><th scope=row>6</th><td>0.5783241</td></tr>\n",
       "</tbody>\n",
       "</table>\n"
      ],
      "text/latex": [
       "A data.frame: 6 × 1\n",
       "\\begin{tabular}{r|l}\n",
       "  & V1\\\\\n",
       "  & <dbl>\\\\\n",
       "\\hline\n",
       "\t1 & 0.5792213\\\\\n",
       "\t2 & 1.7901780\\\\\n",
       "\t3 & 0.3182912\\\\\n",
       "\t4 & 1.5247270\\\\\n",
       "\t5 & 2.2034720\\\\\n",
       "\t6 & 0.5783241\\\\\n",
       "\\end{tabular}\n"
      ],
      "text/markdown": [
       "\n",
       "A data.frame: 6 × 1\n",
       "\n",
       "| <!--/--> | V1 &lt;dbl&gt; |\n",
       "|---|---|\n",
       "| 1 | 0.5792213 |\n",
       "| 2 | 1.7901780 |\n",
       "| 3 | 0.3182912 |\n",
       "| 4 | 1.5247270 |\n",
       "| 5 | 2.2034720 |\n",
       "| 6 | 0.5783241 |\n",
       "\n"
      ],
      "text/plain": [
       "  V1       \n",
       "1 0.5792213\n",
       "2 1.7901780\n",
       "3 0.3182912\n",
       "4 1.5247270\n",
       "5 2.2034720\n",
       "6 0.5783241"
      ]
     },
     "metadata": {},
     "output_type": "display_data"
    }
   ],
   "source": [
    "data1 <- read.table(\"C:\\\\Users\\\\erick\\\\OneDrive - Data ScienceTech Institute\\\\course\\\\FSML2\\\\data1.txt\", header = FALSE, sep = \",\")\n",
    "head(data1) # check that data's are ok"
   ]
  },
  {
   "cell_type": "markdown",
   "metadata": {},
   "source": [
    "To access the datas within the data1 data.frame"
   ]
  },
  {
   "cell_type": "code",
   "execution_count": 173,
   "metadata": {},
   "outputs": [
    {
     "data": {
      "text/html": [
       "0.5792213"
      ],
      "text/latex": [
       "0.5792213"
      ],
      "text/markdown": [
       "0.5792213"
      ],
      "text/plain": [
       "[1] 0.5792213"
      ]
     },
     "metadata": {},
     "output_type": "display_data"
    }
   ],
   "source": [
    "data1[1,]"
   ]
  },
  {
   "cell_type": "markdown",
   "metadata": {},
   "source": [
    "Get the size of the dataset"
   ]
  },
  {
   "cell_type": "code",
   "execution_count": 170,
   "metadata": {},
   "outputs": [
    {
     "data": {
      "text/html": [
       "<style>\n",
       ".list-inline {list-style: none; margin:0; padding: 0}\n",
       ".list-inline>li {display: inline-block}\n",
       ".list-inline>li:not(:last-child)::after {content: \"\\00b7\"; padding: 0 .5ex}\n",
       "</style>\n",
       "<ol class=list-inline><li>5000</li><li>1</li></ol>\n"
      ],
      "text/latex": [
       "\\begin{enumerate*}\n",
       "\\item 5000\n",
       "\\item 1\n",
       "\\end{enumerate*}\n"
      ],
      "text/markdown": [
       "1. 5000\n",
       "2. 1\n",
       "\n",
       "\n"
      ],
      "text/plain": [
       "[1] 5000    1"
      ]
     },
     "metadata": {},
     "output_type": "display_data"
    }
   ],
   "source": [
    "dim(data1)"
   ]
  },
  {
   "cell_type": "markdown",
   "metadata": {},
   "source": [
    "Available dataset in R : iris database\n",
    "* help(\"iris\") : gives detailled information on the dataset"
   ]
  },
  {
   "cell_type": "code",
   "execution_count": 175,
   "metadata": {},
   "outputs": [
    {
     "data": {
      "text/html": [
       "<table>\n",
       "<caption>A data.frame: 6 × 5</caption>\n",
       "<thead>\n",
       "\t<tr><th></th><th scope=col>Sepal.Length</th><th scope=col>Sepal.Width</th><th scope=col>Petal.Length</th><th scope=col>Petal.Width</th><th scope=col>Species</th></tr>\n",
       "\t<tr><th></th><th scope=col>&lt;dbl&gt;</th><th scope=col>&lt;dbl&gt;</th><th scope=col>&lt;dbl&gt;</th><th scope=col>&lt;dbl&gt;</th><th scope=col>&lt;fct&gt;</th></tr>\n",
       "</thead>\n",
       "<tbody>\n",
       "\t<tr><th scope=row>1</th><td>5.1</td><td>3.5</td><td>1.4</td><td>0.2</td><td>setosa</td></tr>\n",
       "\t<tr><th scope=row>2</th><td>4.9</td><td>3.0</td><td>1.4</td><td>0.2</td><td>setosa</td></tr>\n",
       "\t<tr><th scope=row>3</th><td>4.7</td><td>3.2</td><td>1.3</td><td>0.2</td><td>setosa</td></tr>\n",
       "\t<tr><th scope=row>4</th><td>4.6</td><td>3.1</td><td>1.5</td><td>0.2</td><td>setosa</td></tr>\n",
       "\t<tr><th scope=row>5</th><td>5.0</td><td>3.6</td><td>1.4</td><td>0.2</td><td>setosa</td></tr>\n",
       "\t<tr><th scope=row>6</th><td>5.4</td><td>3.9</td><td>1.7</td><td>0.4</td><td>setosa</td></tr>\n",
       "</tbody>\n",
       "</table>\n"
      ],
      "text/latex": [
       "A data.frame: 6 × 5\n",
       "\\begin{tabular}{r|lllll}\n",
       "  & Sepal.Length & Sepal.Width & Petal.Length & Petal.Width & Species\\\\\n",
       "  & <dbl> & <dbl> & <dbl> & <dbl> & <fct>\\\\\n",
       "\\hline\n",
       "\t1 & 5.1 & 3.5 & 1.4 & 0.2 & setosa\\\\\n",
       "\t2 & 4.9 & 3.0 & 1.4 & 0.2 & setosa\\\\\n",
       "\t3 & 4.7 & 3.2 & 1.3 & 0.2 & setosa\\\\\n",
       "\t4 & 4.6 & 3.1 & 1.5 & 0.2 & setosa\\\\\n",
       "\t5 & 5.0 & 3.6 & 1.4 & 0.2 & setosa\\\\\n",
       "\t6 & 5.4 & 3.9 & 1.7 & 0.4 & setosa\\\\\n",
       "\\end{tabular}\n"
      ],
      "text/markdown": [
       "\n",
       "A data.frame: 6 × 5\n",
       "\n",
       "| <!--/--> | Sepal.Length &lt;dbl&gt; | Sepal.Width &lt;dbl&gt; | Petal.Length &lt;dbl&gt; | Petal.Width &lt;dbl&gt; | Species &lt;fct&gt; |\n",
       "|---|---|---|---|---|---|\n",
       "| 1 | 5.1 | 3.5 | 1.4 | 0.2 | setosa |\n",
       "| 2 | 4.9 | 3.0 | 1.4 | 0.2 | setosa |\n",
       "| 3 | 4.7 | 3.2 | 1.3 | 0.2 | setosa |\n",
       "| 4 | 4.6 | 3.1 | 1.5 | 0.2 | setosa |\n",
       "| 5 | 5.0 | 3.6 | 1.4 | 0.2 | setosa |\n",
       "| 6 | 5.4 | 3.9 | 1.7 | 0.4 | setosa |\n",
       "\n"
      ],
      "text/plain": [
       "  Sepal.Length Sepal.Width Petal.Length Petal.Width Species\n",
       "1 5.1          3.5         1.4          0.2         setosa \n",
       "2 4.9          3.0         1.4          0.2         setosa \n",
       "3 4.7          3.2         1.3          0.2         setosa \n",
       "4 4.6          3.1         1.5          0.2         setosa \n",
       "5 5.0          3.6         1.4          0.2         setosa \n",
       "6 5.4          3.9         1.7          0.4         setosa "
      ]
     },
     "metadata": {},
     "output_type": "display_data"
    }
   ],
   "source": [
    "head(iris)\n",
    "help(\"iris\")"
   ]
  },
  {
   "cell_type": "markdown",
   "metadata": {},
   "source": [
    "We have a quantitative variable and continuous\n",
    "* the histogramme will be the correct representation\n",
    "* as.matrix() transform the object into a matrix"
   ]
  },
  {
   "cell_type": "code",
   "execution_count": 233,
   "metadata": {},
   "outputs": [
    {
     "data": {
      "image/png": "[encoded data removed]",
      "text/plain": [
       "Plot with title \"Histogram of mdata1\""
      ]
     },
     "metadata": {
      "image/png": {
       "height": 420,
       "width": 420
      },
      "text/plain": {
       "height": 420,
       "width": 420
      }
     },
     "output_type": "display_data"
    }
   ],
   "source": [
    "mdata1 = as.matrix(data1)\n",
    "hist(mdata1,freq = FALSE)\n",
    "\n",
    "\n"
   ]
  },
  {
   "cell_type": "markdown",
   "metadata": {},
   "source": [
    "We guess that it can be an exponential distribution\n",
    "* we need to estimate the parameter\n",
    "* by method of moments : lambda = 1/mean(Xi)"
   ]
  },
  {
   "cell_type": "code",
   "execution_count": 179,
   "metadata": {},
   "outputs": [
    {
     "data": {
      "text/html": [
       "'An estimator lambda = 0.757914'"
      ],
      "text/latex": [
       "'An estimator lambda = 0.757914'"
      ],
      "text/markdown": [
       "'An estimator lambda = 0.757914'"
      ],
      "text/plain": [
       "[1] \"An estimator lambda = 0.757914\""
      ]
     },
     "metadata": {},
     "output_type": "display_data"
    }
   ],
   "source": [
    "lambda_1 = 1/mean(mdata1) # lambda 0.758\n",
    "sprintf(\"An estimator lambda = %f\",lambda_1)\n"
   ]
  },
  {
   "cell_type": "markdown",
   "metadata": {},
   "source": [
    "Compare Theory and Practice"
   ]
  },
  {
   "cell_type": "code",
   "execution_count": 234,
   "metadata": {},
   "outputs": [
    {
     "data": {
      "image/png": "[encoded data removed]",
      "text/plain": [
       "Plot with title \"Histogram of mdata1\""
      ]
     },
     "metadata": {
      "image/png": {
       "height": 420,
       "width": 420
      },
      "text/plain": {
       "height": 420,
       "width": 420
      }
     },
     "output_type": "display_data"
    }
   ],
   "source": [
    "H=hist(mdata1,plot=FALSE)\n",
    "limits = H$breaks\n",
    "infl=min(limits)\n",
    "subl=max(limits)\n",
    "x=seq(infl,subl,0.01) #step small enough to have something smooth\n",
    "yt=dexp(x,lambda_1)\n",
    "yh=h$density\n",
    "ymax=max(yt,yh)\n",
    "hist(mdata1,freq=FALSE,xlim=c(infl,subl),ylim=c(0,ymax))\n",
    "par(new=TRUE)\n",
    "plot(x,yt,type='l',col='red',xlim=c(infl,subl),ylim=c(0,ymax)) # exponential distribution\n",
    "\n"
   ]
  },
  {
   "cell_type": "markdown",
   "metadata": {},
   "source": [
    "split two first classes and group the last ones"
   ]
  },
  {
   "cell_type": "code",
   "execution_count": 236,
   "metadata": {},
   "outputs": [
    {
     "data": {
      "image/png": "[encoded data removed]",
      "text/plain": [
       "Plot with title \"Histogram of mdata1\""
      ]
     },
     "metadata": {
      "image/png": {
       "height": 420,
       "width": 420
      },
      "text/plain": {
       "height": 420,
       "width": 420
      }
     },
     "output_type": "display_data"
    }
   ],
   "source": [
    "H=hist(mdata1,plot=FALSE)\n",
    "limits = H$breaks\n",
    "infl=min(limits)\n",
    "subl=max(limits)\n",
    "x=seq(infl,subl,0.01) #step small enough to have something smooth\n",
    "yt=dexp(x,lambda_1)\n",
    "yh=h$density\n",
    "ymax=max(yt,yh)\n",
    "hist(mdata1,breaks=c(0,0.3,0.6,0.9,1.2,1.5,2,3,4,6,12),freq=FALSE,xlim=c(infl,subl),ylim=c(0,ymax))\n",
    "par(new=TRUE)\n",
    "plot(x,yt,type='l',col='red',xlim=c(infl,subl),ylim=c(0,ymax)) # exponential distribution\n"
   ]
  },
  {
   "cell_type": "markdown",
   "metadata": {},
   "source": [
    "##data2"
   ]
  },
  {
   "cell_type": "code",
   "execution_count": null,
   "metadata": {},
   "outputs": [],
   "source": [
    "discrete values => barplot\n",
    "* the table function : count the occurences of each value / number of observation\n"
   ]
  },
  {
   "cell_type": "code",
   "execution_count": 199,
   "metadata": {},
   "outputs": [
    {
     "data": {
      "image/png": "[encoded data removed]",
      "text/plain": [
       "plot without title"
      ]
     },
     "metadata": {
      "image/png": {
       "height": 420,
       "width": 420
      },
      "text/plain": {
       "height": 420,
       "width": 420
      }
     },
     "output_type": "display_data"
    }
   ],
   "source": [
    "# dataset 2\n",
    "data2 <- read.table(\"C:\\\\Users\\\\erick\\\\OneDrive - Data ScienceTech Institute\\\\course\\\\FSML2\\\\data2.txt\", header = FALSE, sep = \",\")\n",
    "count=table(data2)\n",
    "mdata2 = as.matrix(data2)\n",
    "barplot(count / 5000)\n"
   ]
  },
  {
   "cell_type": "markdown",
   "metadata": {},
   "source": [
    "Modelisation : it looks like a Binomial or Poison Distribution\n",
    "\n",
    "Start with Poisson to see ..\n",
    "* by method of moment : an estimator is empirical mean\n",
    "If Binomial\n",
    "* by method of moment :\n",
    "* p = (mu-var)/mu, \n",
    "* N=mu^2/(mu-var) - take care, N must be an insteger\n"
   ]
  },
  {
   "cell_type": "code",
   "execution_count": 213,
   "metadata": {},
   "outputs": [
    {
     "data": {
      "text/html": [
       "2.022"
      ],
      "text/latex": [
       "2.022"
      ],
      "text/markdown": [
       "2.022"
      ],
      "text/plain": [
       "[1] 2.022"
      ]
     },
     "metadata": {},
     "output_type": "display_data"
    },
    {
     "data": {
      "text/plain": [
       "data2\n",
       "  0   1   2   3   4   5   6 \n",
       " 62 119 152 105  41  17   4 "
      ]
     },
     "metadata": {},
     "output_type": "display_data"
    },
    {
     "data": {
      "text/html": [
       "0.155538461538462"
      ],
      "text/latex": [
       "0.155538461538462"
      ],
      "text/markdown": [
       "0.155538461538462"
      ],
      "text/plain": [
       "[1] 0.1555385"
      ]
     },
     "metadata": {},
     "output_type": "display_data"
    }
   ],
   "source": [
    "lambda_p = mean(as.matrix(data2)) # an estimation - associated value to an estimator\n",
    "lambda_p\n",
    "\n",
    "p_p = (mean(mdata2)-var(mdata2))/mean(mdata2)\n",
    "N_p = mean(mdata2)/p_p # must be an integer\n",
    "count\n",
    "# because N is an integer the estimation should be an integer also\n",
    "#N_p = 13 => adapt p_p\n",
    "N_p = 13\n",
    "p_p = mean(mdata2)/N_p\n",
    "p_p\n"
   ]
  },
  {
   "cell_type": "markdown",
   "metadata": {},
   "source": [
    "We do graphical superposition to choose between Poison and Binomial and compare the theory with the given dataset data2"
   ]
  },
  {
   "cell_type": "code",
   "execution_count": 226,
   "metadata": {
    "scrolled": false
   },
   "outputs": [
    {
     "data": {
      "text/html": [
       "0.155538461538462"
      ],
      "text/latex": [
       "0.155538461538462"
      ],
      "text/markdown": [
       "0.155538461538462"
      ],
      "text/plain": [
       "[1] 0.1555385"
      ]
     },
     "metadata": {},
     "output_type": "display_data"
    },
    {
     "data": {
      "text/html": [
       "13"
      ],
      "text/latex": [
       "13"
      ],
      "text/markdown": [
       "13"
      ],
      "text/plain": [
       "[1] 13"
      ]
     },
     "metadata": {},
     "output_type": "display_data"
    },
    {
     "data": {
      "image/png": "[encoded data removed]",
      "text/plain": [
       "plot without title"
      ]
     },
     "metadata": {
      "image/png": {
       "height": 420,
       "width": 420
      },
      "text/plain": {
       "height": 420,
       "width": 420
      }
     },
     "output_type": "display_data"
    }
   ],
   "source": [
    "p_p\n",
    "N_p\n",
    "reality = count/500\n",
    "#barplot(count / 5000)\n",
    "plot(0:6,reality,col='red',type='p',xlim=c(0,13),ylim=c(0,0.4))\n",
    "\n",
    "xx=0:N_p\n",
    "par(new=TRUE)\n",
    "Bin = dbinom(xx,N_p,p_p)\n",
    "count_bin = table(Bin)\n",
    "#barplot(count_bin / 5000, col = 'red')\n",
    "plot(xx,Bin,col='blue',type='p',xlim=c(0,13),ylim=c(0,0.4))\n",
    "\n",
    "par(new=TRUE)\n",
    "x=0:13\n",
    "Pois = dpois(x,lambda_p)\n",
    "count_pois = table(Pois)\n",
    "#barplot(count_pois / 5000, col = 'blue')\n",
    "plot(x,Pois,col='green',type='p',xlim=c(0,13),ylim=c(0,0.4))\n",
    "\n",
    "\n"
   ]
  },
  {
   "cell_type": "markdown",
   "metadata": {},
   "source": [
    "Blue = Binomial is closer to the dataset in Red, So we choose the Binomial Distribution with p = 0.1555 and N = 13\n",
    "\n",
    "Difficult to choose between Poison and Binomial because Poison can be an approximation of Binomial\n",
    "\n",
    "Practicaly, it is easely to use Poison (one parameter) than Binomial (two parameters)"
   ]
  },
  {
   "cell_type": "markdown",
   "metadata": {},
   "source": [
    "## data3"
   ]
  },
  {
   "cell_type": "code",
   "execution_count": 227,
   "metadata": {
    "scrolled": true
   },
   "outputs": [
    {
     "data": {
      "image/png": "[encoded data removed]",
      "text/plain": [
       "plot without title"
      ]
     },
     "metadata": {
      "image/png": {
       "height": 420,
       "width": 420
      },
      "text/plain": {
       "height": 420,
       "width": 420
      }
     },
     "output_type": "display_data"
    }
   ],
   "source": [
    "# dataset 3\n",
    "data3 <- read.table(\"C:\\\\Users\\\\erick\\\\OneDrive - Data ScienceTech Institute\\\\course\\\\FSML2\\\\data3.txt\", header = FALSE, sep = \",\")\n",
    "count3=table(data3)\n",
    "mdata3 = as.matrix(data3)\n",
    "barplot(count3 / 5000)"
   ]
  },
  {
   "cell_type": "markdown",
   "metadata": {},
   "source": [
    "Poisson and binomial ?"
   ]
  },
  {
   "cell_type": "code",
   "execution_count": null,
   "metadata": {},
   "outputs": [],
   "source": [
    "lambda_p3 = mean(as.matrix(data3)) # an estimation - associated value to an estimator\n",
    "lambda_p3\n",
    "\n",
    "p_p3 = (mean(mdata3)-var(mdata3))/mean(mdata3)\n",
    "N_p3 = mean(mdata3)/p_p # must be an integer\n",
    "count\n",
    "# because N is an integer the estimation should be an integer also\n",
    "#N_p = 13 => adapt p_p\n",
    "N_p3 = 13\n",
    "p_p3 = mean(mdata2)/N_p\n",
    "p_p3\n"
   ]
  },
  {
   "cell_type": "markdown",
   "metadata": {},
   "source": [
    "To be sure that we have numerical values => try to add two values"
   ]
  },
  {
   "cell_type": "code",
   "execution_count": 189,
   "metadata": {},
   "outputs": [
    {
     "data": {
      "text/html": [
       "<style>\n",
       ".list-inline {list-style: none; margin:0; padding: 0}\n",
       ".list-inline>li {display: inline-block}\n",
       ".list-inline>li:not(:last-child)::after {content: \"\\00b7\"; padding: 0 .5ex}\n",
       "</style>\n",
       "<ol class=list-inline><li>10</li><li>9</li><li>7</li><li>1</li><li>4</li><li>7</li><li>7</li><li>5</li><li>1</li><li>3</li><li>7</li><li>8</li><li>2</li><li>7</li><li>3</li><li>2</li><li>10</li><li>9</li><li>2</li><li>10</li><li>10</li><li>10</li><li>3</li><li>2</li><li>7</li><li>6</li><li>5</li><li>2</li><li>7</li><li>9</li><li>5</li><li>9</li><li>10</li><li>4</li><li>3</li><li>7</li><li>6</li><li>4</li><li>3</li><li>10</li><li>5</li><li>8</li><li>5</li><li>1</li><li>3</li><li>3</li><li>2</li><li>3</li><li>1</li><li>1</li></ol>\n"
      ],
      "text/latex": [
       "\\begin{enumerate*}\n",
       "\\item 10\n",
       "\\item 9\n",
       "\\item 7\n",
       "\\item 1\n",
       "\\item 4\n",
       "\\item 7\n",
       "\\item 7\n",
       "\\item 5\n",
       "\\item 1\n",
       "\\item 3\n",
       "\\item 7\n",
       "\\item 8\n",
       "\\item 2\n",
       "\\item 7\n",
       "\\item 3\n",
       "\\item 2\n",
       "\\item 10\n",
       "\\item 9\n",
       "\\item 2\n",
       "\\item 10\n",
       "\\item 10\n",
       "\\item 10\n",
       "\\item 3\n",
       "\\item 2\n",
       "\\item 7\n",
       "\\item 6\n",
       "\\item 5\n",
       "\\item 2\n",
       "\\item 7\n",
       "\\item 9\n",
       "\\item 5\n",
       "\\item 9\n",
       "\\item 10\n",
       "\\item 4\n",
       "\\item 3\n",
       "\\item 7\n",
       "\\item 6\n",
       "\\item 4\n",
       "\\item 3\n",
       "\\item 10\n",
       "\\item 5\n",
       "\\item 8\n",
       "\\item 5\n",
       "\\item 1\n",
       "\\item 3\n",
       "\\item 3\n",
       "\\item 2\n",
       "\\item 3\n",
       "\\item 1\n",
       "\\item 1\n",
       "\\end{enumerate*}\n"
      ],
      "text/markdown": [
       "1. 10\n",
       "2. 9\n",
       "3. 7\n",
       "4. 1\n",
       "5. 4\n",
       "6. 7\n",
       "7. 7\n",
       "8. 5\n",
       "9. 1\n",
       "10. 3\n",
       "11. 7\n",
       "12. 8\n",
       "13. 2\n",
       "14. 7\n",
       "15. 3\n",
       "16. 2\n",
       "17. 10\n",
       "18. 9\n",
       "19. 2\n",
       "20. 10\n",
       "21. 10\n",
       "22. 10\n",
       "23. 3\n",
       "24. 2\n",
       "25. 7\n",
       "26. 6\n",
       "27. 5\n",
       "28. 2\n",
       "29. 7\n",
       "30. 9\n",
       "31. 5\n",
       "32. 9\n",
       "33. 10\n",
       "34. 4\n",
       "35. 3\n",
       "36. 7\n",
       "37. 6\n",
       "38. 4\n",
       "39. 3\n",
       "40. 10\n",
       "41. 5\n",
       "42. 8\n",
       "43. 5\n",
       "44. 1\n",
       "45. 3\n",
       "46. 3\n",
       "47. 2\n",
       "48. 3\n",
       "49. 1\n",
       "50. 1\n",
       "\n",
       "\n"
      ],
      "text/plain": [
       " [1] 10  9  7  1  4  7  7  5  1  3  7  8  2  7  3  2 10  9  2 10 10 10  3  2  7\n",
       "[26]  6  5  2  7  9  5  9 10  4  3  7  6  4  3 10  5  8  5  1  3  3  2  3  1  1"
      ]
     },
     "metadata": {},
     "output_type": "display_data"
    },
    {
     "data": {
      "text/html": [
       "<style>\n",
       ".list-inline {list-style: none; margin:0; padding: 0}\n",
       ".list-inline>li {display: inline-block}\n",
       ".list-inline>li:not(:last-child)::after {content: \"\\00b7\"; padding: 0 .5ex}\n",
       "</style>\n",
       "<ol class=list-inline><li>10</li><li>9</li><li>7</li><li>1</li><li>4</li><li>7</li><li>7</li><li>5</li><li>1</li><li>3</li><li>7</li><li>8</li><li>2</li><li>7</li><li>3</li><li>2</li><li>10</li><li>9</li><li>2</li><li>10</li><li>10</li><li>10</li><li>3</li><li>2</li><li>7</li><li>6</li><li>5</li><li>2</li><li>7</li><li>9</li><li>5</li><li>9</li><li>10</li><li>4</li><li>3</li><li>7</li><li>6</li><li>4</li><li>3</li><li>10</li><li>5</li><li>8</li><li>5</li><li>1</li><li>3</li><li>3</li><li>2</li><li>3</li><li>1</li><li>1</li></ol>\n",
       "\n",
       "<details>\n",
       "\t<summary style=display:list-item;cursor:pointer>\n",
       "\t\t<strong>Levels</strong>:\n",
       "\t</summary>\n",
       "\t<style>\n",
       "\t.list-inline {list-style: none; margin:0; padding: 0}\n",
       "\t.list-inline>li {display: inline-block}\n",
       "\t.list-inline>li:not(:last-child)::after {content: \"\\00b7\"; padding: 0 .5ex}\n",
       "\t</style>\n",
       "\t<ol class=list-inline><li>'1'</li><li>'2'</li><li>'3'</li><li>'4'</li><li>'5'</li><li>'6'</li><li>'7'</li><li>'8'</li><li>'9'</li><li>'10'</li></ol>\n",
       "</details>"
      ],
      "text/latex": [
       "\\begin{enumerate*}\n",
       "\\item 10\n",
       "\\item 9\n",
       "\\item 7\n",
       "\\item 1\n",
       "\\item 4\n",
       "\\item 7\n",
       "\\item 7\n",
       "\\item 5\n",
       "\\item 1\n",
       "\\item 3\n",
       "\\item 7\n",
       "\\item 8\n",
       "\\item 2\n",
       "\\item 7\n",
       "\\item 3\n",
       "\\item 2\n",
       "\\item 10\n",
       "\\item 9\n",
       "\\item 2\n",
       "\\item 10\n",
       "\\item 10\n",
       "\\item 10\n",
       "\\item 3\n",
       "\\item 2\n",
       "\\item 7\n",
       "\\item 6\n",
       "\\item 5\n",
       "\\item 2\n",
       "\\item 7\n",
       "\\item 9\n",
       "\\item 5\n",
       "\\item 9\n",
       "\\item 10\n",
       "\\item 4\n",
       "\\item 3\n",
       "\\item 7\n",
       "\\item 6\n",
       "\\item 4\n",
       "\\item 3\n",
       "\\item 10\n",
       "\\item 5\n",
       "\\item 8\n",
       "\\item 5\n",
       "\\item 1\n",
       "\\item 3\n",
       "\\item 3\n",
       "\\item 2\n",
       "\\item 3\n",
       "\\item 1\n",
       "\\item 1\n",
       "\\end{enumerate*}\n",
       "\n",
       "\\emph{Levels}: \\begin{enumerate*}\n",
       "\\item '1'\n",
       "\\item '2'\n",
       "\\item '3'\n",
       "\\item '4'\n",
       "\\item '5'\n",
       "\\item '6'\n",
       "\\item '7'\n",
       "\\item '8'\n",
       "\\item '9'\n",
       "\\item '10'\n",
       "\\end{enumerate*}\n"
      ],
      "text/markdown": [
       "1. 10\n",
       "2. 9\n",
       "3. 7\n",
       "4. 1\n",
       "5. 4\n",
       "6. 7\n",
       "7. 7\n",
       "8. 5\n",
       "9. 1\n",
       "10. 3\n",
       "11. 7\n",
       "12. 8\n",
       "13. 2\n",
       "14. 7\n",
       "15. 3\n",
       "16. 2\n",
       "17. 10\n",
       "18. 9\n",
       "19. 2\n",
       "20. 10\n",
       "21. 10\n",
       "22. 10\n",
       "23. 3\n",
       "24. 2\n",
       "25. 7\n",
       "26. 6\n",
       "27. 5\n",
       "28. 2\n",
       "29. 7\n",
       "30. 9\n",
       "31. 5\n",
       "32. 9\n",
       "33. 10\n",
       "34. 4\n",
       "35. 3\n",
       "36. 7\n",
       "37. 6\n",
       "38. 4\n",
       "39. 3\n",
       "40. 10\n",
       "41. 5\n",
       "42. 8\n",
       "43. 5\n",
       "44. 1\n",
       "45. 3\n",
       "46. 3\n",
       "47. 2\n",
       "48. 3\n",
       "49. 1\n",
       "50. 1\n",
       "\n",
       "\n",
       "\n",
       "**Levels**: 1. '1'\n",
       "2. '2'\n",
       "3. '3'\n",
       "4. '4'\n",
       "5. '5'\n",
       "6. '6'\n",
       "7. '7'\n",
       "8. '8'\n",
       "9. '9'\n",
       "10. '10'\n",
       "\n",
       "\n"
      ],
      "text/plain": [
       " [1] 10 9  7  1  4  7  7  5  1  3  7  8  2  7  3  2  10 9  2  10 10 10 3  2  7 \n",
       "[26] 6  5  2  7  9  5  9  10 4  3  7  6  4  3  10 5  8  5  1  3  3  2  3  1  1 \n",
       "Levels: 1 2 3 4 5 6 7 8 9 10"
      ]
     },
     "metadata": {},
     "output_type": "display_data"
    },
    {
     "name": "stderr",
     "output_type": "stream",
     "text": [
      "Warning message in Ops.factor(xf[4], xf[1]):\n",
      "\"'+' not meaningful for factors\"\n"
     ]
    },
    {
     "data": {
      "text/html": [
       "&lt;NA&gt;"
      ],
      "text/latex": [
       "<NA>"
      ],
      "text/markdown": [
       "&lt;NA&gt;"
      ],
      "text/plain": [
       "[1] NA"
      ]
     },
     "metadata": {},
     "output_type": "display_data"
    }
   ],
   "source": [
    "x<-sample(1:10,50,replace=TRUE) # \n",
    "x\n",
    "xf=as.factor(x)\n",
    "xf # here level = categorical\n",
    "xf[4]+xf[1]"
   ]
  },
  {
   "cell_type": "code",
   "execution_count": null,
   "metadata": {},
   "outputs": [],
   "source": []
  }
 ],
 "metadata": {
  "kernelspec": {
   "display_name": "R",
   "language": "R",
   "name": "ir"
  },
  "language_info": {
   "codemirror_mode": "r",
   "file_extension": ".r",
   "mimetype": "text/x-r-source",
   "name": "R",
   "pygments_lexer": "r",
   "version": "3.6.3"
  }
 },
 "nbformat": 4,
 "nbformat_minor": 4
}
