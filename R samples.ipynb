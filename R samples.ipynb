{
 "cells": [
  {
   "cell_type": "markdown",
   "metadata": {},
   "source": [
    "# Foundations of Statistical analysis  Machine Leaning - Part 2\n",
    "## Dr Christine Malot\n",
    "\n",
    "# Day 1"
   ]
  },
  {
   "cell_type": "markdown",
   "metadata": {},
   "source": [
    "## Example 1.1 - Importance of the number of observations"
   ]
  },
  {
   "cell_type": "code",
   "execution_count": 2,
   "metadata": {},
   "outputs": [
    {
     "data": {
      "image/png": "[encoded data removed]",
      "text/plain": [
       "Plot with title \"500000 values\""
      ]
     },
     "metadata": {
      "image/png": {
       "height": 420,
       "width": 420
      },
      "text/plain": {
       "height": 420,
       "width": 420
      }
     },
     "output_type": "display_data"
    }
   ],
   "source": [
    "A <- rnorm(10,0.5,4)    #n too small to get a 0.5 as a good estimator\n",
    "B <- rnorm(10000,0.5,4) #n is ok\n",
    "\n",
    "Am<-matrix(rnorm(500,0.5,4),ncol=50)\n",
    "Bm<-matrix(rnorm(500000,0.5,4),ncol=10000)\n",
    "\n",
    "meanA<-apply(Am,1,mean)  #1 = for each row\n",
    "meanB<-apply(Bm,1,mean)  #1 = for each row\n",
    "\n",
    "# see the difference on the bar plot\n",
    "par(mfrow = c(1,2))\n",
    "boxplot(meanA,main = \"500 values\")\n",
    "boxplot(meanB,main = \"500000 values\")\n"
   ]
  },
  {
   "cell_type": "markdown",
   "metadata": {},
   "source": [
    "## Example 1.2 - Max(Xi) is a good estimator for uniform distribution\n",
    "* simulation : A uniform distribution Unif(0,5) with 500000 observations"
   ]
  },
  {
   "cell_type": "code",
   "execution_count": 3,
   "metadata": {},
   "outputs": [
    {
     "data": {
      "text/html": [
       "'Estimator Max(Xi) of Theta in a Unif(0,Theta=5) distribution : 4.949863'"
      ],
      "text/latex": [
       "'Estimator Max(Xi) of Theta in a Unif(0,Theta=5) distribution : 4.949863'"
      ],
      "text/markdown": [
       "'Estimator Max(Xi) of Theta in a Unif(0,Theta=5) distribution : 4.949863'"
      ],
      "text/plain": [
       "[1] \"Estimator Max(Xi) of Theta in a Unif(0,Theta=5) distribution : 4.949863\""
      ]
     },
     "metadata": {},
     "output_type": "display_data"
    },
    {
     "data": {
      "text/html": [
       "'The variance of the estimator is : 0.002424'"
      ],
      "text/latex": [
       "'The variance of the estimator is : 0.002424'"
      ],
      "text/markdown": [
       "'The variance of the estimator is : 0.002424'"
      ],
      "text/plain": [
       "[1] \"The variance of the estimator is : 0.002424\""
      ]
     },
     "metadata": {},
     "output_type": "display_data"
    }
   ],
   "source": [
    "Am<-matrix(runif(500000,0,5),ncol=100)\n",
    "maxA<-apply(Am,1,max)\n",
    "sprintf(\"Estimator Max(Xi) of Theta in a Unif(0,Theta=5) distribution : %f\" ,mean(maxA))\n",
    "sprintf(\"The variance of the estimator is : %f\", var(maxA))"
   ]
  },
  {
   "cell_type": "markdown",
   "metadata": {},
   "source": [
    "# Day 2"
   ]
  },
  {
   "cell_type": "markdown",
   "metadata": {},
   "source": [
    "## Example 2.1 - Frequency vs density histogram"
   ]
  },
  {
   "cell_type": "markdown",
   "metadata": {},
   "source": [
    "### The two histograms\n",
    "* before the histogram the \"summary\" R function gives various information on the dataset\n",
    "* for instance the fact that Mean >> Median reveal that it is not a symetric distribution\n",
    "* after the graphes, the variable h$density, gives the values used in the density graph"
   ]
  },
  {
   "cell_type": "code",
   "execution_count": 4,
   "metadata": {},
   "outputs": [
    {
     "data": {
      "text/html": [
       "'Summary of the Dataset'"
      ],
      "text/latex": [
       "'Summary of the Dataset'"
      ],
      "text/markdown": [
       "'Summary of the Dataset'"
      ],
      "text/plain": [
       "[1] \"Summary of the Dataset\""
      ]
     },
     "metadata": {},
     "output_type": "display_data"
    },
    {
     "data": {
      "text/plain": [
       "     Min.   1st Qu.    Median      Mean   3rd Qu.      Max. \n",
       " 0.000761  0.668422  1.577319  2.312863  3.182293 14.822667 "
      ]
     },
     "metadata": {},
     "output_type": "display_data"
    },
    {
     "data": {
      "text/html": [
       "'Values of the density'"
      ],
      "text/latex": [
       "'Values of the density'"
      ],
      "text/markdown": [
       "'Values of the density'"
      ],
      "text/plain": [
       "[1] \"Values of the density\""
      ]
     },
     "metadata": {},
     "output_type": "display_data"
    },
    {
     "data": {
      "text/html": [
       "<style>\n",
       ".list-inline {list-style: none; margin:0; padding: 0}\n",
       ".list-inline>li {display: inline-block}\n",
       ".list-inline>li:not(:last-child)::after {content: \"\\00b7\"; padding: 0 .5ex}\n",
       "</style>\n",
       "<ol class=list-inline><li>0.362</li><li>0.223</li><li>0.146</li><li>0.077</li><li>0.075</li><li>0.039</li><li>0.026</li><li>0.014</li><li>0.014</li><li>0.012</li><li>0.004</li><li>0.003</li><li>0.002</li><li>0.002</li><li>0.001</li></ol>\n"
      ],
      "text/latex": [
       "\\begin{enumerate*}\n",
       "\\item 0.362\n",
       "\\item 0.223\n",
       "\\item 0.146\n",
       "\\item 0.077\n",
       "\\item 0.075\n",
       "\\item 0.039\n",
       "\\item 0.026\n",
       "\\item 0.014\n",
       "\\item 0.014\n",
       "\\item 0.012\n",
       "\\item 0.004\n",
       "\\item 0.003\n",
       "\\item 0.002\n",
       "\\item 0.002\n",
       "\\item 0.001\n",
       "\\end{enumerate*}\n"
      ],
      "text/markdown": [
       "1. 0.362\n",
       "2. 0.223\n",
       "3. 0.146\n",
       "4. 0.077\n",
       "5. 0.075\n",
       "6. 0.039\n",
       "7. 0.026\n",
       "8. 0.014\n",
       "9. 0.014\n",
       "10. 0.012\n",
       "11. 0.004\n",
       "12. 0.003\n",
       "13. 0.002\n",
       "14. 0.002\n",
       "15. 0.001\n",
       "\n",
       "\n"
      ],
      "text/plain": [
       " [1] 0.362 0.223 0.146 0.077 0.075 0.039 0.026 0.014 0.014 0.012 0.004 0.003\n",
       "[13] 0.002 0.002 0.001"
      ]
     },
     "metadata": {},
     "output_type": "display_data"
    },
    {
     "data": {
      "image/png": "[encoded data removed]",
      "text/plain": [
       "Plot with title \"Histo / Density\""
      ]
     },
     "metadata": {
      "image/png": {
       "height": 420,
       "width": 420
      },
      "text/plain": {
       "height": 420,
       "width": 420
      }
     },
     "output_type": "display_data"
    }
   ],
   "source": [
    "A=rexp(1000,0.4) # exponential distribution\n",
    "sprintf(\"Summary of the Dataset\")\n",
    "summary(A) # various information on the sample\n",
    "# differece between histogram frequancy / density\n",
    "par(mfrow=c(1,2))\n",
    "hist(A, main=\"Histo / Frequency\") # frequency\n",
    "h=hist(A,main=\"Histo / Density\",freq=FALSE) # density\n",
    "sprintf(\"Values of the density\")\n",
    "h$density # density distribution\n",
    "\n"
   ]
  },
  {
   "cell_type": "markdown",
   "metadata": {},
   "source": [
    "### Case when frequency and density are not similar : non identical classes\n",
    "* here the classes do not all have the same length : 1,2,1"
   ]
  },
  {
   "cell_type": "code",
   "execution_count": 5,
   "metadata": {},
   "outputs": [
    {
     "name": "stderr",
     "output_type": "stream",
     "text": [
      "Warning message in plot.histogram(r, freq = freq1, col = col, border = border, angle = angle, :\n",
      "\"the AREAS in the plot are wrong -- rather use 'freq = FALSE'\"\n"
     ]
    },
    {
     "data": {
      "image/png": "[encoded data removed]",
      "text/plain": [
       "Plot with title \"Histo / Density\""
      ]
     },
     "metadata": {
      "image/png": {
       "height": 420,
       "width": 420
      },
      "text/plain": {
       "height": 420,
       "width": 420
      }
     },
     "output_type": "display_data"
    }
   ],
   "source": [
    "B=runif(1000,0,4)\n",
    "par(mfrow=c(2,2))\n",
    "hd=hist(B,breaks=c(0,1,3,4),freq = TRUE,main=\"Histo / Frequency\")\n",
    "hf=hist(B,breaks=c(0,1,3,4), freq = FALSE,main=\"Histo / Density\")"
   ]
  },
  {
   "cell_type": "markdown",
   "metadata": {},
   "source": [
    "## Example 2.2 - impact of size of classes on lambda calculation for exponential distribution\n",
    "* Four graphes with increasing values of the size of the classes : 5, 20, 50, 100\n"
   ]
  },
  {
   "cell_type": "code",
   "execution_count": 6,
   "metadata": {
    "scrolled": false
   },
   "outputs": [
    {
     "data": {
      "image/png": "[encoded data removed]",
      "text/plain": [
       "Plot with title \"size of the class = 100\""
      ]
     },
     "metadata": {
      "image/png": {
       "height": 420,
       "width": 420
      },
      "text/plain": {
       "height": 420,
       "width": 420
      }
     },
     "output_type": "display_data"
    }
   ],
   "source": [
    "C=rexp(100000,0.4)\n",
    "par(mfrow=c(2,2))\n",
    "hist(C,breaks=5,freq=FALSE,main=\"size of the class = 5\")\n",
    "hist(C,breaks=20,freq=FALSE,main=\"size of the class = 20\")\n",
    "hist(C,breaks=50,freq=FALSE,main=\"size of the class = 50\")\n",
    "hist(C,breaks=100,freq=FALSE,main=\"size of the class = 100\")"
   ]
  },
  {
   "cell_type": "markdown",
   "metadata": {},
   "source": [
    "## Exemple 2.3 - find the lambda parameter of an exponential distribution\n",
    "\n",
    "The simulation used is an exponential distribution with lambda = 4\n",
    "\n",
    "### First solution : use the first value of the density vector : not a good approximation"
   ]
  },
  {
   "cell_type": "code",
   "execution_count": 7,
   "metadata": {
    "scrolled": true
   },
   "outputs": [
    {
     "data": {
      "text/html": [
       "'First value of density vector : lambda = 0.420000'"
      ],
      "text/latex": [
       "'First value of density vector : lambda = 0.420000'"
      ],
      "text/markdown": [
       "'First value of density vector : lambda = 0.420000'"
      ],
      "text/plain": [
       "[1] \"First value of density vector : lambda = 0.420000\""
      ]
     },
     "metadata": {},
     "output_type": "display_data"
    }
   ],
   "source": [
    "A=rexp(1000,0.4)\n",
    "hh=hist(A,breaks=100,plot=FALSE)\n",
    "lambda_1 = hh$density[1] # density distribution - the first element of hh$density is an approximation of the estimator but ....\n",
    "sprintf(\"First value of density vector : lambda = %f\", lambda_1)\n"
   ]
  },
  {
   "cell_type": "markdown",
   "metadata": {},
   "source": [
    "### Better solution : lambda_2 = 1 / mean(dataset) <- moment methods"
   ]
  },
  {
   "cell_type": "code",
   "execution_count": 8,
   "metadata": {},
   "outputs": [
    {
     "data": {
      "text/html": [
       "'Moment methode : lambda_2 = 0.398411'"
      ],
      "text/latex": [
       "'Moment methode : lambda\\_2 = 0.398411'"
      ],
      "text/markdown": [
       "'Moment methode : lambda_2 = 0.398411'"
      ],
      "text/plain": [
       "[1] \"Moment methode : lambda_2 = 0.398411\""
      ]
     },
     "metadata": {},
     "output_type": "display_data"
    }
   ],
   "source": [
    "A=rexp(1000,0.4)\n",
    "lambda_2 = 1/mean(A)\n",
    "\n",
    "sprintf(\"Moment methode : lambda_2 = %f\", lambda_2)\n"
   ]
  },
  {
   "cell_type": "markdown",
   "metadata": {},
   "source": [
    "### Impact of the number of observation on the calcul of 1/mean(A) with A an exponential distribution\n",
    "* in red the approximation of lambda using 1/mean(A)\n",
    "* in blue the real value of lambda = 0.4"
   ]
  },
  {
   "cell_type": "code",
   "execution_count": 9,
   "metadata": {},
   "outputs": [
    {
     "data": {
      "image/png": "[encoded data removed]",
      "text/plain": [
       "Plot with title \"Lambda value related to number of observation\""
      ]
     },
     "metadata": {
      "image/png": {
       "height": 420,
       "width": 420
      },
      "text/plain": {
       "height": 420,
       "width": 420
      }
     },
     "output_type": "display_data"
    }
   ],
   "source": [
    "A=rexp(1000,0.4)\n",
    "#length(A) # number of values in A\n",
    "sumx=cumsum(A) # x1, x1+x2,x1+x2+x3 ...to calculate meanA for 1,2,3 ... element\n",
    "barx=sumx/1:1000 # division a vector by a vector - division terme by term\n",
    "esti_lambda = 1 / barx\n",
    "par(mfrow=c(1,1))\n",
    "plot(1:1000,esti_lambda,type='l',col='red',xlim=c(0,1001),ylim=c(0.2,0.6),main=\"Lambda value related to number of observation\",xlab=\"n° of observation\",ylab=\"lambda\") # evolution of lambda estimation in fn of sample size\n",
    "par(new=TRUE)\n",
    "plot(c(0,1000),c(0.4,0.4),type='l',col='blue',xlim=c(0,1001),ylim=c(0.2,0.6),xlab=\"\",ylab=\"\") # in blue the \"real\" value\n",
    "legend(\"topright\" ,legend=c(\"Calculated lambda\", \"Real Lambda\"), col=c(\"red\", \"blue\",\"green\"),lty = 1)\n",
    "\n"
   ]
  },
  {
   "cell_type": "markdown",
   "metadata": {},
   "source": [
    "## Example 2.4 - 3 distribution graphes\n",
    "* exponential distribution\n",
    "* normal distribution\n",
    "* uniforme distribution"
   ]
  },
  {
   "cell_type": "code",
   "execution_count": 10,
   "metadata": {},
   "outputs": [
    {
     "data": {
      "image/png": "[encoded data removed]",
      "text/plain": [
       "Plot with title \"Uniform distribution\""
      ]
     },
     "metadata": {
      "image/png": {
       "height": 420,
       "width": 420
      },
      "text/plain": {
       "height": 420,
       "width": 420
      }
     },
     "output_type": "display_data"
    }
   ],
   "source": [
    "par(mfrow=c(2,2))\n",
    "x=seq(-10,10,0.01)\n",
    "plot(x,dexp(x,0.4),type='l',col='red',main=\"Exponential distribution\") # exponential distribution\n",
    "plot(x,dnorm(x,2,0.5),type='l',col='red',main=\"Normal distribution\") # normal distribution\n",
    "plot(x,dunif(x,-3,5),type='l',col='red',main=\"Uniform distribution\") # uniform distribution"
   ]
  },
  {
   "cell_type": "markdown",
   "metadata": {},
   "source": [
    "# Day 3\n",
    "## Exemple 3.1 - Difference of distribution between Gaussian and Student\n",
    "* Gaussian (normal distibution) in red\n",
    "* Student (number of degree of liberty 2) in blue"
   ]
  },
  {
   "cell_type": "code",
   "execution_count": 11,
   "metadata": {},
   "outputs": [
    {
     "data": {
      "image/png": "[encoded data removed]",
      "text/plain": [
       "Plot with title \"Gaussian and Student Distribution\""
      ]
     },
     "metadata": {
      "image/png": {
       "height": 420,
       "width": 420
      },
      "text/plain": {
       "height": 420,
       "width": 420
      }
     },
     "output_type": "display_data"
    }
   ],
   "source": [
    "\n",
    "x=seq(-5,5,0.01)\n",
    "y=dnorm(x)\n",
    "t=dt(x,2)\n",
    "maxy=max(y,t)\n",
    "plot(x,y,type='l',col='red',xlim=c(-5,5),ylim=c(0,maxy),main=\"Gaussian and Student Distribution\")\n",
    "par(new=TRUE)\n",
    "plot(x,t,type='l',col='blue',xlim=c(-5,5),ylim=c(0,maxy))\n",
    "legend(\"topleft\" ,legend=c(\"Gaussian\", \"Student\"), col=c(\"red\", \"blue\"),lty = 1)\n"
   ]
  },
  {
   "cell_type": "markdown",
   "metadata": {},
   "source": [
    "## Example 3.2 - using R to compute Gaussian and Student Probabilies\n",
    "    * pnorm (Gaussian), pt (Student) to get a probability knowing a value for the R.V\n",
    "    * qnorm (Gaussian), qt (Student) to get a R.V value knowing the probability\n",
    "    * take care, pnorm/qnorm use standard deviation and not variance as third parameter"
   ]
  },
  {
   "cell_type": "code",
   "execution_count": 12,
   "metadata": {
    "scrolled": true
   },
   "outputs": [
    {
     "data": {
      "text/html": [
       "'P(-0.28 &lt;= Z &lt;= 0.57) for N(0,1) = 0.325922'"
      ],
      "text/latex": [
       "'P(-0.28 <= Z <= 0.57) for N(0,1) = 0.325922'"
      ],
      "text/markdown": [
       "'P(-0.28 &lt;= Z &lt;= 0.57) for N(0,1) = 0.325922'"
      ],
      "text/plain": [
       "[1] \"P(-0.28 <= Z <= 0.57) for N(0,1) = 0.325922\""
      ]
     },
     "metadata": {},
     "output_type": "display_data"
    },
    {
     "data": {
      "text/html": [
       "'P(-0.2 &lt;= Z &lt;= 1.2) for N(1,4) = 0.265575'"
      ],
      "text/latex": [
       "'P(-0.2 <= Z <= 1.2) for N(1,4) = 0.265575'"
      ],
      "text/markdown": [
       "'P(-0.2 &lt;= Z &lt;= 1.2) for N(1,4) = 0.265575'"
      ],
      "text/plain": [
       "[1] \"P(-0.2 <= Z <= 1.2) for N(1,4) = 0.265575\""
      ]
     },
     "metadata": {},
     "output_type": "display_data"
    },
    {
     "data": {
      "text/html": [
       "'P(-0.271 &lt;= Z &lt;= 0.271) for T(4) = 0.200199'"
      ],
      "text/latex": [
       "'P(-0.271 <= Z <= 0.271) for T(4) = 0.200199'"
      ],
      "text/markdown": [
       "'P(-0.271 &lt;= Z &lt;= 0.271) for T(4) = 0.200199'"
      ],
      "text/plain": [
       "[1] \"P(-0.271 <= Z <= 0.271) for T(4) = 0.200199\""
      ]
     },
     "metadata": {},
     "output_type": "display_data"
    },
    {
     "data": {
      "text/html": [
       "'P(0,414 &lt;= Z &lt;= 1.19) for T(4) = 0.200131'"
      ],
      "text/latex": [
       "'P(0,414 <= Z <= 1.19) for T(4) = 0.200131'"
      ],
      "text/markdown": [
       "'P(0,414 &lt;= Z &lt;= 1.19) for T(4) = 0.200131'"
      ],
      "text/plain": [
       "[1] \"P(0,414 <= Z <= 1.19) for T(4) = 0.200131\""
      ]
     },
     "metadata": {},
     "output_type": "display_data"
    },
    {
     "data": {
      "text/html": [
       "'t so that P( Z &lt;= t) = 0,95 for N(0,1), t = 1.644854'"
      ],
      "text/latex": [
       "'t so that P( Z <= t) = 0,95 for N(0,1), t = 1.644854'"
      ],
      "text/markdown": [
       "'t so that P( Z &lt;= t) = 0,95 for N(0,1), t = 1.644854'"
      ],
      "text/plain": [
       "[1] \"t so that P( Z <= t) = 0,95 for N(0,1), t = 1.644854\""
      ]
     },
     "metadata": {},
     "output_type": "display_data"
    },
    {
     "data": {
      "text/html": [
       "'t so that P( Z &lt;= t) = 0,95 for N(1,4), t = 4.289707'"
      ],
      "text/latex": [
       "'t so that P( Z <= t) = 0,95 for N(1,4), t = 4.289707'"
      ],
      "text/markdown": [
       "'t so that P( Z &lt;= t) = 0,95 for N(1,4), t = 4.289707'"
      ],
      "text/plain": [
       "[1] \"t so that P( Z <= t) = 0,95 for N(1,4), t = 4.289707\""
      ]
     },
     "metadata": {},
     "output_type": "display_data"
    }
   ],
   "source": [
    "# P(-0.28 <= Z <= 0.57)\n",
    "sprintf (\"P(-0.28 <= Z <= 0.57) for N(0,1) = %f\" , pnorm(0.57)-pnorm(-0.28))\n",
    "sprintf (\"P(-0.2 <= Z <= 1.2) for N(1,4) = %f\" , pnorm(1.2,1,2)-pnorm(-0.2,1,2))\n",
    "\n",
    "sprintf (\"P(-0.271 <= Z <= 0.271) for T(4) = %f\" , pt(0.271,4)-pt(-0.271,4))\n",
    "sprintf (\"P(0,414 <= Z <= 1.19) for T(4) = %f\" , pt(1.19,4)-pt(0.414,4))\n",
    "\n",
    "sprintf (\"t so that P( Z <= t) = 0,95 for N(0,1), t = %f\" , qnorm(0.95))\n",
    "sprintf (\"t so that P( Z <= t) = 0,95 for N(1,4), t = %f\" , qnorm(0.95,1,2))\n"
   ]
  },
  {
   "cell_type": "markdown",
   "metadata": {},
   "source": [
    "## Example 3.3 - Compare Student distribution when the degree of freedom is changing\n",
    "* comparaison with 2,4 and 10 degree of freedom"
   ]
  },
  {
   "cell_type": "code",
   "execution_count": 13,
   "metadata": {
    "scrolled": false
   },
   "outputs": [
    {
     "data": {
      "text/html": [
       "<span style=white-space:pre-wrap>'value for which Probability for Student T(2) = 0.95 :  t= 1.885618'</span>"
      ],
      "text/latex": [
       "'value for which Probability for Student T(2) = 0.95 :  t= 1.885618'"
      ],
      "text/markdown": [
       "<span style=white-space:pre-wrap>'value for which Probability for Student T(2) = 0.95 :  t= 1.885618'</span>"
      ],
      "text/plain": [
       "[1] \"value for which Probability for Student T(2) = 0.95 :  t= 1.885618\""
      ]
     },
     "metadata": {},
     "output_type": "display_data"
    },
    {
     "data": {
      "text/html": [
       "<span style=white-space:pre-wrap>'value for which Probability for Student T(2) = 0.95 :  t= 1.533206'</span>"
      ],
      "text/latex": [
       "'value for which Probability for Student T(2) = 0.95 :  t= 1.533206'"
      ],
      "text/markdown": [
       "<span style=white-space:pre-wrap>'value for which Probability for Student T(2) = 0.95 :  t= 1.533206'</span>"
      ],
      "text/plain": [
       "[1] \"value for which Probability for Student T(2) = 0.95 :  t= 1.533206\""
      ]
     },
     "metadata": {},
     "output_type": "display_data"
    },
    {
     "data": {
      "text/html": [
       "<span style=white-space:pre-wrap>'value for which Probability for Student T(2) = 0.95 :  t= 1.372184'</span>"
      ],
      "text/latex": [
       "'value for which Probability for Student T(2) = 0.95 :  t= 1.372184'"
      ],
      "text/markdown": [
       "<span style=white-space:pre-wrap>'value for which Probability for Student T(2) = 0.95 :  t= 1.372184'</span>"
      ],
      "text/plain": [
       "[1] \"value for which Probability for Student T(2) = 0.95 :  t= 1.372184\""
      ]
     },
     "metadata": {},
     "output_type": "display_data"
    },
    {
     "data": {
      "image/png": "[encoded data removed]",
      "text/plain": [
       "Plot with title \"Student Distribution with different degrees of freedom\""
      ]
     },
     "metadata": {
      "image/png": {
       "height": 420,
       "width": 420
      },
      "text/plain": {
       "height": 420,
       "width": 420
      }
     },
     "output_type": "display_data"
    }
   ],
   "source": [
    "x=seq(-5,5,0.01)\n",
    "y2=dt(x,2)\n",
    "y4=dt(x,4)\n",
    "y10=dt(x,10)\n",
    "maxy=max(y2,y4,y10)\n",
    "plot(x,y2,type='l',col='red',xlim=c(-5,5),ylim=c(0,maxy),ylab=\"y\",main=\"Student Distribution with different degrees of freedom\")\n",
    "par(new=TRUE)\n",
    "plot(x,y4,type='l',col='blue',xlim=c(-5,5),ylim=c(0,maxy),xlab=\"\",ylab=\"\")\n",
    "par(new=TRUE)\n",
    "plot(x,y10,type='l',col='green',xlim=c(-5,5),ylim=c(0,maxy),xlab=\"\",ylab=\"\")\n",
    "legend(\"topleft\" ,legend=c(\"T(2)\", \"T(4)\",\"T(10)\"), col=c(\"red\", \"blue\",\"green\"),lty = 1)\n",
    "sprintf(\"value for which Probability for Student T(2) = 0.95 :  t= %f\",qt(0.9,2))\n",
    "sprintf(\"value for which Probability for Student T(2) = 0.95 :  t= %f\",qt(0.9,4))\n",
    "sprintf(\"value for which Probability for Student T(2) = 0.95 :  t= %f\",qt(0.9,10))\n"
   ]
  },
  {
   "cell_type": "markdown",
   "metadata": {},
   "source": [
    "## Exemple 3.4 - Showing that the Mean of a dataset can be outside of the calculated Confidence Interval\n",
    "* but with a probability linked to the choice of alpha\n",
    "* in the example, the simulation is a Normal distribution (mu=1,sd=2) and alpha = 0.05\n",
    "* we suppose that the variance = 4 is known\n",
    "* we run the simulation 100 times and check the number of times that mu is out of the calculated CI"
   ]
  },
  {
   "cell_type": "code",
   "execution_count": 14,
   "metadata": {
    "scrolled": true
   },
   "outputs": [
    {
     "data": {
      "text/html": [
       "'mu is out of CI 4 times over 100. The maximum should be : 5 times'"
      ],
      "text/latex": [
       "'mu is out of CI 4 times over 100. The maximum should be : 5 times'"
      ],
      "text/markdown": [
       "'mu is out of CI 4 times over 100. The maximum should be : 5 times'"
      ],
      "text/plain": [
       "[1] \"mu is out of CI 4 times over 100. The maximum should be : 5 times\""
      ]
     },
     "metadata": {},
     "output_type": "display_data"
    }
   ],
   "source": [
    "#if you run it several times, you can have mu out of CI \n",
    "K=100\n",
    "M=matrix(data=0,ncol=2,nrow=K) # one CI by row\n",
    "for (i in 1:K)\n",
    "{\n",
    "  data=rnorm(1000,2,1) # normal mu=2 sd= 1\n",
    "  # alpha = 5%, sd is known\n",
    "  lowerbound = mean(data)-1/sqrt(1000)*qnorm(0.975)\n",
    "  upperbound = mean(data)+1/sqrt(1000)*qnorm(0.975)\n",
    "  CI =c(lowerbound,upperbound)\n",
    "  M[i,]=CI\n",
    "}\n",
    "#M # we should have at most 5% of cases where mu outside of CI# counting when we are outside\n",
    "B=(M[,1]>2)+(M[,2]<2)\n",
    "sprintf(\"mu is out of CI %i times over %i. The maximum should be : %i times\",sum(B),K,5) #number of sample where mu out of CI\n",
    "\n",
    "\n"
   ]
  },
  {
   "cell_type": "markdown",
   "metadata": {},
   "source": [
    "## Example 3.5 - Is Max(Xi) a good approximation for N in a Binomail distribution(N,p) (as it is for Uniform Distribution)\n",
    "* we simulate 10000 Binomial distribution sample (10,p) for p=0.8 and p=0.2\n",
    "* for p=0.8, the Max(Xi) estimator is good (very close to 10)\n",
    "* for p=0.2, the Max(Xi) estimator is not good\n",
    "* the estimator is not good for p=0.2 because the probability to have a 10 value among the 10000 observations is very low"
   ]
  },
  {
   "cell_type": "code",
   "execution_count": 15,
   "metadata": {},
   "outputs": [
    {
     "data": {
      "text/html": [
       "'estimator of N (=10) for Binomial(10,0.8) : 10.000000 - very good'"
      ],
      "text/latex": [
       "'estimator of N (=10) for Binomial(10,0.8) : 10.000000 - very good'"
      ],
      "text/markdown": [
       "'estimator of N (=10) for Binomial(10,0.8) : 10.000000 - very good'"
      ],
      "text/plain": [
       "[1] \"estimator of N (=10) for Binomial(10,0.8) : 10.000000 - very good\""
      ]
     },
     "metadata": {},
     "output_type": "display_data"
    },
    {
     "data": {
      "text/html": [
       "'estimator of N (=10) for Binomial(10,0.2) : 7.000000 - not good'"
      ],
      "text/latex": [
       "'estimator of N (=10) for Binomial(10,0.2) : 7.000000 - not good'"
      ],
      "text/markdown": [
       "'estimator of N (=10) for Binomial(10,0.2) : 7.000000 - not good'"
      ],
      "text/plain": [
       "[1] \"estimator of N (=10) for Binomial(10,0.2) : 7.000000 - not good\""
      ]
     },
     "metadata": {},
     "output_type": "display_data"
    },
    {
     "data": {
      "text/html": [
       "'Probability to reach to have a sample = 10 with p=0.2 is very low : 0.001024'"
      ],
      "text/latex": [
       "'Probability to reach to have a sample = 10 with p=0.2 is very low : 0.001024'"
      ],
      "text/markdown": [
       "'Probability to reach to have a sample = 10 with p=0.2 is very low : 0.001024'"
      ],
      "text/plain": [
       "[1] \"Probability to reach to have a sample = 10 with p=0.2 is very low : 0.001024\""
      ]
     },
     "metadata": {},
     "output_type": "display_data"
    }
   ],
   "source": [
    "#binomial\n",
    "D1=rbinom(10000,10,0.8) # N=10\n",
    "sprintf(\"estimator of N (=10) for Binomial(10,0.8) : %f - very good\",max(D1)) # ok\n",
    "D2=rbinom(10000,10,0.2)\n",
    "sprintf(\"estimator of N (=10) for Binomial(10,0.2) : %f - not good\",max(D2)) # ok\n",
    "sprintf(\"Probability to reach to have a sample = 10 with p=0.2 is very low : %f\",0.2^10*10000) # ok\n"
   ]
  },
  {
   "cell_type": "markdown",
   "metadata": {},
   "source": [
    "# Day 4\n",
    "## Example 4.1 Modelisation of dataset data1.txt\n",
    "\n",
    "### Access to the file"
   ]
  },
  {
   "cell_type": "code",
   "execution_count": 16,
   "metadata": {
    "scrolled": true
   },
   "outputs": [
    {
     "data": {
      "text/html": [
       "'C:/Users/erick/OneDrive - Data ScienceTech Institute/course/FSML2/R samples'"
      ],
      "text/latex": [
       "'C:/Users/erick/OneDrive - Data ScienceTech Institute/course/FSML2/R samples'"
      ],
      "text/markdown": [
       "'C:/Users/erick/OneDrive - Data ScienceTech Institute/course/FSML2/R samples'"
      ],
      "text/plain": [
       "[1] \"C:/Users/erick/OneDrive - Data ScienceTech Institute/course/FSML2/R samples\""
      ]
     },
     "metadata": {},
     "output_type": "display_data"
    }
   ],
   "source": [
    "getwd() # folder used at the moment\n",
    "# to modify the default header : setwd(filename)\n",
    "# dir() # to see the content of the current directory"
   ]
  },
  {
   "cell_type": "markdown",
   "metadata": {},
   "source": [
    "### use of read.table to read a file\n",
    "* data1 is a data.frame (works as a list)\n",
    "* use \"header=TRUE or header = FALSE\" depending if you have header in the file\n",
    "* in our case there is no header => header = FALSE\n",
    "* argument \"set=\" to fixe separator. For instance set=\";\" for a \";\" separator\n",
    "* in R by default the \".\" is used as a decimal separator. To change it dec = ','"
   ]
  },
  {
   "cell_type": "code",
   "execution_count": 17,
   "metadata": {
    "scrolled": true
   },
   "outputs": [
    {
     "data": {
      "text/html": [
       "<table>\n",
       "<caption>A data.frame: 6 × 1</caption>\n",
       "<thead>\n",
       "\t<tr><th></th><th scope=col>V1</th></tr>\n",
       "\t<tr><th></th><th scope=col>&lt;dbl&gt;</th></tr>\n",
       "</thead>\n",
       "<tbody>\n",
       "\t<tr><th scope=row>1</th><td>0.5792213</td></tr>\n",
       "\t<tr><th scope=row>2</th><td>1.7901780</td></tr>\n",
       "\t<tr><th scope=row>3</th><td>0.3182912</td></tr>\n",
       "\t<tr><th scope=row>4</th><td>1.5247270</td></tr>\n",
       "\t<tr><th scope=row>5</th><td>2.2034720</td></tr>\n",
       "\t<tr><th scope=row>6</th><td>0.5783241</td></tr>\n",
       "</tbody>\n",
       "</table>\n"
      ],
      "text/latex": [
       "A data.frame: 6 × 1\n",
       "\\begin{tabular}{r|l}\n",
       "  & V1\\\\\n",
       "  & <dbl>\\\\\n",
       "\\hline\n",
       "\t1 & 0.5792213\\\\\n",
       "\t2 & 1.7901780\\\\\n",
       "\t3 & 0.3182912\\\\\n",
       "\t4 & 1.5247270\\\\\n",
       "\t5 & 2.2034720\\\\\n",
       "\t6 & 0.5783241\\\\\n",
       "\\end{tabular}\n"
      ],
      "text/markdown": [
       "\n",
       "A data.frame: 6 × 1\n",
       "\n",
       "| <!--/--> | V1 &lt;dbl&gt; |\n",
       "|---|---|\n",
       "| 1 | 0.5792213 |\n",
       "| 2 | 1.7901780 |\n",
       "| 3 | 0.3182912 |\n",
       "| 4 | 1.5247270 |\n",
       "| 5 | 2.2034720 |\n",
       "| 6 | 0.5783241 |\n",
       "\n"
      ],
      "text/plain": [
       "  V1       \n",
       "1 0.5792213\n",
       "2 1.7901780\n",
       "3 0.3182912\n",
       "4 1.5247270\n",
       "5 2.2034720\n",
       "6 0.5783241"
      ]
     },
     "metadata": {},
     "output_type": "display_data"
    }
   ],
   "source": [
    "data1 <- read.table(\"data1.txt\", header = FALSE, sep = \",\")\n",
    "head(data1) # check that data's are ok"
   ]
  },
  {
   "cell_type": "markdown",
   "metadata": {},
   "source": [
    "* To access to the first observation within the data1 data.frame"
   ]
  },
  {
   "cell_type": "code",
   "execution_count": 18,
   "metadata": {},
   "outputs": [
    {
     "data": {
      "text/html": [
       "'First row of dataset : 0.579221'"
      ],
      "text/latex": [
       "'First row of dataset : 0.579221'"
      ],
      "text/markdown": [
       "'First row of dataset : 0.579221'"
      ],
      "text/plain": [
       "[1] \"First row of dataset : 0.579221\""
      ]
     },
     "metadata": {},
     "output_type": "display_data"
    }
   ],
   "source": [
    "sprintf(\"First row of dataset : %f\",data1[1,])"
   ]
  },
  {
   "cell_type": "markdown",
   "metadata": {},
   "source": [
    "* To Get the size of the dataset"
   ]
  },
  {
   "cell_type": "code",
   "execution_count": 19,
   "metadata": {
    "scrolled": true
   },
   "outputs": [
    {
     "data": {
      "text/html": [
       "'dimension of the dataset data1.txt : 5000 observations'"
      ],
      "text/latex": [
       "'dimension of the dataset data1.txt : 5000 observations'"
      ],
      "text/markdown": [
       "'dimension of the dataset data1.txt : 5000 observations'"
      ],
      "text/plain": [
       "[1] \"dimension of the dataset data1.txt : 5000 observations\""
      ]
     },
     "metadata": {},
     "output_type": "display_data"
    }
   ],
   "source": [
    "sprintf(\"dimension of the dataset data1.txt : %i observations\", dim(data1)[1])\n"
   ]
  },
  {
   "cell_type": "markdown",
   "metadata": {},
   "source": [
    "### Looking at the datas we found that we have a quantitative and continuous variable\n",
    "\n",
    "* the histogramme will be the correct representation\n",
    "* as.matrix() transform the object into a matrix"
   ]
  },
  {
   "cell_type": "code",
   "execution_count": 20,
   "metadata": {},
   "outputs": [
    {
     "data": {
      "image/png": "[encoded data removed]",
      "text/plain": [
       "Plot with title \"histogram for dataset data1.txt\""
      ]
     },
     "metadata": {
      "image/png": {
       "height": 420,
       "width": 420
      },
      "text/plain": {
       "height": 420,
       "width": 420
      }
     },
     "output_type": "display_data"
    }
   ],
   "source": [
    "mdata1 = as.matrix(data1)\n",
    "hist(mdata1,freq = FALSE,main=\"histogram for dataset data1.txt\")\n",
    "\n",
    "\n"
   ]
  },
  {
   "cell_type": "markdown",
   "metadata": {},
   "source": [
    "### We guess that it can be an exponential distribution\n",
    "* we need to estimate the parameter lambda\n",
    "* by method of moments an estimator lambda_1 = 1/mean(Xi)"
   ]
  },
  {
   "cell_type": "code",
   "execution_count": 21,
   "metadata": {},
   "outputs": [
    {
     "data": {
      "text/html": [
       "'An estimator lambda = 0.757914'"
      ],
      "text/latex": [
       "'An estimator lambda = 0.757914'"
      ],
      "text/markdown": [
       "'An estimator lambda = 0.757914'"
      ],
      "text/plain": [
       "[1] \"An estimator lambda = 0.757914\""
      ]
     },
     "metadata": {},
     "output_type": "display_data"
    }
   ],
   "source": [
    "lambda_1 = 1/mean(mdata1)\n",
    "sprintf(\"An estimator lambda = %f\",lambda_1)\n"
   ]
  },
  {
   "cell_type": "markdown",
   "metadata": {},
   "source": [
    "### Compare Theory and Practice"
   ]
  },
  {
   "cell_type": "code",
   "execution_count": 22,
   "metadata": {},
   "outputs": [
    {
     "data": {
      "image/png": "[encoded data removed]",
      "text/plain": [
       "Plot with title \"comparison between histogram of data1 and exponential distribution\""
      ]
     },
     "metadata": {
      "image/png": {
       "height": 420,
       "width": 420
      },
      "text/plain": {
       "height": 420,
       "width": 420
      }
     },
     "output_type": "display_data"
    }
   ],
   "source": [
    "H=hist(mdata1,plot=FALSE)\n",
    "limits = H$breaks\n",
    "infl=min(limits) # minimum value of the dataset\n",
    "subl=max(limits) # maximum value of the dataset\n",
    "x=seq(infl,subl,0.01) #step small enough to have something smooth\n",
    "yt=dexp(x,lambda_1) # theorical exponential distribution\n",
    "yh=h$density\n",
    "ymax=max(yt,yh)\n",
    "hist(mdata1,freq=FALSE,xlim=c(infl,subl),ylim=c(0,ymax),main=\"comparison between histogram of data1 and exponential distribution\")\n",
    "par(new=TRUE)\n",
    "plot(x,yt,type='l',col='red',xlim=c(infl,subl),ylim=c(0,ymax)) # exponential distribution\n",
    "legend(\"topright\" ,legend=c(\"Dataset\", \"Exponential\"), col=c(\"black\", \"red\"),lty = 1)\n",
    "\n"
   ]
  },
  {
   "cell_type": "markdown",
   "metadata": {},
   "source": [
    "### The fit is good unless close to 0\n",
    "* so we split the first classes and group the last ones to have a better graph"
   ]
  },
  {
   "cell_type": "code",
   "execution_count": 23,
   "metadata": {
    "scrolled": true
   },
   "outputs": [
    {
     "data": {
      "image/png": "[encoded data removed]",
      "text/plain": [
       "Plot with title \"comparison between histogram of data1 and exponential distribution\""
      ]
     },
     "metadata": {
      "image/png": {
       "height": 420,
       "width": 420
      },
      "text/plain": {
       "height": 420,
       "width": 420
      }
     },
     "output_type": "display_data"
    }
   ],
   "source": [
    "H=hist(mdata1,plot=FALSE)\n",
    "limits = H$breaks\n",
    "infl=min(limits)\n",
    "subl=max(limits)\n",
    "x=seq(infl,subl,0.01) #step small enough to have something smooth\n",
    "yt=dexp(x,lambda_1)\n",
    "yh=h$density\n",
    "ymax=max(yt,yh)\n",
    "hist(mdata1,breaks=c(0,0.3,0.6,0.9,1.2,1.5,2,3,4,6,12),freq=FALSE,xlim=c(infl,subl),ylim=c(0,ymax),main=\"comparison between histogram of data1 and exponential distribution\")\n",
    "par(new=TRUE)\n",
    "plot(x,yt,type='l',col='red',xlim=c(infl,subl),ylim=c(0,ymax)) # exponential distribution\n",
    "legend(\"topright\" ,legend=c(\"Dataset\", \"Exponential\"), col=c(\"black\", \"red\"),lty = 1)\n"
   ]
  },
  {
   "cell_type": "markdown",
   "metadata": {},
   "source": [
    "### Conclusion : our chose of an exponential distribution as a model seems to be ok"
   ]
  },
  {
   "cell_type": "markdown",
   "metadata": {},
   "source": [
    "## Example 4.2 Modelisation of dataset data2.txt\n",
    "\n",
    "### Looking at the datas we found that we have a quantitative and discrete variable\n"
   ]
  },
  {
   "cell_type": "markdown",
   "metadata": {},
   "source": [
    "* discrete values => barplot\n",
    "* the table function : count the occurences of each value / number of observation\n"
   ]
  },
  {
   "cell_type": "code",
   "execution_count": 24,
   "metadata": {},
   "outputs": [
    {
     "data": {
      "text/html": [
       "'dimension of the dataset data2.txt : 500 observations'"
      ],
      "text/latex": [
       "'dimension of the dataset data2.txt : 500 observations'"
      ],
      "text/markdown": [
       "'dimension of the dataset data2.txt : 500 observations'"
      ],
      "text/plain": [
       "[1] \"dimension of the dataset data2.txt : 500 observations\""
      ]
     },
     "metadata": {},
     "output_type": "display_data"
    },
    {
     "data": {
      "image/png": "[encoded data removed]",
      "text/plain": [
       "Plot with title \"barplot for dataset data2.txt\""
      ]
     },
     "metadata": {
      "image/png": {
       "height": 420,
       "width": 420
      },
      "text/plain": {
       "height": 420,
       "width": 420
      }
     },
     "output_type": "display_data"
    }
   ],
   "source": [
    "# dataset 2\n",
    "data2 <- read.table(\"data2.txt\", header = FALSE, sep = \",\")\n",
    "count=table(data2)\n",
    "sprintf(\"dimension of the dataset data2.txt : %i observations\", dim(data2)[1])\n",
    "mdata2 = as.matrix(data2)\n",
    "barplot(count / 500, main=\"barplot for dataset data2.txt\")\n"
   ]
  },
  {
   "cell_type": "markdown",
   "metadata": {},
   "source": [
    "### We guess that it can be either a binomial or a poisson distribution\n",
    "\n",
    "* For Poisson, by method of moments, an estimator lambda_p is empirical mean\n",
    "* For Binomial, by method of moment :\n",
    "    1. p_b = (mu-var)/mu, \n",
    "    2. N_b =mu^2/(mu-var) - take care, N must be an insteger\n"
   ]
  },
  {
   "cell_type": "code",
   "execution_count": 25,
   "metadata": {},
   "outputs": [
    {
     "data": {
      "text/html": [
       "'The lambda_p estimator for Poisson distribution = 2.022000'"
      ],
      "text/latex": [
       "'The lambda\\_p estimator for Poisson distribution = 2.022000'"
      ],
      "text/markdown": [
       "'The lambda_p estimator for Poisson distribution = 2.022000'"
      ],
      "text/plain": [
       "[1] \"The lambda_p estimator for Poisson distribution = 2.022000\""
      ]
     },
     "metadata": {},
     "output_type": "display_data"
    },
    {
     "data": {
      "text/html": [
       "'The p_b and N_b estimators for binomial distribution are : p_b = 0.154830 and N_b = 13.059490'"
      ],
      "text/latex": [
       "'The p\\_b and N\\_b estimators for binomial distribution are : p\\_b = 0.154830 and N\\_b = 13.059490'"
      ],
      "text/markdown": [
       "'The p_b and N_b estimators for binomial distribution are : p_b = 0.154830 and N_b = 13.059490'"
      ],
      "text/plain": [
       "[1] \"The p_b and N_b estimators for binomial distribution are : p_b = 0.154830 and N_b = 13.059490\""
      ]
     },
     "metadata": {},
     "output_type": "display_data"
    },
    {
     "data": {
      "text/html": [
       "'Since N_b must be an integer, the new value will be N_b = 13 and p_b must be recalculated with this value'"
      ],
      "text/latex": [
       "'Since N\\_b must be an integer, the new value will be N\\_b = 13 and p\\_b must be recalculated with this value'"
      ],
      "text/markdown": [
       "'Since N_b must be an integer, the new value will be N_b = 13 and p_b must be recalculated with this value'"
      ],
      "text/plain": [
       "[1] \"Since N_b must be an integer, the new value will be N_b = 13 and p_b must be recalculated with this value\""
      ]
     },
     "metadata": {},
     "output_type": "display_data"
    },
    {
     "data": {
      "text/html": [
       "'The new value of p_b is 0.155538'"
      ],
      "text/latex": [
       "'The new value of p\\_b is 0.155538'"
      ],
      "text/markdown": [
       "'The new value of p_b is 0.155538'"
      ],
      "text/plain": [
       "[1] \"The new value of p_b is 0.155538\""
      ]
     },
     "metadata": {},
     "output_type": "display_data"
    }
   ],
   "source": [
    "lambda_p = mean(as.matrix(data2)) # an estimation - associated value to an estimator\n",
    "sprintf(\"The lambda_p estimator for Poisson distribution = %f\",lambda_p)\n",
    "\n",
    "p_b = (mean(mdata2)-var(mdata2))/mean(mdata2)\n",
    "N_b = mean(mdata2)/p_b # must be an integer\n",
    "sprintf(\"The p_b and N_b estimators for binomial distribution are : p_b = %f and N_b = %f\",p_b,N_b)\n",
    "sprintf(\"Since N_b must be an integer, the new value will be N_b = 13 and p_b must be recalculated with this value\")\n",
    "N_b = 13\n",
    "p_b = mean(mdata2)/N_b\n",
    "sprintf(\"The new value of p_b is %f\",p_b)\n"
   ]
  },
  {
   "cell_type": "markdown",
   "metadata": {},
   "source": [
    "### We do graphical superposition to choose between Poisson and Binomial and compare the theory with the given dataset data2"
   ]
  },
  {
   "cell_type": "code",
   "execution_count": 26,
   "metadata": {
    "scrolled": false
   },
   "outputs": [
    {
     "data": {
      "text/plain": [
       "data2\n",
       "  0   1   2   3   4   5   6 \n",
       " 62 119 152 105  41  17   4 "
      ]
     },
     "metadata": {},
     "output_type": "display_data"
    },
    {
     "data": {
      "image/png": "[encoded data removed]",
      "text/plain": [
       "plot without title"
      ]
     },
     "metadata": {
      "image/png": {
       "height": 420,
       "width": 420
      },
      "text/plain": {
       "height": 420,
       "width": 420
      }
     },
     "output_type": "display_data"
    }
   ],
   "source": [
    "reality = count/500\n",
    "plot(0:6,reality,col='red',type='p',xlim=c(0,13),ylim=c(0,0.4),xlab=\"values\",ylab=\"density\")\n",
    "\n",
    "xx=0:N_b\n",
    "par(new=TRUE)\n",
    "Bin = dbinom(xx,N_b,p_b)\n",
    "count_bin = table(Bin)\n",
    "plot(xx,Bin,col='blue',type='p',xlim=c(0,13),ylim=c(0,0.4),xlab=\"\",ylab=\"\")\n",
    "\n",
    "par(new=TRUE)\n",
    "x=0:N_b\n",
    "Pois = dpois(x,lambda_p)\n",
    "count_pois = table(Pois)\n",
    "#barplot(count_pois / 5000, col = 'blue')\n",
    "plot(x,Pois,col='green',type='p',xlim=c(0,13),ylim=c(0,0.4),xlab=\"\",ylab=\"\")\n",
    "legend(\"toprigh\" ,legend=c(\"Dataset\", \"Binomial\",\"Poisson\"), col=c(\"red\", \"blue\",\"green\"),pch = c(1,1,1))\n",
    "\n",
    "\n"
   ]
  },
  {
   "cell_type": "markdown",
   "metadata": {},
   "source": [
    "### Binomial is closer to the dataset so we choose the Binomial Distribution with p = 0.1555 and N = 13\n",
    "\n",
    "* Difficult to choose between Poison and Binomial because Poison can be an approximation of Binomial\n",
    "\n",
    "* Practicaly, it is easely to use Poisson (one parameter) than Binomial (two parameters)"
   ]
  },
  {
   "cell_type": "markdown",
   "metadata": {},
   "source": [
    "## Tips to be sure that we have numerical values => try to add two values"
   ]
  },
  {
   "cell_type": "code",
   "execution_count": 27,
   "metadata": {
    "scrolled": false
   },
   "outputs": [
    {
     "data": {
      "text/html": [
       "'addition of two values works x[1]+x[4] = 15'"
      ],
      "text/latex": [
       "'addition of two values works x{[}1{]}+x{[}4{]} = 15'"
      ],
      "text/markdown": [
       "'addition of two values works x[1]+x[4] = 15'"
      ],
      "text/plain": [
       "[1] \"addition of two values works x[1]+x[4] = 15\""
      ]
     },
     "metadata": {},
     "output_type": "display_data"
    },
    {
     "data": {
      "text/html": [
       "'Here we have categorical values looking like numerical values - see Levels information between the table'"
      ],
      "text/latex": [
       "'Here we have categorical values looking like numerical values - see Levels information between the table'"
      ],
      "text/markdown": [
       "'Here we have categorical values looking like numerical values - see Levels information between the table'"
      ],
      "text/plain": [
       "[1] \"Here we have categorical values looking like numerical values - see Levels information between the table\""
      ]
     },
     "metadata": {},
     "output_type": "display_data"
    },
    {
     "data": {
      "text/html": [
       "<style>\n",
       ".list-inline {list-style: none; margin:0; padding: 0}\n",
       ".list-inline>li {display: inline-block}\n",
       ".list-inline>li:not(:last-child)::after {content: \"\\00b7\"; padding: 0 .5ex}\n",
       "</style>\n",
       "<ol class=list-inline><li>6</li><li>1</li><li>1</li><li>9</li><li>4</li><li>5</li></ol>\n",
       "\n",
       "<details>\n",
       "\t<summary style=display:list-item;cursor:pointer>\n",
       "\t\t<strong>Levels</strong>:\n",
       "\t</summary>\n",
       "\t<style>\n",
       "\t.list-inline {list-style: none; margin:0; padding: 0}\n",
       "\t.list-inline>li {display: inline-block}\n",
       "\t.list-inline>li:not(:last-child)::after {content: \"\\00b7\"; padding: 0 .5ex}\n",
       "\t</style>\n",
       "\t<ol class=list-inline><li>'1'</li><li>'2'</li><li>'3'</li><li>'4'</li><li>'5'</li><li>'6'</li><li>'7'</li><li>'8'</li><li>'9'</li><li>'10'</li></ol>\n",
       "</details>"
      ],
      "text/latex": [
       "\\begin{enumerate*}\n",
       "\\item 6\n",
       "\\item 1\n",
       "\\item 1\n",
       "\\item 9\n",
       "\\item 4\n",
       "\\item 5\n",
       "\\end{enumerate*}\n",
       "\n",
       "\\emph{Levels}: \\begin{enumerate*}\n",
       "\\item '1'\n",
       "\\item '2'\n",
       "\\item '3'\n",
       "\\item '4'\n",
       "\\item '5'\n",
       "\\item '6'\n",
       "\\item '7'\n",
       "\\item '8'\n",
       "\\item '9'\n",
       "\\item '10'\n",
       "\\end{enumerate*}\n"
      ],
      "text/markdown": [
       "1. 6\n",
       "2. 1\n",
       "3. 1\n",
       "4. 9\n",
       "5. 4\n",
       "6. 5\n",
       "\n",
       "\n",
       "\n",
       "**Levels**: 1. '1'\n",
       "2. '2'\n",
       "3. '3'\n",
       "4. '4'\n",
       "5. '5'\n",
       "6. '6'\n",
       "7. '7'\n",
       "8. '8'\n",
       "9. '9'\n",
       "10. '10'\n",
       "\n",
       "\n"
      ],
      "text/plain": [
       "[1] 6 1 1 9 4 5\n",
       "Levels: 1 2 3 4 5 6 7 8 9 10"
      ]
     },
     "metadata": {},
     "output_type": "display_data"
    },
    {
     "data": {
      "text/html": [
       "'If we try to add two values we get an error'"
      ],
      "text/latex": [
       "'If we try to add two values we get an error'"
      ],
      "text/markdown": [
       "'If we try to add two values we get an error'"
      ],
      "text/plain": [
       "[1] \"If we try to add two values we get an error\""
      ]
     },
     "metadata": {},
     "output_type": "display_data"
    },
    {
     "name": "stderr",
     "output_type": "stream",
     "text": [
      "Warning message in Ops.factor(xf[4], xf[1]):\n",
      "\"'+' not meaningful for factors\"\n"
     ]
    },
    {
     "data": {
      "text/html": [
       "&lt;NA&gt;"
      ],
      "text/latex": [
       "<NA>"
      ],
      "text/markdown": [
       "&lt;NA&gt;"
      ],
      "text/plain": [
       "[1] NA"
      ]
     },
     "metadata": {},
     "output_type": "display_data"
    }
   ],
   "source": [
    "x<-sample(1:10,50,replace=TRUE) # \n",
    "sprintf(\"addition of two values works x[1]+x[4] = %i\",x[1]+x[4])\n",
    "xf=as.factor(x)\n",
    "sprintf(\"Here we have categorical values looking like numerical values - see Levels information between the table\")\n",
    "head(xf) # here level = categorical\n",
    "sprintf(\"If we try to add two values we get an error\")\n",
    "xf[4]+xf[1]"
   ]
  },
  {
   "cell_type": "markdown",
   "metadata": {},
   "source": [
    "### Available dataset in R : iris database\n",
    "* help(\"iris\") : gives detailled information on the dataset"
   ]
  },
  {
   "cell_type": "code",
   "execution_count": 28,
   "metadata": {},
   "outputs": [
    {
     "data": {
      "text/html": [
       "<table>\n",
       "<caption>A data.frame: 6 × 5</caption>\n",
       "<thead>\n",
       "\t<tr><th></th><th scope=col>Sepal.Length</th><th scope=col>Sepal.Width</th><th scope=col>Petal.Length</th><th scope=col>Petal.Width</th><th scope=col>Species</th></tr>\n",
       "\t<tr><th></th><th scope=col>&lt;dbl&gt;</th><th scope=col>&lt;dbl&gt;</th><th scope=col>&lt;dbl&gt;</th><th scope=col>&lt;dbl&gt;</th><th scope=col>&lt;fct&gt;</th></tr>\n",
       "</thead>\n",
       "<tbody>\n",
       "\t<tr><th scope=row>1</th><td>5.1</td><td>3.5</td><td>1.4</td><td>0.2</td><td>setosa</td></tr>\n",
       "\t<tr><th scope=row>2</th><td>4.9</td><td>3.0</td><td>1.4</td><td>0.2</td><td>setosa</td></tr>\n",
       "\t<tr><th scope=row>3</th><td>4.7</td><td>3.2</td><td>1.3</td><td>0.2</td><td>setosa</td></tr>\n",
       "\t<tr><th scope=row>4</th><td>4.6</td><td>3.1</td><td>1.5</td><td>0.2</td><td>setosa</td></tr>\n",
       "\t<tr><th scope=row>5</th><td>5.0</td><td>3.6</td><td>1.4</td><td>0.2</td><td>setosa</td></tr>\n",
       "\t<tr><th scope=row>6</th><td>5.4</td><td>3.9</td><td>1.7</td><td>0.4</td><td>setosa</td></tr>\n",
       "</tbody>\n",
       "</table>\n"
      ],
      "text/latex": [
       "A data.frame: 6 × 5\n",
       "\\begin{tabular}{r|lllll}\n",
       "  & Sepal.Length & Sepal.Width & Petal.Length & Petal.Width & Species\\\\\n",
       "  & <dbl> & <dbl> & <dbl> & <dbl> & <fct>\\\\\n",
       "\\hline\n",
       "\t1 & 5.1 & 3.5 & 1.4 & 0.2 & setosa\\\\\n",
       "\t2 & 4.9 & 3.0 & 1.4 & 0.2 & setosa\\\\\n",
       "\t3 & 4.7 & 3.2 & 1.3 & 0.2 & setosa\\\\\n",
       "\t4 & 4.6 & 3.1 & 1.5 & 0.2 & setosa\\\\\n",
       "\t5 & 5.0 & 3.6 & 1.4 & 0.2 & setosa\\\\\n",
       "\t6 & 5.4 & 3.9 & 1.7 & 0.4 & setosa\\\\\n",
       "\\end{tabular}\n"
      ],
      "text/markdown": [
       "\n",
       "A data.frame: 6 × 5\n",
       "\n",
       "| <!--/--> | Sepal.Length &lt;dbl&gt; | Sepal.Width &lt;dbl&gt; | Petal.Length &lt;dbl&gt; | Petal.Width &lt;dbl&gt; | Species &lt;fct&gt; |\n",
       "|---|---|---|---|---|---|\n",
       "| 1 | 5.1 | 3.5 | 1.4 | 0.2 | setosa |\n",
       "| 2 | 4.9 | 3.0 | 1.4 | 0.2 | setosa |\n",
       "| 3 | 4.7 | 3.2 | 1.3 | 0.2 | setosa |\n",
       "| 4 | 4.6 | 3.1 | 1.5 | 0.2 | setosa |\n",
       "| 5 | 5.0 | 3.6 | 1.4 | 0.2 | setosa |\n",
       "| 6 | 5.4 | 3.9 | 1.7 | 0.4 | setosa |\n",
       "\n"
      ],
      "text/plain": [
       "  Sepal.Length Sepal.Width Petal.Length Petal.Width Species\n",
       "1 5.1          3.5         1.4          0.2         setosa \n",
       "2 4.9          3.0         1.4          0.2         setosa \n",
       "3 4.7          3.2         1.3          0.2         setosa \n",
       "4 4.6          3.1         1.5          0.2         setosa \n",
       "5 5.0          3.6         1.4          0.2         setosa \n",
       "6 5.4          3.9         1.7          0.4         setosa "
      ]
     },
     "metadata": {},
     "output_type": "display_data"
    }
   ],
   "source": [
    "head(iris)\n",
    "#help(\"iris\")"
   ]
  },
  {
   "cell_type": "markdown",
   "metadata": {},
   "source": [
    "## Example 4.3 Calculation of Khi square with R\n"
   ]
  },
  {
   "cell_type": "code",
   "execution_count": 29,
   "metadata": {
    "scrolled": false
   },
   "outputs": [
    {
     "data": {
      "text/html": [
       "' Calculation of a Khi square probability using pchisq : 0.009305'"
      ],
      "text/latex": [
       "' Calculation of a Khi square probability using pchisq : 0.009305'"
      ],
      "text/markdown": [
       "' Calculation of a Khi square probability using pchisq : 0.009305'"
      ],
      "text/plain": [
       "[1] \" Calculation of a Khi square probability using pchisq : 0.009305\""
      ]
     },
     "metadata": {},
     "output_type": "display_data"
    },
    {
     "data": {
      "text/html": [
       "' Calculation of a t value, the probabily being given : 12.017037'"
      ],
      "text/latex": [
       "' Calculation of a t value, the probabily being given : 12.017037'"
      ],
      "text/markdown": [
       "' Calculation of a t value, the probabily being given : 12.017037'"
      ],
      "text/plain": [
       "[1] \" Calculation of a t value, the probabily being given : 12.017037\""
      ]
     },
     "metadata": {},
     "output_type": "display_data"
    }
   ],
   "source": [
    "sprintf(\" Calculation of a Khi square probability using pchisq : %f\",pchisq(1.21,7)) # t=1.21, 7 degree liberty\n",
    "sprintf(\" Calculation of a t value, the probabily being given : %f\",qchisq(0.9,7))"
   ]
  },
  {
   "cell_type": "markdown",
   "metadata": {},
   "source": [
    "### how to get information on statistical function in R\n",
    "* start the general help : help.Start()\n",
    "* browse into the packages\n",
    "* open the \"stats\"package"
   ]
  },
  {
   "cell_type": "markdown",
   "metadata": {},
   "source": [
    "# Day 5"
   ]
  },
  {
   "cell_type": "markdown",
   "metadata": {},
   "source": [
    "## Example 5.1 dataset 3"
   ]
  },
  {
   "cell_type": "code",
   "execution_count": 11,
   "metadata": {
    "scrolled": false
   },
   "outputs": [
    {
     "data": {
      "text/plain": [
       "       V1       \n",
       " Min.   : 6.00  \n",
       " 1st Qu.:10.00  \n",
       " Median :11.00  \n",
       " Mean   :10.58  \n",
       " 3rd Qu.:11.00  \n",
       " Max.   :12.00  "
      ]
     },
     "metadata": {},
     "output_type": "display_data"
    },
    {
     "data": {
      "image/png": "[encoded data removed]",
      "text/plain": [
       "plot without title"
      ]
     },
     "metadata": {
      "image/png": {
       "height": 420,
       "width": 420
      },
      "text/plain": {
       "height": 420,
       "width": 420
      }
     },
     "output_type": "display_data"
    },
    {
     "data": {
      "text/html": [
       "'The p_b and N_b estimators for binomial distribution are : p_b = 0.880275 and N_b = 12.016697'"
      ],
      "text/latex": [
       "'The p\\_b and N\\_b estimators for binomial distribution are : p\\_b = 0.880275 and N\\_b = 12.016697'"
      ],
      "text/markdown": [
       "'The p_b and N_b estimators for binomial distribution are : p_b = 0.880275 and N_b = 12.016697'"
      ],
      "text/plain": [
       "[1] \"The p_b and N_b estimators for binomial distribution are : p_b = 0.880275 and N_b = 12.016697\""
      ]
     },
     "metadata": {},
     "output_type": "display_data"
    },
    {
     "data": {
      "text/html": [
       "'Since N_b must be an integer, the new value will be N_b = 12 and p_b must be recalculated with this value'"
      ],
      "text/latex": [
       "'Since N\\_b must be an integer, the new value will be N\\_b = 12 and p\\_b must be recalculated with this value'"
      ],
      "text/markdown": [
       "'Since N_b must be an integer, the new value will be N_b = 12 and p_b must be recalculated with this value'"
      ],
      "text/plain": [
       "[1] \"Since N_b must be an integer, the new value will be N_b = 12 and p_b must be recalculated with this value\""
      ]
     },
     "metadata": {},
     "output_type": "display_data"
    },
    {
     "data": {
      "text/html": [
       "'Red curve better fit the real curve (blue) =&gt; we can estimate that it is a binomial distribution with p = 0.881500 and N = 12.000000'"
      ],
      "text/latex": [
       "'Red curve better fit the real curve (blue) => we can estimate that it is a binomial distribution with p = 0.881500 and N = 12.000000'"
      ],
      "text/markdown": [
       "'Red curve better fit the real curve (blue) =&gt; we can estimate that it is a binomial distribution with p = 0.881500 and N = 12.000000'"
      ],
      "text/plain": [
       "[1] \"Red curve better fit the real curve (blue) => we can estimate that it is a binomial distribution with p = 0.881500 and N = 12.000000\""
      ]
     },
     "metadata": {},
     "output_type": "display_data"
    },
    {
     "data": {
      "image/png": "[encoded data removed]",
      "text/plain": [
       "plot without title"
      ]
     },
     "metadata": {
      "image/png": {
       "height": 420,
       "width": 420
      },
      "text/plain": {
       "height": 420,
       "width": 420
      }
     },
     "output_type": "display_data"
    }
   ],
   "source": [
    "df3 <- read.table(\"C:\\\\Users\\\\erick\\\\OneDrive - Data ScienceTech Institute\\\\course\\\\FSML2\\\\R samples\\\\data3.txt\", header = FALSE, sep = \",\")\n",
    "A3 = as.matrix(df3)\n",
    "summary(A3) \n",
    "reality = table(A3)/500\n",
    "barplot(reality)\n",
    "x=6:12\n",
    "\n",
    "plot(x,reality,col='red',type='p',xlim=c(0,13),ylim=c(0,0.4),xlab=\"values\",ylab=\"density\")\n",
    "\n",
    "\n",
    "p_b = (mean(A3)-var(A3))/mean(A3)\n",
    "N_b = mean(A3)/p_b # must be an integer\n",
    "sprintf(\"The p_b and N_b estimators for binomial distribution are : p_b = %f and N_b = %f\",p_b,N_b)\n",
    "sprintf(\"Since N_b must be an integer, the new value will be N_b = 12 and p_b must be recalculated with this value\")\n",
    "N_b = 12\n",
    "p_b = mean(A3)/N_b\n",
    "\n",
    "xx=0:N_b\n",
    "par(new=TRUE)\n",
    "Bin = dbinom(xx,N_b,p_b)\n",
    "count_bin = table(Bin)\n",
    "plot(xx,Bin,col='blue',type='p',xlim=c(0,13),ylim=c(0,0.4),xlab=\"\",ylab=\"\")\n",
    "\n",
    "par(new=TRUE)\n",
    "x=0:12\n",
    "Pois = dpois(x,lambda)\n",
    "count_pois = table(Pois)\n",
    "#barplot(count_pois / 5000, col = 'blue')\n",
    "plot(x,Pois,col='green',type='p',xlim=c(0,13),ylim=c(0,0.4),xlab=\"\",ylab=\"\")\n",
    "legend(\"topleft\" ,legend=c(\"Dataset\", \"Binomial\",\"Poisson\"), col=c(\"red\", \"blue\",\"green\"),pch = c(1,1,1))\n",
    "sprintf(\"Red curve better fit the real curve (blue) => we can estimate that it is a binomial distribution with p = %f and N = %f\",p_b,N_b)\n"
   ]
  },
  {
   "cell_type": "markdown",
   "metadata": {},
   "source": [
    "## Exemple 5.2 Dataset 4"
   ]
  },
  {
   "cell_type": "code",
   "execution_count": 12,
   "metadata": {},
   "outputs": [
    {
     "data": {
      "text/plain": [
       "       V1         \n",
       " Min.   :-6.1644  \n",
       " 1st Qu.:-0.4391  \n",
       " Median : 0.5817  \n",
       " Mean   : 0.5783  \n",
       " 3rd Qu.: 1.5857  \n",
       " Max.   : 7.3608  "
      ]
     },
     "metadata": {},
     "output_type": "display_data"
    },
    {
     "data": {
      "text/html": [
       "'we can estimate that it is a normal distribution with mu = 0.578265 and sigma = 1.504153'"
      ],
      "text/latex": [
       "'we can estimate that it is a normal distribution with mu = 0.578265 and sigma = 1.504153'"
      ],
      "text/markdown": [
       "'we can estimate that it is a normal distribution with mu = 0.578265 and sigma = 1.504153'"
      ],
      "text/plain": [
       "[1] \"we can estimate that it is a normal distribution with mu = 0.578265 and sigma = 1.504153\""
      ]
     },
     "metadata": {},
     "output_type": "display_data"
    },
    {
     "data": {
      "image/png": "[encoded data removed]",
      "text/plain": [
       "Plot with title \"Histogram of A4\""
      ]
     },
     "metadata": {
      "image/png": {
       "height": 420,
       "width": 420
      },
      "text/plain": {
       "height": 420,
       "width": 420
      }
     },
     "output_type": "display_data"
    }
   ],
   "source": [
    "# dataset 4\n",
    "df4 <- read.table(\"C:\\\\Users\\\\erick\\\\OneDrive - Data ScienceTech Institute\\\\course\\\\FSML2\\\\R samples\\\\data4.txt\", header = FALSE, sep = \",\")\n",
    "A4 = as.matrix(df4)\n",
    "summary(A4) \n",
    "hist(A4,breaks=100,xlim=c(-6,6)) \n",
    "mu = mean(A4) \n",
    "var = var(A4)\n",
    "x=seq(-10,10,0.01)\n",
    "par(new=TRUE)\n",
    "plot(x,dnorm(x,mu,sqrt(var)),type='l',col='red',xlim=c(-6,6)) # exponential distribution\n",
    "sprintf(\"we can estimate that it is a normal distribution with mu = %f and sigma = %f\",mu,sqrt(var))\n",
    "\n"
   ]
  },
  {
   "cell_type": "markdown",
   "metadata": {},
   "source": [
    "## Exemple 5.3 - reading normal values on the Normal Table\n",
    "* X ~ N(-1,4)\n",
    "* calculate P(X<= 0), P(X>= -1.5), P(-1.2<=X<=0.8)\n",
    "* found t so that P(X<=t) = 0.9, P(X>=t)=0.95, P(-1-t<=X<=-1+t)=0.95\n",
    "\n",
    "Using the table of N(0,1),  Y = (X-1)/2\n",
    "* P(X<= 0) <=> P(Y<=0.5) = 0,6915\n",
    "* P(X>= -1.5) <=> P(Y>= -0.25) = P(Y<= 0.25) = 0.5987\n",
    "* P(-1.2<=X<=0.8) <=> P(-0.1<=Y<=0.9) = P(Y<=0.9)-P(Y<=-0.1) = P(Y<=0.9)-(1 - P(Y<=0.1)) = 0,3557\n",
    "* P(X<=t) = 0.9 <=> P(Y<=(t+1)/2)=0.9 => (t+1)/2 = 1.2816, t =1.562\n",
    "* P(X>=t)=0.95 => P(X<=t)=0.05 => P(Y<=(t+1)/2)=0.05 P(-Y<=(t+1)/2)=0.95 (t+1)/2=-1,645 => t=-4,29\n",
    "* P(-1-t<=X<=-1+t)=0.95 => P(X<=-1+t)-P(X<=-1-t)=0.95=>P(Y<=t/2)-P(Y<=-t/2)=0.95=> 2*P(Y<=t/2)-1=0.95=>P(Y<=t/2)<=0.975,t=3.92"
   ]
  },
  {
   "cell_type": "code",
   "execution_count": 46,
   "metadata": {},
   "outputs": [
    {
     "data": {
      "text/html": [
       "'X ~ N(-1,4), P(X&lt;=0) = 0.691462'"
      ],
      "text/latex": [
       "'X \\textasciitilde{} N(-1,4), P(X<=0) = 0.691462'"
      ],
      "text/markdown": [
       "'X ~ N(-1,4), P(X&lt;=0) = 0.691462'"
      ],
      "text/plain": [
       "[1] \"X ~ N(-1,4), P(X<=0) = 0.691462\""
      ]
     },
     "metadata": {},
     "output_type": "display_data"
    },
    {
     "data": {
      "text/html": [
       "'X ~ N(-1,4), P(X&gt;=-1.5) = 0.598706'"
      ],
      "text/latex": [
       "'X \\textasciitilde{} N(-1,4), P(X>=-1.5) = 0.598706'"
      ],
      "text/markdown": [
       "'X ~ N(-1,4), P(X&gt;=-1.5) = 0.598706'"
      ],
      "text/plain": [
       "[1] \"X ~ N(-1,4), P(X>=-1.5) = 0.598706\""
      ]
     },
     "metadata": {},
     "output_type": "display_data"
    },
    {
     "data": {
      "text/html": [
       "'X ~ N(-1,4), P(-1.2&lt;=X&lt;=0.8) = 0.355768'"
      ],
      "text/latex": [
       "'X \\textasciitilde{} N(-1,4), P(-1.2<=X<=0.8) = 0.355768'"
      ],
      "text/markdown": [
       "'X ~ N(-1,4), P(-1.2&lt;=X&lt;=0.8) = 0.355768'"
      ],
      "text/plain": [
       "[1] \"X ~ N(-1,4), P(-1.2<=X<=0.8) = 0.355768\""
      ]
     },
     "metadata": {},
     "output_type": "display_data"
    },
    {
     "data": {
      "text/html": [
       "'X ~ N(-1,4), t s.t P(X&lt;=t) = 0.9, t = 1.563103'"
      ],
      "text/latex": [
       "'X \\textasciitilde{} N(-1,4), t s.t P(X<=t) = 0.9, t = 1.563103'"
      ],
      "text/markdown": [
       "'X ~ N(-1,4), t s.t P(X&lt;=t) = 0.9, t = 1.563103'"
      ],
      "text/plain": [
       "[1] \"X ~ N(-1,4), t s.t P(X<=t) = 0.9, t = 1.563103\""
      ]
     },
     "metadata": {},
     "output_type": "display_data"
    },
    {
     "data": {
      "text/html": [
       "'X ~ N(-1,4), t s.t P(X&gt;=t) = 0.95, t = -4.289707'"
      ],
      "text/latex": [
       "'X \\textasciitilde{} N(-1,4), t s.t P(X>=t) = 0.95, t = -4.289707'"
      ],
      "text/markdown": [
       "'X ~ N(-1,4), t s.t P(X&gt;=t) = 0.95, t = -4.289707'"
      ],
      "text/plain": [
       "[1] \"X ~ N(-1,4), t s.t P(X>=t) = 0.95, t = -4.289707\""
      ]
     },
     "metadata": {},
     "output_type": "display_data"
    },
    {
     "data": {
      "text/html": [
       "'X ~ N(-1,4), t s.t P(-1-t&lt;=X&lt;=-1+t) = 0.95, t = 3.919928'"
      ],
      "text/latex": [
       "'X \\textasciitilde{} N(-1,4), t s.t P(-1-t<=X<=-1+t) = 0.95, t = 3.919928'"
      ],
      "text/markdown": [
       "'X ~ N(-1,4), t s.t P(-1-t&lt;=X&lt;=-1+t) = 0.95, t = 3.919928'"
      ],
      "text/plain": [
       "[1] \"X ~ N(-1,4), t s.t P(-1-t<=X<=-1+t) = 0.95, t = 3.919928\""
      ]
     },
     "metadata": {},
     "output_type": "display_data"
    }
   ],
   "source": [
    "sprintf(\"X ~ N(-1,4), P(X<=0) = %f\",pnorm(0,-1,2))\n",
    "sprintf(\"X ~ N(-1,4), P(X>=-1.5) = %f\",1-pnorm(-1.5,-1,2))\n",
    "sprintf(\"X ~ N(-1,4), P(-1.2<=X<=0.8) = %f\",pnorm(0.8,-1,2)-pnorm(-1.2,-1,2))\n",
    "sprintf(\"X ~ N(-1,4), t s.t P(X<=t) = 0.9, t = %f\",qnorm(0.9,-1,2))\n",
    "sprintf(\"X ~ N(-1,4), t s.t P(X>=t) = 0.95, t = %f\",-qnorm(0.95,-1,2)-2)\n",
    "sprintf(\"X ~ N(-1,4), t s.t P(-1-t<=X<=-1+t) = 0.95, t = %f\",qnorm(0.975,-1,2)+1)"
   ]
  },
  {
   "cell_type": "markdown",
   "metadata": {},
   "source": [
    "### Exemple 5.4 - reading normal values on the Khi two table\n",
    "* C ~ X2(11)\n",
    "* calculate P(C<= 17.275), P(C>= 4.575), P(3.053<=C<=21.92)\n",
    "* found f so that P(C<=f) = 0.9, P(C>=f)=0.9\n",
    "### Using the table of X2(11)\n",
    "* P(C <= 17.125) = 0.9\n",
    "* P(C >= 4.575 ) = 0.95\n",
    "* P(3.053 <= C <= 21.92) = P(C <= 21.92)-P(C <= 3.053 ) = 0.965\n",
    "* P(C <= f) = 0.9 <=> f = 17.275\n",
    "* P(C >= f) = 0.9 <=> f = 5.578\n"
   ]
  },
  {
   "cell_type": "code",
   "execution_count": 57,
   "metadata": {},
   "outputs": [
    {
     "data": {
      "text/html": [
       "'X ~ X2(11), P(C &lt;= 17.125) = 0.895768'"
      ],
      "text/latex": [
       "'X \\textasciitilde{} X2(11), P(C <= 17.125) = 0.895768'"
      ],
      "text/markdown": [
       "'X ~ X2(11), P(C &lt;= 17.125) = 0.895768'"
      ],
      "text/plain": [
       "[1] \"X ~ X2(11), P(C <= 17.125) = 0.895768\""
      ]
     },
     "metadata": {},
     "output_type": "display_data"
    },
    {
     "data": {
      "text/html": [
       "'X ~ X2(11), P(C &gt;= 4.575) = 0.949992'"
      ],
      "text/latex": [
       "'X \\textasciitilde{} X2(11), P(C >= 4.575) = 0.949992'"
      ],
      "text/markdown": [
       "'X ~ X2(11), P(C &gt;= 4.575) = 0.949992'"
      ],
      "text/plain": [
       "[1] \"X ~ X2(11), P(C >= 4.575) = 0.949992\""
      ]
     },
     "metadata": {},
     "output_type": "display_data"
    },
    {
     "data": {
      "text/html": [
       "'X ~ X2(11), P(3.053 &lt;= C &lt;= 21.92) = 0.965006'"
      ],
      "text/latex": [
       "'X \\textasciitilde{} X2(11), P(3.053 <= C <= 21.92) = 0.965006'"
      ],
      "text/markdown": [
       "'X ~ X2(11), P(3.053 &lt;= C &lt;= 21.92) = 0.965006'"
      ],
      "text/plain": [
       "[1] \"X ~ X2(11), P(3.053 <= C <= 21.92) = 0.965006\""
      ]
     },
     "metadata": {},
     "output_type": "display_data"
    },
    {
     "data": {
      "text/html": [
       "'X ~ X2(11), t s.t P(C&lt;=f) = 0.9, t = 17.275009'"
      ],
      "text/latex": [
       "'X \\textasciitilde{} X2(11), t s.t P(C<=f) = 0.9, t = 17.275009'"
      ],
      "text/markdown": [
       "'X ~ X2(11), t s.t P(C&lt;=f) = 0.9, t = 17.275009'"
      ],
      "text/plain": [
       "[1] \"X ~ X2(11), t s.t P(C<=f) = 0.9, t = 17.275009\""
      ]
     },
     "metadata": {},
     "output_type": "display_data"
    },
    {
     "data": {
      "text/html": [
       "'X ~ X2(11), t s.t P(C&gt;=f) = 0.9, t = 5.577785'"
      ],
      "text/latex": [
       "'X \\textasciitilde{} X2(11), t s.t P(C>=f) = 0.9, t = 5.577785'"
      ],
      "text/markdown": [
       "'X ~ X2(11), t s.t P(C&gt;=f) = 0.9, t = 5.577785'"
      ],
      "text/plain": [
       "[1] \"X ~ X2(11), t s.t P(C>=f) = 0.9, t = 5.577785\""
      ]
     },
     "metadata": {},
     "output_type": "display_data"
    }
   ],
   "source": [
    "sprintf(\"X ~ X2(11), P(C <= 17.125) = %f\",pchisq(17.125,11))\n",
    "sprintf(\"X ~ X2(11), P(C >= 4.575) = %f\",1-pchisq(4.575,11))\n",
    "sprintf(\"X ~ X2(11), P(3.053 <= C <= 21.92) = %f\",pchisq(21.92,11)-pchisq(3.053,11))\n",
    "sprintf(\"X ~ X2(11), t s.t P(C<=f) = 0.9, t = %f\",qchisq(0.9,11))\n",
    "sprintf(\"X ~ X2(11), t s.t P(C>=f) = 0.9, t = %f\",qchisq(0.1,11))"
   ]
  },
  {
   "cell_type": "markdown",
   "metadata": {},
   "source": [
    "### Exemple 5.5 - reading normal values on the Student table\n",
    "* C ~ T(5)\n",
    "* calculate P(abs(T)<= 0.92), P(T<= 2.015), P(T>=3.365)\n",
    "* found z so that P(T>=z) = 0.4, P(T<=z)=0.05, P(-z <= T <= z) = 0.3\n",
    "### Using the table of T(5)\n",
    "* P(abs(T)<= 0.92) = 1-0.4 = 0.6\n",
    "* P(T<= 2.015) = 1- 0.10/2 = 0.95\n",
    "* P(T>=3.365) = 0.02/2=0.01\n",
    "* P(T>=z) = 0.4, z = 0.267\n",
    "* P(T<=z)=0.05, z = - 2.015 (value for 0.10)\n",
    "* P(-z <= T <= z) = 0.3, z = 0.408\n"
   ]
  },
  {
   "cell_type": "code",
   "execution_count": 66,
   "metadata": {},
   "outputs": [
    {
     "data": {
      "text/html": [
       "'X ~ T(5), P(abs(T) &lt;= 0.92) = 0.600217'"
      ],
      "text/latex": [
       "'X \\textasciitilde{} T(5), P(abs(T) <= 0.92) = 0.600217'"
      ],
      "text/markdown": [
       "'X ~ T(5), P(abs(T) &lt;= 0.92) = 0.600217'"
      ],
      "text/plain": [
       "[1] \"X ~ T(5), P(abs(T) <= 0.92) = 0.600217\""
      ]
     },
     "metadata": {},
     "output_type": "display_data"
    },
    {
     "data": {
      "text/html": [
       "'X ~ T(5), P(T &lt;= 2.015) = 0.949997'"
      ],
      "text/latex": [
       "'X \\textasciitilde{} T(5), P(T <= 2.015) = 0.949997'"
      ],
      "text/markdown": [
       "'X ~ T(5), P(T &lt;= 2.015) = 0.949997'"
      ],
      "text/plain": [
       "[1] \"X ~ T(5), P(T <= 2.015) = 0.949997\""
      ]
     },
     "metadata": {},
     "output_type": "display_data"
    },
    {
     "data": {
      "text/html": [
       "'X ~ T(5), P(T &gt;= 3.365) = 0.009999'"
      ],
      "text/latex": [
       "'X \\textasciitilde{} T(5), P(T >= 3.365) = 0.009999'"
      ],
      "text/markdown": [
       "'X ~ T(5), P(T &gt;= 3.365) = 0.009999'"
      ],
      "text/plain": [
       "[1] \"X ~ T(5), P(T >= 3.365) = 0.009999\""
      ]
     },
     "metadata": {},
     "output_type": "display_data"
    },
    {
     "data": {
      "text/html": [
       "'X ~ T(5), t s.t P(T&gt;=z) = 0.4, t = 0.267181'"
      ],
      "text/latex": [
       "'X \\textasciitilde{} T(5), t s.t P(T>=z) = 0.4, t = 0.267181'"
      ],
      "text/markdown": [
       "'X ~ T(5), t s.t P(T&gt;=z) = 0.4, t = 0.267181'"
      ],
      "text/plain": [
       "[1] \"X ~ T(5), t s.t P(T>=z) = 0.4, t = 0.267181\""
      ]
     },
     "metadata": {},
     "output_type": "display_data"
    },
    {
     "data": {
      "text/html": [
       "'X ~ T(5), t s.t P(T&lt;=z) = 0.05, t = -2.015048'"
      ],
      "text/latex": [
       "'X \\textasciitilde{} T(5), t s.t P(T<=z) = 0.05, t = -2.015048'"
      ],
      "text/markdown": [
       "'X ~ T(5), t s.t P(T&lt;=z) = 0.05, t = -2.015048'"
      ],
      "text/plain": [
       "[1] \"X ~ T(5), t s.t P(T<=z) = 0.05, t = -2.015048\""
      ]
     },
     "metadata": {},
     "output_type": "display_data"
    },
    {
     "data": {
      "text/html": [
       "'X ~ T(5), t s.t P(-z &lt;= T &lt;= z) = 0.3, t = 0.408229'"
      ],
      "text/latex": [
       "'X \\textasciitilde{} T(5), t s.t P(-z <= T <= z) = 0.3, t = 0.408229'"
      ],
      "text/markdown": [
       "'X ~ T(5), t s.t P(-z &lt;= T &lt;= z) = 0.3, t = 0.408229'"
      ],
      "text/plain": [
       "[1] \"X ~ T(5), t s.t P(-z <= T <= z) = 0.3, t = 0.408229\""
      ]
     },
     "metadata": {},
     "output_type": "display_data"
    }
   ],
   "source": [
    "sprintf(\"X ~ T(5), P(abs(T) <= 0.92) = %f\",2*pt(0.92,5)-1)\n",
    "sprintf(\"X ~ T(5), P(T <= 2.015) = %f\",pt(2.015,5))\n",
    "sprintf(\"X ~ T(5), P(T >= 3.365) = %f\",1-pt(3.365,5))\n",
    "sprintf(\"X ~ T(5), t s.t P(T>=z) = 0.4, t = %f\",qt(1-0.4,5))\n",
    "sprintf(\"X ~ T(5), t s.t P(T<=z) = 0.05, t = %f\",qt(0.05,5))\n",
    "sprintf(\"X ~ T(5), t s.t P(-z <= T <= z) = 0.3, t = %f\",qt((1+0.3)/2,5))\n"
   ]
  },
  {
   "cell_type": "code",
   "execution_count": null,
   "metadata": {},
   "outputs": [],
   "source": []
  }
 ],
 "metadata": {
  "kernelspec": {
   "display_name": "R",
   "language": "R",
   "name": "ir"
  },
  "language_info": {
   "codemirror_mode": "r",
   "file_extension": ".r",
   "mimetype": "text/x-r-source",
   "name": "R",
   "pygments_lexer": "r",
   "version": "4.0.0"
  }
 },
 "nbformat": 4,
 "nbformat_minor": 4
}
