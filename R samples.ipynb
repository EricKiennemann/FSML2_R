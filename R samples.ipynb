{
 "cells": [
  {
   "cell_type": "markdown",
   "metadata": {},
   "source": [
    "# Foundations of Statistical analysis  Machine Leaning - Part 2\n",
    "## Dr Christine Malot\n",
    "\n",
    "# Day 1"
   ]
  },
  {
   "cell_type": "markdown",
   "metadata": {},
   "source": [
    "## Example 1.1 - Importance of the number of observations"
   ]
  },
  {
   "cell_type": "code",
   "execution_count": 2,
   "metadata": {},
   "outputs": [
    {
     "data": {
      "image/png": "[encoded data removed]",
      "text/plain": [
       "Plot with title \"500000 values\""
      ]
     },
     "metadata": {
      "image/png": {
       "height": 420,
       "width": 420
      },
      "text/plain": {
       "height": 420,
       "width": 420
      }
     },
     "output_type": "display_data"
    }
   ],
   "source": [
    "A <- rnorm(10,0.5,4)    #n too small to get a 0.5 as a good estimator\n",
    "B <- rnorm(10000,0.5,4) #n is ok\n",
    "\n",
    "Am<-matrix(rnorm(500,0.5,4),ncol=50)\n",
    "Bm<-matrix(rnorm(500000,0.5,4),ncol=10000)\n",
    "\n",
    "meanA<-apply(Am,1,mean)  #1 = for each row\n",
    "meanB<-apply(Bm,1,mean)  #1 = for each row\n",
    "\n",
    "# see the difference on the bar plot\n",
    "par(mfrow = c(1,2))\n",
    "boxplot(meanA,main = \"500 values\")\n",
    "boxplot(meanB,main = \"500000 values\")\n"
   ]
  },
  {
   "cell_type": "markdown",
   "metadata": {},
   "source": [
    "## Example 1.2 - Max(Xi) is a good estimator for uniform distribution\n",
    "* simulation : A uniform distribution Unif(0,5) with 500000 observations"
   ]
  },
  {
   "cell_type": "code",
   "execution_count": 3,
   "metadata": {},
   "outputs": [
    {
     "data": {
      "text/html": [
       "'Estimator Max(Xi) of Theta in a Unif(0,Theta=5) distribution : 4.949863'"
      ],
      "text/latex": [
       "'Estimator Max(Xi) of Theta in a Unif(0,Theta=5) distribution : 4.949863'"
      ],
      "text/markdown": [
       "'Estimator Max(Xi) of Theta in a Unif(0,Theta=5) distribution : 4.949863'"
      ],
      "text/plain": [
       "[1] \"Estimator Max(Xi) of Theta in a Unif(0,Theta=5) distribution : 4.949863\""
      ]
     },
     "metadata": {},
     "output_type": "display_data"
    },
    {
     "data": {
      "text/html": [
       "'The variance of the estimator is : 0.002424'"
      ],
      "text/latex": [
       "'The variance of the estimator is : 0.002424'"
      ],
      "text/markdown": [
       "'The variance of the estimator is : 0.002424'"
      ],
      "text/plain": [
       "[1] \"The variance of the estimator is : 0.002424\""
      ]
     },
     "metadata": {},
     "output_type": "display_data"
    }
   ],
   "source": [
    "Am<-matrix(runif(500000,0,5),ncol=100)\n",
    "maxA<-apply(Am,1,max)\n",
    "sprintf(\"Estimator Max(Xi) of Theta in a Unif(0,Theta=5) distribution : %f\" ,mean(maxA))\n",
    "sprintf(\"The variance of the estimator is : %f\", var(maxA))"
   ]
  },
  {
   "cell_type": "markdown",
   "metadata": {},
   "source": [
    "# Day 2"
   ]
  },
  {
   "cell_type": "markdown",
   "metadata": {},
   "source": [
    "## Example 2.1 - Frequency vs density histogram"
   ]
  },
  {
   "cell_type": "markdown",
   "metadata": {},
   "source": [
    "### The two histograms\n",
    "* before the histogram the \"summary\" R function gives various information on the dataset\n",
    "* for instance the fact that Mean >> Median reveal that it is not a symetric distribution\n",
    "* after the graphes, the variable h$density, gives the values used in the density graph"
   ]
  },
  {
   "cell_type": "code",
   "execution_count": 4,
   "metadata": {},
   "outputs": [
    {
     "data": {
      "text/html": [
       "'Summary of the Dataset'"
      ],
      "text/latex": [
       "'Summary of the Dataset'"
      ],
      "text/markdown": [
       "'Summary of the Dataset'"
      ],
      "text/plain": [
       "[1] \"Summary of the Dataset\""
      ]
     },
     "metadata": {},
     "output_type": "display_data"
    },
    {
     "data": {
      "text/plain": [
       "     Min.   1st Qu.    Median      Mean   3rd Qu.      Max. \n",
       " 0.000761  0.668422  1.577319  2.312863  3.182293 14.822667 "
      ]
     },
     "metadata": {},
     "output_type": "display_data"
    },
    {
     "data": {
      "text/html": [
       "'Values of the density'"
      ],
      "text/latex": [
       "'Values of the density'"
      ],
      "text/markdown": [
       "'Values of the density'"
      ],
      "text/plain": [
       "[1] \"Values of the density\""
      ]
     },
     "metadata": {},
     "output_type": "display_data"
    },
    {
     "data": {
      "text/html": [
       "<style>\n",
       ".list-inline {list-style: none; margin:0; padding: 0}\n",
       ".list-inline>li {display: inline-block}\n",
       ".list-inline>li:not(:last-child)::after {content: \"\\00b7\"; padding: 0 .5ex}\n",
       "</style>\n",
       "<ol class=list-inline><li>0.362</li><li>0.223</li><li>0.146</li><li>0.077</li><li>0.075</li><li>0.039</li><li>0.026</li><li>0.014</li><li>0.014</li><li>0.012</li><li>0.004</li><li>0.003</li><li>0.002</li><li>0.002</li><li>0.001</li></ol>\n"
      ],
      "text/latex": [
       "\\begin{enumerate*}\n",
       "\\item 0.362\n",
       "\\item 0.223\n",
       "\\item 0.146\n",
       "\\item 0.077\n",
       "\\item 0.075\n",
       "\\item 0.039\n",
       "\\item 0.026\n",
       "\\item 0.014\n",
       "\\item 0.014\n",
       "\\item 0.012\n",
       "\\item 0.004\n",
       "\\item 0.003\n",
       "\\item 0.002\n",
       "\\item 0.002\n",
       "\\item 0.001\n",
       "\\end{enumerate*}\n"
      ],
      "text/markdown": [
       "1. 0.362\n",
       "2. 0.223\n",
       "3. 0.146\n",
       "4. 0.077\n",
       "5. 0.075\n",
       "6. 0.039\n",
       "7. 0.026\n",
       "8. 0.014\n",
       "9. 0.014\n",
       "10. 0.012\n",
       "11. 0.004\n",
       "12. 0.003\n",
       "13. 0.002\n",
       "14. 0.002\n",
       "15. 0.001\n",
       "\n",
       "\n"
      ],
      "text/plain": [
       " [1] 0.362 0.223 0.146 0.077 0.075 0.039 0.026 0.014 0.014 0.012 0.004 0.003\n",
       "[13] 0.002 0.002 0.001"
      ]
     },
     "metadata": {},
     "output_type": "display_data"
    },
    {
     "data": {
      "image/png": "[encoded data removed]",
      "text/plain": [
       "Plot with title \"Histo / Density\""
      ]
     },
     "metadata": {
      "image/png": {
       "height": 420,
       "width": 420
      },
      "text/plain": {
       "height": 420,
       "width": 420
      }
     },
     "output_type": "display_data"
    }
   ],
   "source": [
    "A=rexp(1000,0.4) # exponential distribution\n",
    "sprintf(\"Summary of the Dataset\")\n",
    "summary(A) # various information on the sample\n",
    "# differece between histogram frequancy / density\n",
    "par(mfrow=c(1,2))\n",
    "hist(A, main=\"Histo / Frequency\") # frequency\n",
    "h=hist(A,main=\"Histo / Density\",freq=FALSE) # density\n",
    "sprintf(\"Values of the density\")\n",
    "h$density # density distribution\n",
    "\n"
   ]
  },
  {
   "cell_type": "markdown",
   "metadata": {},
   "source": [
    "### Case when frequency and density are not similar : non identical classes\n",
    "* here the classes do not all have the same length : 1,2,1"
   ]
  },
  {
   "cell_type": "code",
   "execution_count": 5,
   "metadata": {},
   "outputs": [
    {
     "name": "stderr",
     "output_type": "stream",
     "text": [
      "Warning message in plot.histogram(r, freq = freq1, col = col, border = border, angle = angle, :\n",
      "\"the AREAS in the plot are wrong -- rather use 'freq = FALSE'\"\n"
     ]
    },
    {
     "data": {
      "image/png": "[encoded data removed]",
      "text/plain": [
       "Plot with title \"Histo / Density\""
      ]
     },
     "metadata": {
      "image/png": {
       "height": 420,
       "width": 420
      },
      "text/plain": {
       "height": 420,
       "width": 420
      }
     },
     "output_type": "display_data"
    }
   ],
   "source": [
    "B=runif(1000,0,4)\n",
    "par(mfrow=c(2,2))\n",
    "hd=hist(B,breaks=c(0,1,3,4),freq = TRUE,main=\"Histo / Frequency\")\n",
    "hf=hist(B,breaks=c(0,1,3,4), freq = FALSE,main=\"Histo / Density\")"
   ]
  },
  {
   "cell_type": "markdown",
   "metadata": {},
   "source": [
    "## Example 2.2 - impact of size of classes on lambda calculation for exponential distribution\n",
    "* Four graphes with increasing values of the size of the classes : 5, 20, 50, 100\n"
   ]
  },
  {
   "cell_type": "code",
   "execution_count": 6,
   "metadata": {
    "scrolled": false
   },
   "outputs": [
    {
     "data": {
      "image/png": "[encoded data removed]",
      "text/plain": [
       "Plot with title \"size of the class = 100\""
      ]
     },
     "metadata": {
      "image/png": {
       "height": 420,
       "width": 420
      },
      "text/plain": {
       "height": 420,
       "width": 420
      }
     },
     "output_type": "display_data"
    }
   ],
   "source": [
    "C=rexp(100000,0.4)\n",
    "par(mfrow=c(2,2))\n",
    "hist(C,breaks=5,freq=FALSE,main=\"size of the class = 5\")\n",
    "hist(C,breaks=20,freq=FALSE,main=\"size of the class = 20\")\n",
    "hist(C,breaks=50,freq=FALSE,main=\"size of the class = 50\")\n",
    "hist(C,breaks=100,freq=FALSE,main=\"size of the class = 100\")"
   ]
  },
  {
   "cell_type": "markdown",
   "metadata": {},
   "source": [
    "## Exemple 2.3 - find the lambda parameter of an exponential distribution\n",
    "\n",
    "The simulation used is an exponential distribution with lambda = 4\n",
    "\n",
    "### First solution : use the first value of the density vector : not a good approximation"
   ]
  },
  {
   "cell_type": "code",
   "execution_count": 7,
   "metadata": {
    "scrolled": true
   },
   "outputs": [
    {
     "data": {
      "text/html": [
       "'First value of density vector : lambda = 0.420000'"
      ],
      "text/latex": [
       "'First value of density vector : lambda = 0.420000'"
      ],
      "text/markdown": [
       "'First value of density vector : lambda = 0.420000'"
      ],
      "text/plain": [
       "[1] \"First value of density vector : lambda = 0.420000\""
      ]
     },
     "metadata": {},
     "output_type": "display_data"
    }
   ],
   "source": [
    "A=rexp(1000,0.4)\n",
    "hh=hist(A,breaks=100,plot=FALSE)\n",
    "lambda_1 = hh$density[1] # density distribution - the first element of hh$density is an approximation of the estimator but ....\n",
    "sprintf(\"First value of density vector : lambda = %f\", lambda_1)\n"
   ]
  },
  {
   "cell_type": "markdown",
   "metadata": {},
   "source": [
    "### Better solution : lambda_2 = 1 / mean(dataset) <- moment methods"
   ]
  },
  {
   "cell_type": "code",
   "execution_count": 8,
   "metadata": {},
   "outputs": [
    {
     "data": {
      "text/html": [
       "'Moment methode : lambda_2 = 0.398411'"
      ],
      "text/latex": [
       "'Moment methode : lambda\\_2 = 0.398411'"
      ],
      "text/markdown": [
       "'Moment methode : lambda_2 = 0.398411'"
      ],
      "text/plain": [
       "[1] \"Moment methode : lambda_2 = 0.398411\""
      ]
     },
     "metadata": {},
     "output_type": "display_data"
    }
   ],
   "source": [
    "A=rexp(1000,0.4)\n",
    "lambda_2 = 1/mean(A)\n",
    "\n",
    "sprintf(\"Moment methode : lambda_2 = %f\", lambda_2)\n"
   ]
  },
  {
   "cell_type": "markdown",
   "metadata": {},
   "source": [
    "### Impact of the number of observation on the calcul of 1/mean(A) with A an exponential distribution\n",
    "* in red the approximation of lambda using 1/mean(A)\n",
    "* in blue the real value of lambda = 0.4"
   ]
  },
  {
   "cell_type": "code",
   "execution_count": 9,
   "metadata": {},
   "outputs": [
    {
     "data": {
      "image/png": "[encoded data removed]",
      "text/plain": [
       "Plot with title \"Lambda value related to number of observation\""
      ]
     },
     "metadata": {
      "image/png": {
       "height": 420,
       "width": 420
      },
      "text/plain": {
       "height": 420,
       "width": 420
      }
     },
     "output_type": "display_data"
    }
   ],
   "source": [
    "A=rexp(1000,0.4)\n",
    "#length(A) # number of values in A\n",
    "sumx=cumsum(A) # x1, x1+x2,x1+x2+x3 ...to calculate meanA for 1,2,3 ... element\n",
    "barx=sumx/1:1000 # division a vector by a vector - division terme by term\n",
    "esti_lambda = 1 / barx\n",
    "par(mfrow=c(1,1))\n",
    "plot(1:1000,esti_lambda,type='l',col='red',xlim=c(0,1001),ylim=c(0.2,0.6),main=\"Lambda value related to number of observation\",xlab=\"n° of observation\",ylab=\"lambda\") # evolution of lambda estimation in fn of sample size\n",
    "par(new=TRUE)\n",
    "plot(c(0,1000),c(0.4,0.4),type='l',col='blue',xlim=c(0,1001),ylim=c(0.2,0.6),xlab=\"\",ylab=\"\") # in blue the \"real\" value\n",
    "legend(\"topright\" ,legend=c(\"Calculated lambda\", \"Real Lambda\"), col=c(\"red\", \"blue\",\"green\"),lty = 1)\n",
    "\n"
   ]
  },
  {
   "cell_type": "markdown",
   "metadata": {},
   "source": [
    "## Example 2.4 - 3 distribution graphes\n",
    "* exponential distribution\n",
    "* normal distribution\n",
    "* uniforme distribution"
   ]
  },
  {
   "cell_type": "code",
   "execution_count": 10,
   "metadata": {},
   "outputs": [
    {
     "data": {
      "image/png": "[encoded data removed]",
      "text/plain": [
       "Plot with title \"Uniform distribution\""
      ]
     },
     "metadata": {
      "image/png": {
       "height": 420,
       "width": 420
      },
      "text/plain": {
       "height": 420,
       "width": 420
      }
     },
     "output_type": "display_data"
    }
   ],
   "source": [
    "par(mfrow=c(2,2))\n",
    "x=seq(-10,10,0.01)\n",
    "plot(x,dexp(x,0.4),type='l',col='red',main=\"Exponential distribution\") # exponential distribution\n",
    "plot(x,dnorm(x,2,0.5),type='l',col='red',main=\"Normal distribution\") # normal distribution\n",
    "plot(x,dunif(x,-3,5),type='l',col='red',main=\"Uniform distribution\") # uniform distribution"
   ]
  },
  {
   "cell_type": "markdown",
   "metadata": {},
   "source": [
    "# Day 3\n",
    "## Exemple 3.1 - Difference of distribution between Gaussian and Student\n",
    "* Gaussian (normal distibution) in red\n",
    "* Student (number of degree of liberty 2) in blue"
   ]
  },
  {
   "cell_type": "code",
   "execution_count": 11,
   "metadata": {},
   "outputs": [
    {
     "data": {
      "image/png": "[encoded data removed]",
      "text/plain": [
       "Plot with title \"Gaussian and Student Distribution\""
      ]
     },
     "metadata": {
      "image/png": {
       "height": 420,
       "width": 420
      },
      "text/plain": {
       "height": 420,
       "width": 420
      }
     },
     "output_type": "display_data"
    }
   ],
   "source": [
    "\n",
    "x=seq(-5,5,0.01)\n",
    "y=dnorm(x)\n",
    "t=dt(x,2)\n",
    "maxy=max(y,t)\n",
    "plot(x,y,type='l',col='red',xlim=c(-5,5),ylim=c(0,maxy),main=\"Gaussian and Student Distribution\")\n",
    "par(new=TRUE)\n",
    "plot(x,t,type='l',col='blue',xlim=c(-5,5),ylim=c(0,maxy))\n",
    "legend(\"topleft\" ,legend=c(\"Gaussian\", \"Student\"), col=c(\"red\", \"blue\"),lty = 1)\n"
   ]
  },
  {
   "cell_type": "markdown",
   "metadata": {},
   "source": [
    "## Example 3.2 - using R to compute Gaussian and Student Probabilies\n",
    "    * pnorm (Gaussian), pt (Student) to get a probability knowing a value for the R.V\n",
    "    * qnorm (Gaussian), qt (Student) to get a R.V value knowing the probability\n",
    "    * take care, pnorm/qnorm use standard deviation and not variance as third parameter"
   ]
  },
  {
   "cell_type": "code",
   "execution_count": 12,
   "metadata": {
    "scrolled": true
   },
   "outputs": [
    {
     "data": {
      "text/html": [
       "'P(-0.28 &lt;= Z &lt;= 0.57) for N(0,1) = 0.325922'"
      ],
      "text/latex": [
       "'P(-0.28 <= Z <= 0.57) for N(0,1) = 0.325922'"
      ],
      "text/markdown": [
       "'P(-0.28 &lt;= Z &lt;= 0.57) for N(0,1) = 0.325922'"
      ],
      "text/plain": [
       "[1] \"P(-0.28 <= Z <= 0.57) for N(0,1) = 0.325922\""
      ]
     },
     "metadata": {},
     "output_type": "display_data"
    },
    {
     "data": {
      "text/html": [
       "'P(-0.2 &lt;= Z &lt;= 1.2) for N(1,4) = 0.265575'"
      ],
      "text/latex": [
       "'P(-0.2 <= Z <= 1.2) for N(1,4) = 0.265575'"
      ],
      "text/markdown": [
       "'P(-0.2 &lt;= Z &lt;= 1.2) for N(1,4) = 0.265575'"
      ],
      "text/plain": [
       "[1] \"P(-0.2 <= Z <= 1.2) for N(1,4) = 0.265575\""
      ]
     },
     "metadata": {},
     "output_type": "display_data"
    },
    {
     "data": {
      "text/html": [
       "'P(-0.271 &lt;= Z &lt;= 0.271) for T(4) = 0.200199'"
      ],
      "text/latex": [
       "'P(-0.271 <= Z <= 0.271) for T(4) = 0.200199'"
      ],
      "text/markdown": [
       "'P(-0.271 &lt;= Z &lt;= 0.271) for T(4) = 0.200199'"
      ],
      "text/plain": [
       "[1] \"P(-0.271 <= Z <= 0.271) for T(4) = 0.200199\""
      ]
     },
     "metadata": {},
     "output_type": "display_data"
    },
    {
     "data": {
      "text/html": [
       "'P(0,414 &lt;= Z &lt;= 1.19) for T(4) = 0.200131'"
      ],
      "text/latex": [
       "'P(0,414 <= Z <= 1.19) for T(4) = 0.200131'"
      ],
      "text/markdown": [
       "'P(0,414 &lt;= Z &lt;= 1.19) for T(4) = 0.200131'"
      ],
      "text/plain": [
       "[1] \"P(0,414 <= Z <= 1.19) for T(4) = 0.200131\""
      ]
     },
     "metadata": {},
     "output_type": "display_data"
    },
    {
     "data": {
      "text/html": [
       "'t so that P( Z &lt;= t) = 0,95 for N(0,1), t = 1.644854'"
      ],
      "text/latex": [
       "'t so that P( Z <= t) = 0,95 for N(0,1), t = 1.644854'"
      ],
      "text/markdown": [
       "'t so that P( Z &lt;= t) = 0,95 for N(0,1), t = 1.644854'"
      ],
      "text/plain": [
       "[1] \"t so that P( Z <= t) = 0,95 for N(0,1), t = 1.644854\""
      ]
     },
     "metadata": {},
     "output_type": "display_data"
    },
    {
     "data": {
      "text/html": [
       "'t so that P( Z &lt;= t) = 0,95 for N(1,4), t = 4.289707'"
      ],
      "text/latex": [
       "'t so that P( Z <= t) = 0,95 for N(1,4), t = 4.289707'"
      ],
      "text/markdown": [
       "'t so that P( Z &lt;= t) = 0,95 for N(1,4), t = 4.289707'"
      ],
      "text/plain": [
       "[1] \"t so that P( Z <= t) = 0,95 for N(1,4), t = 4.289707\""
      ]
     },
     "metadata": {},
     "output_type": "display_data"
    }
   ],
   "source": [
    "# P(-0.28 <= Z <= 0.57)\n",
    "sprintf (\"P(-0.28 <= Z <= 0.57) for N(0,1) = %f\" , pnorm(0.57)-pnorm(-0.28))\n",
    "sprintf (\"P(-0.2 <= Z <= 1.2) for N(1,4) = %f\" , pnorm(1.2,1,2)-pnorm(-0.2,1,2))\n",
    "\n",
    "sprintf (\"P(-0.271 <= Z <= 0.271) for T(4) = %f\" , pt(0.271,4)-pt(-0.271,4))\n",
    "sprintf (\"P(0,414 <= Z <= 1.19) for T(4) = %f\" , pt(1.19,4)-pt(0.414,4))\n",
    "\n",
    "sprintf (\"t so that P( Z <= t) = 0,95 for N(0,1), t = %f\" , qnorm(0.95))\n",
    "sprintf (\"t so that P( Z <= t) = 0,95 for N(1,4), t = %f\" , qnorm(0.95,1,2))\n"
   ]
  },
  {
   "cell_type": "markdown",
   "metadata": {},
   "source": [
    "## Example 3.3 - Compare Student distribution when the degree of freedom is changing\n",
    "* comparaison with 2,4 and 10 degree of freedom"
   ]
  },
  {
   "cell_type": "code",
   "execution_count": 13,
   "metadata": {
    "scrolled": false
   },
   "outputs": [
    {
     "data": {
      "text/html": [
       "<span style=white-space:pre-wrap>'value for which Probability for Student T(2) = 0.95 :  t= 1.885618'</span>"
      ],
      "text/latex": [
       "'value for which Probability for Student T(2) = 0.95 :  t= 1.885618'"
      ],
      "text/markdown": [
       "<span style=white-space:pre-wrap>'value for which Probability for Student T(2) = 0.95 :  t= 1.885618'</span>"
      ],
      "text/plain": [
       "[1] \"value for which Probability for Student T(2) = 0.95 :  t= 1.885618\""
      ]
     },
     "metadata": {},
     "output_type": "display_data"
    },
    {
     "data": {
      "text/html": [
       "<span style=white-space:pre-wrap>'value for which Probability for Student T(2) = 0.95 :  t= 1.533206'</span>"
      ],
      "text/latex": [
       "'value for which Probability for Student T(2) = 0.95 :  t= 1.533206'"
      ],
      "text/markdown": [
       "<span style=white-space:pre-wrap>'value for which Probability for Student T(2) = 0.95 :  t= 1.533206'</span>"
      ],
      "text/plain": [
       "[1] \"value for which Probability for Student T(2) = 0.95 :  t= 1.533206\""
      ]
     },
     "metadata": {},
     "output_type": "display_data"
    },
    {
     "data": {
      "text/html": [
       "<span style=white-space:pre-wrap>'value for which Probability for Student T(2) = 0.95 :  t= 1.372184'</span>"
      ],
      "text/latex": [
       "'value for which Probability for Student T(2) = 0.95 :  t= 1.372184'"
      ],
      "text/markdown": [
       "<span style=white-space:pre-wrap>'value for which Probability for Student T(2) = 0.95 :  t= 1.372184'</span>"
      ],
      "text/plain": [
       "[1] \"value for which Probability for Student T(2) = 0.95 :  t= 1.372184\""
      ]
     },
     "metadata": {},
     "output_type": "display_data"
    },
    {
     "data": {
      "image/png": "[encoded data removed]",
      "text/plain": [
       "Plot with title \"Student Distribution with different degrees of freedom\""
      ]
     },
     "metadata": {
      "image/png": {
       "height": 420,
       "width": 420
      },
      "text/plain": {
       "height": 420,
       "width": 420
      }
     },
     "output_type": "display_data"
    }
   ],
   "source": [
    "x=seq(-5,5,0.01)\n",
    "y2=dt(x,2)\n",
    "y4=dt(x,4)\n",
    "y10=dt(x,10)\n",
    "maxy=max(y2,y4,y10)\n",
    "plot(x,y2,type='l',col='red',xlim=c(-5,5),ylim=c(0,maxy),ylab=\"y\",main=\"Student Distribution with different degrees of freedom\")\n",
    "par(new=TRUE)\n",
    "plot(x,y4,type='l',col='blue',xlim=c(-5,5),ylim=c(0,maxy),xlab=\"\",ylab=\"\")\n",
    "par(new=TRUE)\n",
    "plot(x,y10,type='l',col='green',xlim=c(-5,5),ylim=c(0,maxy),xlab=\"\",ylab=\"\")\n",
    "legend(\"topleft\" ,legend=c(\"T(2)\", \"T(4)\",\"T(10)\"), col=c(\"red\", \"blue\",\"green\"),lty = 1)\n",
    "sprintf(\"value for which Probability for Student T(2) = 0.95 :  t= %f\",qt(0.9,2))\n",
    "sprintf(\"value for which Probability for Student T(2) = 0.95 :  t= %f\",qt(0.9,4))\n",
    "sprintf(\"value for which Probability for Student T(2) = 0.95 :  t= %f\",qt(0.9,10))\n"
   ]
  },
  {
   "cell_type": "markdown",
   "metadata": {},
   "source": [
    "## Exemple 3.4 - Showing that the Mean of a dataset can be outside of the calculated Confidence Interval\n",
    "* but with a probability linked to the choice of alpha\n",
    "* in the example, the simulation is a Normal distribution (mu=1,sd=2) and alpha = 0.05\n",
    "* we suppose that the variance = 4 is known\n",
    "* we run the simulation 100 times and check the number of times that mu is out of the calculated CI"
   ]
  },
  {
   "cell_type": "code",
   "execution_count": 14,
   "metadata": {
    "scrolled": true
   },
   "outputs": [
    {
     "data": {
      "text/html": [
       "'mu is out of CI 4 times over 100. The maximum should be : 5 times'"
      ],
      "text/latex": [
       "'mu is out of CI 4 times over 100. The maximum should be : 5 times'"
      ],
      "text/markdown": [
       "'mu is out of CI 4 times over 100. The maximum should be : 5 times'"
      ],
      "text/plain": [
       "[1] \"mu is out of CI 4 times over 100. The maximum should be : 5 times\""
      ]
     },
     "metadata": {},
     "output_type": "display_data"
    }
   ],
   "source": [
    "#if you run it several times, you can have mu out of CI \n",
    "K=100\n",
    "M=matrix(data=0,ncol=2,nrow=K) # one CI by row\n",
    "for (i in 1:K)\n",
    "{\n",
    "  data=rnorm(1000,2,1) # normal mu=2 sd= 1\n",
    "  # alpha = 5%, sd is known\n",
    "  lowerbound = mean(data)-1/sqrt(1000)*qnorm(0.975)\n",
    "  upperbound = mean(data)+1/sqrt(1000)*qnorm(0.975)\n",
    "  CI =c(lowerbound,upperbound)\n",
    "  M[i,]=CI\n",
    "}\n",
    "#M # we should have at most 5% of cases where mu outside of CI# counting when we are outside\n",
    "B=(M[,1]>2)+(M[,2]<2)\n",
    "sprintf(\"mu is out of CI %i times over %i. The maximum should be : %i times\",sum(B),K,5) #number of sample where mu out of CI\n",
    "\n",
    "\n"
   ]
  },
  {
   "cell_type": "markdown",
   "metadata": {},
   "source": [
    "## Example 3.5 - Is Max(Xi) a good approximation for N in a Binomail distribution(N,p) (as it is for Uniform Distribution)\n",
    "* we simulate 10000 Binomial distribution sample (10,p) for p=0.8 and p=0.2\n",
    "* for p=0.8, the Max(Xi) estimator is good (very close to 10)\n",
    "* for p=0.2, the Max(Xi) estimator is not good\n",
    "* the estimator is not good for p=0.2 because the probability to have a 10 value among the 10000 observations is very low"
   ]
  },
  {
   "cell_type": "code",
   "execution_count": 15,
   "metadata": {},
   "outputs": [
    {
     "data": {
      "text/html": [
       "'estimator of N (=10) for Binomial(10,0.8) : 10.000000 - very good'"
      ],
      "text/latex": [
       "'estimator of N (=10) for Binomial(10,0.8) : 10.000000 - very good'"
      ],
      "text/markdown": [
       "'estimator of N (=10) for Binomial(10,0.8) : 10.000000 - very good'"
      ],
      "text/plain": [
       "[1] \"estimator of N (=10) for Binomial(10,0.8) : 10.000000 - very good\""
      ]
     },
     "metadata": {},
     "output_type": "display_data"
    },
    {
     "data": {
      "text/html": [
       "'estimator of N (=10) for Binomial(10,0.2) : 7.000000 - not good'"
      ],
      "text/latex": [
       "'estimator of N (=10) for Binomial(10,0.2) : 7.000000 - not good'"
      ],
      "text/markdown": [
       "'estimator of N (=10) for Binomial(10,0.2) : 7.000000 - not good'"
      ],
      "text/plain": [
       "[1] \"estimator of N (=10) for Binomial(10,0.2) : 7.000000 - not good\""
      ]
     },
     "metadata": {},
     "output_type": "display_data"
    },
    {
     "data": {
      "text/html": [
       "'Probability to reach to have a sample = 10 with p=0.2 is very low : 0.001024'"
      ],
      "text/latex": [
       "'Probability to reach to have a sample = 10 with p=0.2 is very low : 0.001024'"
      ],
      "text/markdown": [
       "'Probability to reach to have a sample = 10 with p=0.2 is very low : 0.001024'"
      ],
      "text/plain": [
       "[1] \"Probability to reach to have a sample = 10 with p=0.2 is very low : 0.001024\""
      ]
     },
     "metadata": {},
     "output_type": "display_data"
    }
   ],
   "source": [
    "#binomial\n",
    "D1=rbinom(10000,10,0.8) # N=10\n",
    "sprintf(\"estimator of N (=10) for Binomial(10,0.8) : %f - very good\",max(D1)) # ok\n",
    "D2=rbinom(10000,10,0.2)\n",
    "sprintf(\"estimator of N (=10) for Binomial(10,0.2) : %f - not good\",max(D2)) # ok\n",
    "sprintf(\"Probability to reach to have a sample = 10 with p=0.2 is very low : %f\",0.2^10*10000) # ok\n"
   ]
  },
  {
   "cell_type": "markdown",
   "metadata": {},
   "source": [
    "# Day 4\n",
    "## Example 4.1 Modelisation of dataset data1.txt\n",
    "\n",
    "### Access to the file"
   ]
  },
  {
   "cell_type": "code",
   "execution_count": 16,
   "metadata": {
    "scrolled": true
   },
   "outputs": [
    {
     "data": {
      "text/html": [
       "'C:/Users/erick/OneDrive - Data ScienceTech Institute/course/FSML2/R samples'"
      ],
      "text/latex": [
       "'C:/Users/erick/OneDrive - Data ScienceTech Institute/course/FSML2/R samples'"
      ],
      "text/markdown": [
       "'C:/Users/erick/OneDrive - Data ScienceTech Institute/course/FSML2/R samples'"
      ],
      "text/plain": [
       "[1] \"C:/Users/erick/OneDrive - Data ScienceTech Institute/course/FSML2/R samples\""
      ]
     },
     "metadata": {},
     "output_type": "display_data"
    }
   ],
   "source": [
    "getwd() # folder used at the moment\n",
    "# to modify the default header : setwd(filename)\n",
    "# dir() # to see the content of the current directory"
   ]
  },
  {
   "cell_type": "markdown",
   "metadata": {},
   "source": [
    "### use of read.table to read a file\n",
    "* data1 is a data.frame (works as a list)\n",
    "* use \"header=TRUE or header = FALSE\" depending if you have header in the file\n",
    "* in our case there is no header => header = FALSE\n",
    "* argument \"set=\" to fixe separator. For instance set=\";\" for a \";\" separator\n",
    "* in R by default the \".\" is used as a decimal separator. To change it dec = ','"
   ]
  },
  {
   "cell_type": "code",
   "execution_count": 17,
   "metadata": {
    "scrolled": true
   },
   "outputs": [
    {
     "data": {
      "text/html": [
       "<table>\n",
       "<caption>A data.frame: 6 × 1</caption>\n",
       "<thead>\n",
       "\t<tr><th></th><th scope=col>V1</th></tr>\n",
       "\t<tr><th></th><th scope=col>&lt;dbl&gt;</th></tr>\n",
       "</thead>\n",
       "<tbody>\n",
       "\t<tr><th scope=row>1</th><td>0.5792213</td></tr>\n",
       "\t<tr><th scope=row>2</th><td>1.7901780</td></tr>\n",
       "\t<tr><th scope=row>3</th><td>0.3182912</td></tr>\n",
       "\t<tr><th scope=row>4</th><td>1.5247270</td></tr>\n",
       "\t<tr><th scope=row>5</th><td>2.2034720</td></tr>\n",
       "\t<tr><th scope=row>6</th><td>0.5783241</td></tr>\n",
       "</tbody>\n",
       "</table>\n"
      ],
      "text/latex": [
       "A data.frame: 6 × 1\n",
       "\\begin{tabular}{r|l}\n",
       "  & V1\\\\\n",
       "  & <dbl>\\\\\n",
       "\\hline\n",
       "\t1 & 0.5792213\\\\\n",
       "\t2 & 1.7901780\\\\\n",
       "\t3 & 0.3182912\\\\\n",
       "\t4 & 1.5247270\\\\\n",
       "\t5 & 2.2034720\\\\\n",
       "\t6 & 0.5783241\\\\\n",
       "\\end{tabular}\n"
      ],
      "text/markdown": [
       "\n",
       "A data.frame: 6 × 1\n",
       "\n",
       "| <!--/--> | V1 &lt;dbl&gt; |\n",
       "|---|---|\n",
       "| 1 | 0.5792213 |\n",
       "| 2 | 1.7901780 |\n",
       "| 3 | 0.3182912 |\n",
       "| 4 | 1.5247270 |\n",
       "| 5 | 2.2034720 |\n",
       "| 6 | 0.5783241 |\n",
       "\n"
      ],
      "text/plain": [
       "  V1       \n",
       "1 0.5792213\n",
       "2 1.7901780\n",
       "3 0.3182912\n",
       "4 1.5247270\n",
       "5 2.2034720\n",
       "6 0.5783241"
      ]
     },
     "metadata": {},
     "output_type": "display_data"
    }
   ],
   "source": [
    "data1 <- read.table(\"data1.txt\", header = FALSE, sep = \",\")\n",
    "head(data1) # check that data's are ok"
   ]
  },
  {
   "cell_type": "markdown",
   "metadata": {},
   "source": [
    "* To access to the first observation within the data1 data.frame"
   ]
  },
  {
   "cell_type": "code",
   "execution_count": 18,
   "metadata": {},
   "outputs": [
    {
     "data": {
      "text/html": [
       "'First row of dataset : 0.579221'"
      ],
      "text/latex": [
       "'First row of dataset : 0.579221'"
      ],
      "text/markdown": [
       "'First row of dataset : 0.579221'"
      ],
      "text/plain": [
       "[1] \"First row of dataset : 0.579221\""
      ]
     },
     "metadata": {},
     "output_type": "display_data"
    }
   ],
   "source": [
    "sprintf(\"First row of dataset : %f\",data1[1,])"
   ]
  },
  {
   "cell_type": "markdown",
   "metadata": {},
   "source": [
    "* To Get the size of the dataset"
   ]
  },
  {
   "cell_type": "code",
   "execution_count": 19,
   "metadata": {
    "scrolled": true
   },
   "outputs": [
    {
     "data": {
      "text/html": [
       "'dimension of the dataset data1.txt : 5000 observations'"
      ],
      "text/latex": [
       "'dimension of the dataset data1.txt : 5000 observations'"
      ],
      "text/markdown": [
       "'dimension of the dataset data1.txt : 5000 observations'"
      ],
      "text/plain": [
       "[1] \"dimension of the dataset data1.txt : 5000 observations\""
      ]
     },
     "metadata": {},
     "output_type": "display_data"
    }
   ],
   "source": [
    "sprintf(\"dimension of the dataset data1.txt : %i observations\", dim(data1)[1])\n"
   ]
  },
  {
   "cell_type": "markdown",
   "metadata": {},
   "source": [
    "### Looking at the datas we found that we have a quantitative and continuous variable\n",
    "\n",
    "* the histogramme will be the correct representation\n",
    "* as.matrix() transform the object into a matrix"
   ]
  },
  {
   "cell_type": "code",
   "execution_count": 20,
   "metadata": {},
   "outputs": [
    {
     "data": {
      "image/png": "[encoded data removed]",
      "text/plain": [
       "Plot with title \"histogram for dataset data1.txt\""
      ]
     },
     "metadata": {
      "image/png": {
       "height": 420,
       "width": 420
      },
      "text/plain": {
       "height": 420,
       "width": 420
      }
     },
     "output_type": "display_data"
    }
   ],
   "source": [
    "mdata1 = as.matrix(data1)\n",
    "hist(mdata1,freq = FALSE,main=\"histogram for dataset data1.txt\")\n",
    "\n",
    "\n"
   ]
  },
  {
   "cell_type": "markdown",
   "metadata": {},
   "source": [
    "### We guess that it can be an exponential distribution\n",
    "* we need to estimate the parameter lambda\n",
    "* by method of moments an estimator lambda_1 = 1/mean(Xi)"
   ]
  },
  {
   "cell_type": "code",
   "execution_count": 21,
   "metadata": {},
   "outputs": [
    {
     "data": {
      "text/html": [
       "'An estimator lambda = 0.757914'"
      ],
      "text/latex": [
       "'An estimator lambda = 0.757914'"
      ],
      "text/markdown": [
       "'An estimator lambda = 0.757914'"
      ],
      "text/plain": [
       "[1] \"An estimator lambda = 0.757914\""
      ]
     },
     "metadata": {},
     "output_type": "display_data"
    }
   ],
   "source": [
    "lambda_1 = 1/mean(mdata1)\n",
    "sprintf(\"An estimator lambda = %f\",lambda_1)\n"
   ]
  },
  {
   "cell_type": "markdown",
   "metadata": {},
   "source": [
    "### Compare Theory and Practice"
   ]
  },
  {
   "cell_type": "code",
   "execution_count": 22,
   "metadata": {},
   "outputs": [
    {
     "data": {
      "image/png": "[encoded data removed]",
      "text/plain": [
       "Plot with title \"comparison between histogram of data1 and exponential distribution\""
      ]
     },
     "metadata": {
      "image/png": {
       "height": 420,
       "width": 420
      },
      "text/plain": {
       "height": 420,
       "width": 420
      }
     },
     "output_type": "display_data"
    }
   ],
   "source": [
    "H=hist(mdata1,plot=FALSE)\n",
    "limits = H$breaks\n",
    "infl=min(limits) # minimum value of the dataset\n",
    "subl=max(limits) # maximum value of the dataset\n",
    "x=seq(infl,subl,0.01) #step small enough to have something smooth\n",
    "yt=dexp(x,lambda_1) # theorical exponential distribution\n",
    "yh=h$density\n",
    "ymax=max(yt,yh)\n",
    "hist(mdata1,freq=FALSE,xlim=c(infl,subl),ylim=c(0,ymax),main=\"comparison between histogram of data1 and exponential distribution\")\n",
    "par(new=TRUE)\n",
    "plot(x,yt,type='l',col='red',xlim=c(infl,subl),ylim=c(0,ymax)) # exponential distribution\n",
    "legend(\"topright\" ,legend=c(\"Dataset\", \"Exponential\"), col=c(\"black\", \"red\"),lty = 1)\n",
    "\n"
   ]
  },
  {
   "cell_type": "markdown",
   "metadata": {},
   "source": [
    "### The fit is good unless close to 0\n",
    "* so we split the first classes and group the last ones to have a better graph"
   ]
  },
  {
   "cell_type": "code",
   "execution_count": 23,
   "metadata": {
    "scrolled": true
   },
   "outputs": [
    {
     "data": {
      "image/png": "[encoded data removed]",
      "text/plain": [
       "Plot with title \"comparison between histogram of data1 and exponential distribution\""
      ]
     },
     "metadata": {
      "image/png": {
       "height": 420,
       "width": 420
      },
      "text/plain": {
       "height": 420,
       "width": 420
      }
     },
     "output_type": "display_data"
    }
   ],
   "source": [
    "H=hist(mdata1,plot=FALSE)\n",
    "limits = H$breaks\n",
    "infl=min(limits)\n",
    "subl=max(limits)\n",
    "x=seq(infl,subl,0.01) #step small enough to have something smooth\n",
    "yt=dexp(x,lambda_1)\n",
    "yh=h$density\n",
    "ymax=max(yt,yh)\n",
    "hist(mdata1,breaks=c(0,0.3,0.6,0.9,1.2,1.5,2,3,4,6,12),freq=FALSE,xlim=c(infl,subl),ylim=c(0,ymax),main=\"comparison between histogram of data1 and exponential distribution\")\n",
    "par(new=TRUE)\n",
    "plot(x,yt,type='l',col='red',xlim=c(infl,subl),ylim=c(0,ymax)) # exponential distribution\n",
    "legend(\"topright\" ,legend=c(\"Dataset\", \"Exponential\"), col=c(\"black\", \"red\"),lty = 1)\n"
   ]
  },
  {
   "cell_type": "markdown",
   "metadata": {},
   "source": [
    "### Conclusion : our chose of an exponential distribution as a model seems to be ok"
   ]
  },
  {
   "cell_type": "markdown",
   "metadata": {},
   "source": [
    "## Example 4.2 Modelisation of dataset data2.txt\n",
    "\n",
    "### Looking at the datas we found that we have a quantitative and discrete variable\n"
   ]
  },
  {
   "cell_type": "markdown",
   "metadata": {},
   "source": [
    "* discrete values => barplot\n",
    "* the table function : count the occurences of each value / number of observation\n"
   ]
  },
  {
   "cell_type": "code",
   "execution_count": 24,
   "metadata": {},
   "outputs": [
    {
     "data": {
      "text/html": [
       "'dimension of the dataset data2.txt : 500 observations'"
      ],
      "text/latex": [
       "'dimension of the dataset data2.txt : 500 observations'"
      ],
      "text/markdown": [
       "'dimension of the dataset data2.txt : 500 observations'"
      ],
      "text/plain": [
       "[1] \"dimension of the dataset data2.txt : 500 observations\""
      ]
     },
     "metadata": {},
     "output_type": "display_data"
    },
    {
     "data": {
      "image/png": "[encoded data removed]",
      "text/plain": [
       "Plot with title \"barplot for dataset data2.txt\""
      ]
     },
     "metadata": {
      "image/png": {
       "height": 420,
       "width": 420
      },
      "text/plain": {
       "height": 420,
       "width": 420
      }
     },
     "output_type": "display_data"
    }
   ],
   "source": [
    "# dataset 2\n",
    "data2 <- read.table(\"data2.txt\", header = FALSE, sep = \",\")\n",
    "count=table(data2)\n",
    "sprintf(\"dimension of the dataset data2.txt : %i observations\", dim(data2)[1])\n",
    "mdata2 = as.matrix(data2)\n",
    "barplot(count / 500, main=\"barplot for dataset data2.txt\")\n"
   ]
  },
  {
   "cell_type": "markdown",
   "metadata": {},
   "source": [
    "### We guess that it can be either a binomial or a poisson distribution\n",
    "\n",
    "* For Poisson, by method of moments, an estimator lambda_p is empirical mean\n",
    "* For Binomial, by method of moment :\n",
    "    1. p_b = (mu-var)/mu, \n",
    "    2. N_b =mu^2/(mu-var) - take care, N must be an insteger\n"
   ]
  },
  {
   "cell_type": "code",
   "execution_count": 25,
   "metadata": {},
   "outputs": [
    {
     "data": {
      "text/html": [
       "'The lambda_p estimator for Poisson distribution = 2.022000'"
      ],
      "text/latex": [
       "'The lambda\\_p estimator for Poisson distribution = 2.022000'"
      ],
      "text/markdown": [
       "'The lambda_p estimator for Poisson distribution = 2.022000'"
      ],
      "text/plain": [
       "[1] \"The lambda_p estimator for Poisson distribution = 2.022000\""
      ]
     },
     "metadata": {},
     "output_type": "display_data"
    },
    {
     "data": {
      "text/html": [
       "'The p_b and N_b estimators for binomial distribution are : p_b = 0.154830 and N_b = 13.059490'"
      ],
      "text/latex": [
       "'The p\\_b and N\\_b estimators for binomial distribution are : p\\_b = 0.154830 and N\\_b = 13.059490'"
      ],
      "text/markdown": [
       "'The p_b and N_b estimators for binomial distribution are : p_b = 0.154830 and N_b = 13.059490'"
      ],
      "text/plain": [
       "[1] \"The p_b and N_b estimators for binomial distribution are : p_b = 0.154830 and N_b = 13.059490\""
      ]
     },
     "metadata": {},
     "output_type": "display_data"
    },
    {
     "data": {
      "text/html": [
       "'Since N_b must be an integer, the new value will be N_b = 13 and p_b must be recalculated with this value'"
      ],
      "text/latex": [
       "'Since N\\_b must be an integer, the new value will be N\\_b = 13 and p\\_b must be recalculated with this value'"
      ],
      "text/markdown": [
       "'Since N_b must be an integer, the new value will be N_b = 13 and p_b must be recalculated with this value'"
      ],
      "text/plain": [
       "[1] \"Since N_b must be an integer, the new value will be N_b = 13 and p_b must be recalculated with this value\""
      ]
     },
     "metadata": {},
     "output_type": "display_data"
    },
    {
     "data": {
      "text/html": [
       "'The new value of p_b is 0.155538'"
      ],
      "text/latex": [
       "'The new value of p\\_b is 0.155538'"
      ],
      "text/markdown": [
       "'The new value of p_b is 0.155538'"
      ],
      "text/plain": [
       "[1] \"The new value of p_b is 0.155538\""
      ]
     },
     "metadata": {},
     "output_type": "display_data"
    }
   ],
   "source": [
    "lambda_p = mean(as.matrix(data2)) # an estimation - associated value to an estimator\n",
    "sprintf(\"The lambda_p estimator for Poisson distribution = %f\",lambda_p)\n",
    "\n",
    "p_b = (mean(mdata2)-var(mdata2))/mean(mdata2)\n",
    "N_b = mean(mdata2)/p_b # must be an integer\n",
    "sprintf(\"The p_b and N_b estimators for binomial distribution are : p_b = %f and N_b = %f\",p_b,N_b)\n",
    "sprintf(\"Since N_b must be an integer, the new value will be N_b = 13 and p_b must be recalculated with this value\")\n",
    "N_b = 13\n",
    "p_b = mean(mdata2)/N_b\n",
    "sprintf(\"The new value of p_b is %f\",p_b)\n"
   ]
  },
  {
   "cell_type": "markdown",
   "metadata": {},
   "source": [
    "### We do graphical superposition to choose between Poisson and Binomial and compare the theory with the given dataset data2"
   ]
  },
  {
   "cell_type": "code",
   "execution_count": 26,
   "metadata": {
    "scrolled": false
   },
   "outputs": [
    {
     "data": {
      "text/plain": [
       "data2\n",
       "  0   1   2   3   4   5   6 \n",
       " 62 119 152 105  41  17   4 "
      ]
     },
     "metadata": {},
     "output_type": "display_data"
    },
    {
     "data": {
      "image/png": "[encoded data removed]",
      "text/plain": [
       "plot without title"
      ]
     },
     "metadata": {
      "image/png": {
       "height": 420,
       "width": 420
      },
      "text/plain": {
       "height": 420,
       "width": 420
      }
     },
     "output_type": "display_data"
    }
   ],
   "source": [
    "reality = count/500\n",
    "plot(0:6,reality,col='red',type='p',xlim=c(0,13),ylim=c(0,0.4),xlab=\"values\",ylab=\"density\")\n",
    "\n",
    "xx=0:N_b\n",
    "par(new=TRUE)\n",
    "Bin = dbinom(xx,N_b,p_b)\n",
    "count_bin = table(Bin)\n",
    "plot(xx,Bin,col='blue',type='p',xlim=c(0,13),ylim=c(0,0.4),xlab=\"\",ylab=\"\")\n",
    "\n",
    "par(new=TRUE)\n",
    "x=0:N_b\n",
    "Pois = dpois(x,lambda_p)\n",
    "count_pois = table(Pois)\n",
    "#barplot(count_pois / 5000, col = 'blue')\n",
    "plot(x,Pois,col='green',type='p',xlim=c(0,13),ylim=c(0,0.4),xlab=\"\",ylab=\"\")\n",
    "legend(\"toprigh\" ,legend=c(\"Dataset\", \"Binomial\",\"Poisson\"), col=c(\"red\", \"blue\",\"green\"),pch = c(1,1,1))\n",
    "\n",
    "\n"
   ]
  },
  {
   "cell_type": "markdown",
   "metadata": {},
   "source": [
    "### Binomial is closer to the dataset so we choose the Binomial Distribution with p = 0.1555 and N = 13\n",
    "\n",
    "* Difficult to choose between Poison and Binomial because Poison can be an approximation of Binomial\n",
    "\n",
    "* Practicaly, it is easely to use Poisson (one parameter) than Binomial (two parameters)"
   ]
  },
  {
   "cell_type": "markdown",
   "metadata": {},
   "source": [
    "## Tips to be sure that we have numerical values => try to add two values"
   ]
  },
  {
   "cell_type": "code",
   "execution_count": 27,
   "metadata": {
    "scrolled": false
   },
   "outputs": [
    {
     "data": {
      "text/html": [
       "'addition of two values works x[1]+x[4] = 15'"
      ],
      "text/latex": [
       "'addition of two values works x{[}1{]}+x{[}4{]} = 15'"
      ],
      "text/markdown": [
       "'addition of two values works x[1]+x[4] = 15'"
      ],
      "text/plain": [
       "[1] \"addition of two values works x[1]+x[4] = 15\""
      ]
     },
     "metadata": {},
     "output_type": "display_data"
    },
    {
     "data": {
      "text/html": [
       "'Here we have categorical values looking like numerical values - see Levels information between the table'"
      ],
      "text/latex": [
       "'Here we have categorical values looking like numerical values - see Levels information between the table'"
      ],
      "text/markdown": [
       "'Here we have categorical values looking like numerical values - see Levels information between the table'"
      ],
      "text/plain": [
       "[1] \"Here we have categorical values looking like numerical values - see Levels information between the table\""
      ]
     },
     "metadata": {},
     "output_type": "display_data"
    },
    {
     "data": {
      "text/html": [
       "<style>\n",
       ".list-inline {list-style: none; margin:0; padding: 0}\n",
       ".list-inline>li {display: inline-block}\n",
       ".list-inline>li:not(:last-child)::after {content: \"\\00b7\"; padding: 0 .5ex}\n",
       "</style>\n",
       "<ol class=list-inline><li>6</li><li>1</li><li>1</li><li>9</li><li>4</li><li>5</li></ol>\n",
       "\n",
       "<details>\n",
       "\t<summary style=display:list-item;cursor:pointer>\n",
       "\t\t<strong>Levels</strong>:\n",
       "\t</summary>\n",
       "\t<style>\n",
       "\t.list-inline {list-style: none; margin:0; padding: 0}\n",
       "\t.list-inline>li {display: inline-block}\n",
       "\t.list-inline>li:not(:last-child)::after {content: \"\\00b7\"; padding: 0 .5ex}\n",
       "\t</style>\n",
       "\t<ol class=list-inline><li>'1'</li><li>'2'</li><li>'3'</li><li>'4'</li><li>'5'</li><li>'6'</li><li>'7'</li><li>'8'</li><li>'9'</li><li>'10'</li></ol>\n",
       "</details>"
      ],
      "text/latex": [
       "\\begin{enumerate*}\n",
       "\\item 6\n",
       "\\item 1\n",
       "\\item 1\n",
       "\\item 9\n",
       "\\item 4\n",
       "\\item 5\n",
       "\\end{enumerate*}\n",
       "\n",
       "\\emph{Levels}: \\begin{enumerate*}\n",
       "\\item '1'\n",
       "\\item '2'\n",
       "\\item '3'\n",
       "\\item '4'\n",
       "\\item '5'\n",
       "\\item '6'\n",
       "\\item '7'\n",
       "\\item '8'\n",
       "\\item '9'\n",
       "\\item '10'\n",
       "\\end{enumerate*}\n"
      ],
      "text/markdown": [
       "1. 6\n",
       "2. 1\n",
       "3. 1\n",
       "4. 9\n",
       "5. 4\n",
       "6. 5\n",
       "\n",
       "\n",
       "\n",
       "**Levels**: 1. '1'\n",
       "2. '2'\n",
       "3. '3'\n",
       "4. '4'\n",
       "5. '5'\n",
       "6. '6'\n",
       "7. '7'\n",
       "8. '8'\n",
       "9. '9'\n",
       "10. '10'\n",
       "\n",
       "\n"
      ],
      "text/plain": [
       "[1] 6 1 1 9 4 5\n",
       "Levels: 1 2 3 4 5 6 7 8 9 10"
      ]
     },
     "metadata": {},
     "output_type": "display_data"
    },
    {
     "data": {
      "text/html": [
       "'If we try to add two values we get an error'"
      ],
      "text/latex": [
       "'If we try to add two values we get an error'"
      ],
      "text/markdown": [
       "'If we try to add two values we get an error'"
      ],
      "text/plain": [
       "[1] \"If we try to add two values we get an error\""
      ]
     },
     "metadata": {},
     "output_type": "display_data"
    },
    {
     "name": "stderr",
     "output_type": "stream",
     "text": [
      "Warning message in Ops.factor(xf[4], xf[1]):\n",
      "\"'+' not meaningful for factors\"\n"
     ]
    },
    {
     "data": {
      "text/html": [
       "&lt;NA&gt;"
      ],
      "text/latex": [
       "<NA>"
      ],
      "text/markdown": [
       "&lt;NA&gt;"
      ],
      "text/plain": [
       "[1] NA"
      ]
     },
     "metadata": {},
     "output_type": "display_data"
    }
   ],
   "source": [
    "x<-sample(1:10,50,replace=TRUE) # \n",
    "sprintf(\"addition of two values works x[1]+x[4] = %i\",x[1]+x[4])\n",
    "xf=as.factor(x)\n",
    "sprintf(\"Here we have categorical values looking like numerical values - see Levels information between the table\")\n",
    "head(xf) # here level = categorical\n",
    "sprintf(\"If we try to add two values we get an error\")\n",
    "xf[4]+xf[1]"
   ]
  },
  {
   "cell_type": "markdown",
   "metadata": {},
   "source": [
    "### Available dataset in R : iris database\n",
    "* help(\"iris\") : gives detailled information on the dataset"
   ]
  },
  {
   "cell_type": "code",
   "execution_count": 28,
   "metadata": {},
   "outputs": [
    {
     "data": {
      "text/html": [
       "<table>\n",
       "<caption>A data.frame: 6 × 5</caption>\n",
       "<thead>\n",
       "\t<tr><th></th><th scope=col>Sepal.Length</th><th scope=col>Sepal.Width</th><th scope=col>Petal.Length</th><th scope=col>Petal.Width</th><th scope=col>Species</th></tr>\n",
       "\t<tr><th></th><th scope=col>&lt;dbl&gt;</th><th scope=col>&lt;dbl&gt;</th><th scope=col>&lt;dbl&gt;</th><th scope=col>&lt;dbl&gt;</th><th scope=col>&lt;fct&gt;</th></tr>\n",
       "</thead>\n",
       "<tbody>\n",
       "\t<tr><th scope=row>1</th><td>5.1</td><td>3.5</td><td>1.4</td><td>0.2</td><td>setosa</td></tr>\n",
       "\t<tr><th scope=row>2</th><td>4.9</td><td>3.0</td><td>1.4</td><td>0.2</td><td>setosa</td></tr>\n",
       "\t<tr><th scope=row>3</th><td>4.7</td><td>3.2</td><td>1.3</td><td>0.2</td><td>setosa</td></tr>\n",
       "\t<tr><th scope=row>4</th><td>4.6</td><td>3.1</td><td>1.5</td><td>0.2</td><td>setosa</td></tr>\n",
       "\t<tr><th scope=row>5</th><td>5.0</td><td>3.6</td><td>1.4</td><td>0.2</td><td>setosa</td></tr>\n",
       "\t<tr><th scope=row>6</th><td>5.4</td><td>3.9</td><td>1.7</td><td>0.4</td><td>setosa</td></tr>\n",
       "</tbody>\n",
       "</table>\n"
      ],
      "text/latex": [
       "A data.frame: 6 × 5\n",
       "\\begin{tabular}{r|lllll}\n",
       "  & Sepal.Length & Sepal.Width & Petal.Length & Petal.Width & Species\\\\\n",
       "  & <dbl> & <dbl> & <dbl> & <dbl> & <fct>\\\\\n",
       "\\hline\n",
       "\t1 & 5.1 & 3.5 & 1.4 & 0.2 & setosa\\\\\n",
       "\t2 & 4.9 & 3.0 & 1.4 & 0.2 & setosa\\\\\n",
       "\t3 & 4.7 & 3.2 & 1.3 & 0.2 & setosa\\\\\n",
       "\t4 & 4.6 & 3.1 & 1.5 & 0.2 & setosa\\\\\n",
       "\t5 & 5.0 & 3.6 & 1.4 & 0.2 & setosa\\\\\n",
       "\t6 & 5.4 & 3.9 & 1.7 & 0.4 & setosa\\\\\n",
       "\\end{tabular}\n"
      ],
      "text/markdown": [
       "\n",
       "A data.frame: 6 × 5\n",
       "\n",
       "| <!--/--> | Sepal.Length &lt;dbl&gt; | Sepal.Width &lt;dbl&gt; | Petal.Length &lt;dbl&gt; | Petal.Width &lt;dbl&gt; | Species &lt;fct&gt; |\n",
       "|---|---|---|---|---|---|\n",
       "| 1 | 5.1 | 3.5 | 1.4 | 0.2 | setosa |\n",
       "| 2 | 4.9 | 3.0 | 1.4 | 0.2 | setosa |\n",
       "| 3 | 4.7 | 3.2 | 1.3 | 0.2 | setosa |\n",
       "| 4 | 4.6 | 3.1 | 1.5 | 0.2 | setosa |\n",
       "| 5 | 5.0 | 3.6 | 1.4 | 0.2 | setosa |\n",
       "| 6 | 5.4 | 3.9 | 1.7 | 0.4 | setosa |\n",
       "\n"
      ],
      "text/plain": [
       "  Sepal.Length Sepal.Width Petal.Length Petal.Width Species\n",
       "1 5.1          3.5         1.4          0.2         setosa \n",
       "2 4.9          3.0         1.4          0.2         setosa \n",
       "3 4.7          3.2         1.3          0.2         setosa \n",
       "4 4.6          3.1         1.5          0.2         setosa \n",
       "5 5.0          3.6         1.4          0.2         setosa \n",
       "6 5.4          3.9         1.7          0.4         setosa "
      ]
     },
     "metadata": {},
     "output_type": "display_data"
    }
   ],
   "source": [
    "head(iris)\n",
    "#help(\"iris\")"
   ]
  },
  {
   "cell_type": "markdown",
   "metadata": {},
   "source": [
    "## Example 4.3 Calculation of Khi square with R\n"
   ]
  },
  {
   "cell_type": "code",
   "execution_count": 29,
   "metadata": {
    "scrolled": false
   },
   "outputs": [
    {
     "data": {
      "text/html": [
       "' Calculation of a Khi square probability using pchisq : 0.009305'"
      ],
      "text/latex": [
       "' Calculation of a Khi square probability using pchisq : 0.009305'"
      ],
      "text/markdown": [
       "' Calculation of a Khi square probability using pchisq : 0.009305'"
      ],
      "text/plain": [
       "[1] \" Calculation of a Khi square probability using pchisq : 0.009305\""
      ]
     },
     "metadata": {},
     "output_type": "display_data"
    },
    {
     "data": {
      "text/html": [
       "' Calculation of a t value, the probabily being given : 12.017037'"
      ],
      "text/latex": [
       "' Calculation of a t value, the probabily being given : 12.017037'"
      ],
      "text/markdown": [
       "' Calculation of a t value, the probabily being given : 12.017037'"
      ],
      "text/plain": [
       "[1] \" Calculation of a t value, the probabily being given : 12.017037\""
      ]
     },
     "metadata": {},
     "output_type": "display_data"
    }
   ],
   "source": [
    "sprintf(\" Calculation of a Khi square probability using pchisq : %f\",pchisq(1.21,7)) # t=1.21, 7 degree liberty\n",
    "sprintf(\" Calculation of a t value, the probabily being given : %f\",qchisq(0.9,7))"
   ]
  },
  {
   "cell_type": "markdown",
   "metadata": {},
   "source": [
    "### how to get information on statistical function in R\n",
    "* start the general help : help.Start()\n",
    "* browse into the packages\n",
    "* open the \"stats\"package"
   ]
  },
  {
   "cell_type": "markdown",
   "metadata": {},
   "source": [
    "# Exercices Day 4"
   ]
  },
  {
   "cell_type": "markdown",
   "metadata": {},
   "source": [
    "## Exercice 4.1 dataset 3"
   ]
  },
  {
   "cell_type": "code",
   "execution_count": 11,
   "metadata": {
    "scrolled": false
   },
   "outputs": [
    {
     "data": {
      "text/plain": [
       "       V1       \n",
       " Min.   : 6.00  \n",
       " 1st Qu.:10.00  \n",
       " Median :11.00  \n",
       " Mean   :10.58  \n",
       " 3rd Qu.:11.00  \n",
       " Max.   :12.00  "
      ]
     },
     "metadata": {},
     "output_type": "display_data"
    },
    {
     "data": {
      "image/png": "[encoded data removed]",
      "text/plain": [
       "plot without title"
      ]
     },
     "metadata": {
      "image/png": {
       "height": 420,
       "width": 420
      },
      "text/plain": {
       "height": 420,
       "width": 420
      }
     },
     "output_type": "display_data"
    },
    {
     "data": {
      "text/html": [
       "'The p_b and N_b estimators for binomial distribution are : p_b = 0.880275 and N_b = 12.016697'"
      ],
      "text/latex": [
       "'The p\\_b and N\\_b estimators for binomial distribution are : p\\_b = 0.880275 and N\\_b = 12.016697'"
      ],
      "text/markdown": [
       "'The p_b and N_b estimators for binomial distribution are : p_b = 0.880275 and N_b = 12.016697'"
      ],
      "text/plain": [
       "[1] \"The p_b and N_b estimators for binomial distribution are : p_b = 0.880275 and N_b = 12.016697\""
      ]
     },
     "metadata": {},
     "output_type": "display_data"
    },
    {
     "data": {
      "text/html": [
       "'Since N_b must be an integer, the new value will be N_b = 12 and p_b must be recalculated with this value'"
      ],
      "text/latex": [
       "'Since N\\_b must be an integer, the new value will be N\\_b = 12 and p\\_b must be recalculated with this value'"
      ],
      "text/markdown": [
       "'Since N_b must be an integer, the new value will be N_b = 12 and p_b must be recalculated with this value'"
      ],
      "text/plain": [
       "[1] \"Since N_b must be an integer, the new value will be N_b = 12 and p_b must be recalculated with this value\""
      ]
     },
     "metadata": {},
     "output_type": "display_data"
    },
    {
     "data": {
      "text/html": [
       "'Red curve better fit the real curve (blue) =&gt; we can estimate that it is a binomial distribution with p = 0.881500 and N = 12.000000'"
      ],
      "text/latex": [
       "'Red curve better fit the real curve (blue) => we can estimate that it is a binomial distribution with p = 0.881500 and N = 12.000000'"
      ],
      "text/markdown": [
       "'Red curve better fit the real curve (blue) =&gt; we can estimate that it is a binomial distribution with p = 0.881500 and N = 12.000000'"
      ],
      "text/plain": [
       "[1] \"Red curve better fit the real curve (blue) => we can estimate that it is a binomial distribution with p = 0.881500 and N = 12.000000\""
      ]
     },
     "metadata": {},
     "output_type": "display_data"
    },
    {
     "data": {
      "image/png": "[encoded data removed]",
      "text/plain": [
       "plot without title"
      ]
     },
     "metadata": {
      "image/png": {
       "height": 420,
       "width": 420
      },
      "text/plain": {
       "height": 420,
       "width": 420
      }
     },
     "output_type": "display_data"
    }
   ],
   "source": [
    "df3 <- read.table(\"C:\\\\Users\\\\erick\\\\OneDrive - Data ScienceTech Institute\\\\course\\\\FSML2\\\\R samples\\\\data3.txt\", header = FALSE, sep = \",\")\n",
    "A3 = as.matrix(df3)\n",
    "summary(A3) \n",
    "reality = table(A3)/500\n",
    "barplot(reality)\n",
    "x=6:12\n",
    "\n",
    "plot(x,reality,col='red',type='p',xlim=c(0,13),ylim=c(0,0.4),xlab=\"values\",ylab=\"density\")\n",
    "\n",
    "\n",
    "p_b = (mean(A3)-var(A3))/mean(A3)\n",
    "N_b = mean(A3)/p_b # must be an integer\n",
    "sprintf(\"The p_b and N_b estimators for binomial distribution are : p_b = %f and N_b = %f\",p_b,N_b)\n",
    "sprintf(\"Since N_b must be an integer, the new value will be N_b = 12 and p_b must be recalculated with this value\")\n",
    "N_b = 12\n",
    "p_b = mean(A3)/N_b\n",
    "\n",
    "xx=0:N_b\n",
    "par(new=TRUE)\n",
    "Bin = dbinom(xx,N_b,p_b)\n",
    "count_bin = table(Bin)\n",
    "plot(xx,Bin,col='blue',type='p',xlim=c(0,13),ylim=c(0,0.4),xlab=\"\",ylab=\"\")\n",
    "\n",
    "par(new=TRUE)\n",
    "x=0:12\n",
    "Pois = dpois(x,lambda)\n",
    "count_pois = table(Pois)\n",
    "#barplot(count_pois / 5000, col = 'blue')\n",
    "plot(x,Pois,col='green',type='p',xlim=c(0,13),ylim=c(0,0.4),xlab=\"\",ylab=\"\")\n",
    "legend(\"topleft\" ,legend=c(\"Dataset\", \"Binomial\",\"Poisson\"), col=c(\"red\", \"blue\",\"green\"),pch = c(1,1,1))\n",
    "sprintf(\"Red curve better fit the real curve (blue) => we can estimate that it is a binomial distribution with p = %f and N = %f\",p_b,N_b)\n"
   ]
  },
  {
   "cell_type": "markdown",
   "metadata": {},
   "source": [
    "## Exercice 4.2 Dataset 4"
   ]
  },
  {
   "cell_type": "code",
   "execution_count": 12,
   "metadata": {},
   "outputs": [
    {
     "data": {
      "text/plain": [
       "       V1         \n",
       " Min.   :-6.1644  \n",
       " 1st Qu.:-0.4391  \n",
       " Median : 0.5817  \n",
       " Mean   : 0.5783  \n",
       " 3rd Qu.: 1.5857  \n",
       " Max.   : 7.3608  "
      ]
     },
     "metadata": {},
     "output_type": "display_data"
    },
    {
     "data": {
      "text/html": [
       "'we can estimate that it is a normal distribution with mu = 0.578265 and sigma = 1.504153'"
      ],
      "text/latex": [
       "'we can estimate that it is a normal distribution with mu = 0.578265 and sigma = 1.504153'"
      ],
      "text/markdown": [
       "'we can estimate that it is a normal distribution with mu = 0.578265 and sigma = 1.504153'"
      ],
      "text/plain": [
       "[1] \"we can estimate that it is a normal distribution with mu = 0.578265 and sigma = 1.504153\""
      ]
     },
     "metadata": {},
     "output_type": "display_data"
    },
    {
     "data": {
      "image/png": "[encoded data removed]",
      "text/plain": [
       "Plot with title \"Histogram of A4\""
      ]
     },
     "metadata": {
      "image/png": {
       "height": 420,
       "width": 420
      },
      "text/plain": {
       "height": 420,
       "width": 420
      }
     },
     "output_type": "display_data"
    }
   ],
   "source": [
    "# dataset 4\n",
    "df4 <- read.table(\"C:\\\\Users\\\\erick\\\\OneDrive - Data ScienceTech Institute\\\\course\\\\FSML2\\\\R samples\\\\data4.txt\", header = FALSE, sep = \",\")\n",
    "A4 = as.matrix(df4)\n",
    "summary(A4) \n",
    "hist(A4,breaks=100,xlim=c(-6,6)) \n",
    "mu = mean(A4) \n",
    "var = var(A4)\n",
    "x=seq(-10,10,0.01)\n",
    "par(new=TRUE)\n",
    "plot(x,dnorm(x,mu,sqrt(var)),type='l',col='red',xlim=c(-6,6)) \n",
    "sprintf(\"we can estimate that it is a normal distribution with mu = %f and sigma = %f\",mu,sqrt(var))\n",
    "\n"
   ]
  },
  {
   "cell_type": "markdown",
   "metadata": {},
   "source": [
    "## Exercice 4.3 - reading normal values on the Normal Table\n",
    "* X ~ N(-1,4)\n",
    "* calculate P(X<= 0), P(X>= -1.5), P(-1.2<=X<=0.8)\n",
    "* found t so that P(X<=t) = 0.9, P(X>=t)=0.95, P(-1-t<=X<=-1+t)=0.95\n",
    "\n",
    "Using the table of N(0,1),  Y = (X-1)/2\n",
    "* P(X<= 0) <=> P(Y<=0.5) = 0,6915\n",
    "* P(X>= -1.5) <=> P(Y>= -0.25) = P(Y<= 0.25) = 0.5987\n",
    "* P(-1.2<=X<=0.8) <=> P(-0.1<=Y<=0.9) = P(Y<=0.9)-P(Y<=-0.1) = P(Y<=0.9)-(1 - P(Y<=0.1)) = 0,3557\n",
    "* P(X<=t) = 0.9 <=> P(Y<=(t+1)/2)=0.9 => (t+1)/2 = 1.2816, t =1.562\n",
    "* P(X>=t)=0.95 => P(X<=t)=0.05 => P(Y<=(t+1)/2)=0.05 P(-Y<=(t+1)/2)=0.95 (t+1)/2=-1,645 => t=-4,29\n",
    "* P(-1-t<=X<=-1+t)=0.95 => P(X<=-1+t)-P(X<=-1-t)=0.95=>P(Y<=t/2)-P(Y<=-t/2)=0.95=> 2*P(Y<=t/2)-1=0.95=>P(Y<=t/2)<=0.975,t=3.92"
   ]
  },
  {
   "cell_type": "code",
   "execution_count": 46,
   "metadata": {},
   "outputs": [
    {
     "data": {
      "text/html": [
       "'X ~ N(-1,4), P(X&lt;=0) = 0.691462'"
      ],
      "text/latex": [
       "'X \\textasciitilde{} N(-1,4), P(X<=0) = 0.691462'"
      ],
      "text/markdown": [
       "'X ~ N(-1,4), P(X&lt;=0) = 0.691462'"
      ],
      "text/plain": [
       "[1] \"X ~ N(-1,4), P(X<=0) = 0.691462\""
      ]
     },
     "metadata": {},
     "output_type": "display_data"
    },
    {
     "data": {
      "text/html": [
       "'X ~ N(-1,4), P(X&gt;=-1.5) = 0.598706'"
      ],
      "text/latex": [
       "'X \\textasciitilde{} N(-1,4), P(X>=-1.5) = 0.598706'"
      ],
      "text/markdown": [
       "'X ~ N(-1,4), P(X&gt;=-1.5) = 0.598706'"
      ],
      "text/plain": [
       "[1] \"X ~ N(-1,4), P(X>=-1.5) = 0.598706\""
      ]
     },
     "metadata": {},
     "output_type": "display_data"
    },
    {
     "data": {
      "text/html": [
       "'X ~ N(-1,4), P(-1.2&lt;=X&lt;=0.8) = 0.355768'"
      ],
      "text/latex": [
       "'X \\textasciitilde{} N(-1,4), P(-1.2<=X<=0.8) = 0.355768'"
      ],
      "text/markdown": [
       "'X ~ N(-1,4), P(-1.2&lt;=X&lt;=0.8) = 0.355768'"
      ],
      "text/plain": [
       "[1] \"X ~ N(-1,4), P(-1.2<=X<=0.8) = 0.355768\""
      ]
     },
     "metadata": {},
     "output_type": "display_data"
    },
    {
     "data": {
      "text/html": [
       "'X ~ N(-1,4), t s.t P(X&lt;=t) = 0.9, t = 1.563103'"
      ],
      "text/latex": [
       "'X \\textasciitilde{} N(-1,4), t s.t P(X<=t) = 0.9, t = 1.563103'"
      ],
      "text/markdown": [
       "'X ~ N(-1,4), t s.t P(X&lt;=t) = 0.9, t = 1.563103'"
      ],
      "text/plain": [
       "[1] \"X ~ N(-1,4), t s.t P(X<=t) = 0.9, t = 1.563103\""
      ]
     },
     "metadata": {},
     "output_type": "display_data"
    },
    {
     "data": {
      "text/html": [
       "'X ~ N(-1,4), t s.t P(X&gt;=t) = 0.95, t = -4.289707'"
      ],
      "text/latex": [
       "'X \\textasciitilde{} N(-1,4), t s.t P(X>=t) = 0.95, t = -4.289707'"
      ],
      "text/markdown": [
       "'X ~ N(-1,4), t s.t P(X&gt;=t) = 0.95, t = -4.289707'"
      ],
      "text/plain": [
       "[1] \"X ~ N(-1,4), t s.t P(X>=t) = 0.95, t = -4.289707\""
      ]
     },
     "metadata": {},
     "output_type": "display_data"
    },
    {
     "data": {
      "text/html": [
       "'X ~ N(-1,4), t s.t P(-1-t&lt;=X&lt;=-1+t) = 0.95, t = 3.919928'"
      ],
      "text/latex": [
       "'X \\textasciitilde{} N(-1,4), t s.t P(-1-t<=X<=-1+t) = 0.95, t = 3.919928'"
      ],
      "text/markdown": [
       "'X ~ N(-1,4), t s.t P(-1-t&lt;=X&lt;=-1+t) = 0.95, t = 3.919928'"
      ],
      "text/plain": [
       "[1] \"X ~ N(-1,4), t s.t P(-1-t<=X<=-1+t) = 0.95, t = 3.919928\""
      ]
     },
     "metadata": {},
     "output_type": "display_data"
    }
   ],
   "source": [
    "sprintf(\"X ~ N(-1,4), P(X<=0) = %f\",pnorm(0,-1,2))\n",
    "sprintf(\"X ~ N(-1,4), P(X>=-1.5) = %f\",1-pnorm(-1.5,-1,2))\n",
    "sprintf(\"X ~ N(-1,4), P(-1.2<=X<=0.8) = %f\",pnorm(0.8,-1,2)-pnorm(-1.2,-1,2))\n",
    "sprintf(\"X ~ N(-1,4), t s.t P(X<=t) = 0.9, t = %f\",qnorm(0.9,-1,2))\n",
    "sprintf(\"X ~ N(-1,4), t s.t P(X>=t) = 0.95, t = %f\",-qnorm(0.95,-1,2)-2)\n",
    "sprintf(\"X ~ N(-1,4), t s.t P(-1-t<=X<=-1+t) = 0.95, t = %f\",qnorm(0.975,-1,2)+1)"
   ]
  },
  {
   "cell_type": "markdown",
   "metadata": {},
   "source": [
    "### Exercice 4.4 - reading normal values on the Khi two table\n",
    "* C ~ X2(11)\n",
    "* calculate P(C<= 17.275), P(C>= 4.575), P(3.053<=C<=21.92)\n",
    "* found f so that P(C<=f) = 0.9, P(C>=f)=0.9\n",
    "### Using the table of X2(11)\n",
    "* P(C <= 17.125) = 0.9\n",
    "* P(C >= 4.575 ) = 0.95\n",
    "* P(3.053 <= C <= 21.92) = P(C <= 21.92)-P(C <= 3.053 ) = 0.965\n",
    "* P(C <= f) = 0.9 <=> f = 17.275\n",
    "* P(C >= f) = 0.9 <=> f = 5.578\n"
   ]
  },
  {
   "cell_type": "code",
   "execution_count": 57,
   "metadata": {},
   "outputs": [
    {
     "data": {
      "text/html": [
       "'X ~ X2(11), P(C &lt;= 17.125) = 0.895768'"
      ],
      "text/latex": [
       "'X \\textasciitilde{} X2(11), P(C <= 17.125) = 0.895768'"
      ],
      "text/markdown": [
       "'X ~ X2(11), P(C &lt;= 17.125) = 0.895768'"
      ],
      "text/plain": [
       "[1] \"X ~ X2(11), P(C <= 17.125) = 0.895768\""
      ]
     },
     "metadata": {},
     "output_type": "display_data"
    },
    {
     "data": {
      "text/html": [
       "'X ~ X2(11), P(C &gt;= 4.575) = 0.949992'"
      ],
      "text/latex": [
       "'X \\textasciitilde{} X2(11), P(C >= 4.575) = 0.949992'"
      ],
      "text/markdown": [
       "'X ~ X2(11), P(C &gt;= 4.575) = 0.949992'"
      ],
      "text/plain": [
       "[1] \"X ~ X2(11), P(C >= 4.575) = 0.949992\""
      ]
     },
     "metadata": {},
     "output_type": "display_data"
    },
    {
     "data": {
      "text/html": [
       "'X ~ X2(11), P(3.053 &lt;= C &lt;= 21.92) = 0.965006'"
      ],
      "text/latex": [
       "'X \\textasciitilde{} X2(11), P(3.053 <= C <= 21.92) = 0.965006'"
      ],
      "text/markdown": [
       "'X ~ X2(11), P(3.053 &lt;= C &lt;= 21.92) = 0.965006'"
      ],
      "text/plain": [
       "[1] \"X ~ X2(11), P(3.053 <= C <= 21.92) = 0.965006\""
      ]
     },
     "metadata": {},
     "output_type": "display_data"
    },
    {
     "data": {
      "text/html": [
       "'X ~ X2(11), t s.t P(C&lt;=f) = 0.9, t = 17.275009'"
      ],
      "text/latex": [
       "'X \\textasciitilde{} X2(11), t s.t P(C<=f) = 0.9, t = 17.275009'"
      ],
      "text/markdown": [
       "'X ~ X2(11), t s.t P(C&lt;=f) = 0.9, t = 17.275009'"
      ],
      "text/plain": [
       "[1] \"X ~ X2(11), t s.t P(C<=f) = 0.9, t = 17.275009\""
      ]
     },
     "metadata": {},
     "output_type": "display_data"
    },
    {
     "data": {
      "text/html": [
       "'X ~ X2(11), t s.t P(C&gt;=f) = 0.9, t = 5.577785'"
      ],
      "text/latex": [
       "'X \\textasciitilde{} X2(11), t s.t P(C>=f) = 0.9, t = 5.577785'"
      ],
      "text/markdown": [
       "'X ~ X2(11), t s.t P(C&gt;=f) = 0.9, t = 5.577785'"
      ],
      "text/plain": [
       "[1] \"X ~ X2(11), t s.t P(C>=f) = 0.9, t = 5.577785\""
      ]
     },
     "metadata": {},
     "output_type": "display_data"
    }
   ],
   "source": [
    "sprintf(\"X ~ X2(11), P(C <= 17.125) = %f\",pchisq(17.125,11))\n",
    "sprintf(\"X ~ X2(11), P(C >= 4.575) = %f\",1-pchisq(4.575,11))\n",
    "sprintf(\"X ~ X2(11), P(3.053 <= C <= 21.92) = %f\",pchisq(21.92,11)-pchisq(3.053,11))\n",
    "sprintf(\"X ~ X2(11), t s.t P(C<=f) = 0.9, t = %f\",qchisq(0.9,11))\n",
    "sprintf(\"X ~ X2(11), t s.t P(C>=f) = 0.9, t = %f\",qchisq(0.1,11))"
   ]
  },
  {
   "cell_type": "markdown",
   "metadata": {},
   "source": [
    "### Exercice 4.5 - reading normal values on the Student table\n",
    "* C ~ T(5)\n",
    "* calculate P(abs(T)<= 0.92), P(T<= 2.015), P(T>=3.365)\n",
    "* found z so that P(T>=z) = 0.4, P(T<=z)=0.05, P(-z <= T <= z) = 0.3\n",
    "### Using the table of T(5)\n",
    "* P(abs(T)<= 0.92) = 1-0.4 = 0.6\n",
    "* P(T<= 2.015) = 1- 0.10/2 = 0.95\n",
    "* P(T>=3.365) = 0.02/2=0.01\n",
    "* P(T>=z) = 0.4, z = 0.267\n",
    "* P(T<=z)=0.05, z = - 2.015 (value for 0.10)\n",
    "* P(-z <= T <= z) = 0.3, z = 0.408\n"
   ]
  },
  {
   "cell_type": "code",
   "execution_count": 66,
   "metadata": {
    "scrolled": true
   },
   "outputs": [
    {
     "data": {
      "text/html": [
       "'X ~ T(5), P(abs(T) &lt;= 0.92) = 0.600217'"
      ],
      "text/latex": [
       "'X \\textasciitilde{} T(5), P(abs(T) <= 0.92) = 0.600217'"
      ],
      "text/markdown": [
       "'X ~ T(5), P(abs(T) &lt;= 0.92) = 0.600217'"
      ],
      "text/plain": [
       "[1] \"X ~ T(5), P(abs(T) <= 0.92) = 0.600217\""
      ]
     },
     "metadata": {},
     "output_type": "display_data"
    },
    {
     "data": {
      "text/html": [
       "'X ~ T(5), P(T &lt;= 2.015) = 0.949997'"
      ],
      "text/latex": [
       "'X \\textasciitilde{} T(5), P(T <= 2.015) = 0.949997'"
      ],
      "text/markdown": [
       "'X ~ T(5), P(T &lt;= 2.015) = 0.949997'"
      ],
      "text/plain": [
       "[1] \"X ~ T(5), P(T <= 2.015) = 0.949997\""
      ]
     },
     "metadata": {},
     "output_type": "display_data"
    },
    {
     "data": {
      "text/html": [
       "'X ~ T(5), P(T &gt;= 3.365) = 0.009999'"
      ],
      "text/latex": [
       "'X \\textasciitilde{} T(5), P(T >= 3.365) = 0.009999'"
      ],
      "text/markdown": [
       "'X ~ T(5), P(T &gt;= 3.365) = 0.009999'"
      ],
      "text/plain": [
       "[1] \"X ~ T(5), P(T >= 3.365) = 0.009999\""
      ]
     },
     "metadata": {},
     "output_type": "display_data"
    },
    {
     "data": {
      "text/html": [
       "'X ~ T(5), t s.t P(T&gt;=z) = 0.4, t = 0.267181'"
      ],
      "text/latex": [
       "'X \\textasciitilde{} T(5), t s.t P(T>=z) = 0.4, t = 0.267181'"
      ],
      "text/markdown": [
       "'X ~ T(5), t s.t P(T&gt;=z) = 0.4, t = 0.267181'"
      ],
      "text/plain": [
       "[1] \"X ~ T(5), t s.t P(T>=z) = 0.4, t = 0.267181\""
      ]
     },
     "metadata": {},
     "output_type": "display_data"
    },
    {
     "data": {
      "text/html": [
       "'X ~ T(5), t s.t P(T&lt;=z) = 0.05, t = -2.015048'"
      ],
      "text/latex": [
       "'X \\textasciitilde{} T(5), t s.t P(T<=z) = 0.05, t = -2.015048'"
      ],
      "text/markdown": [
       "'X ~ T(5), t s.t P(T&lt;=z) = 0.05, t = -2.015048'"
      ],
      "text/plain": [
       "[1] \"X ~ T(5), t s.t P(T<=z) = 0.05, t = -2.015048\""
      ]
     },
     "metadata": {},
     "output_type": "display_data"
    },
    {
     "data": {
      "text/html": [
       "'X ~ T(5), t s.t P(-z &lt;= T &lt;= z) = 0.3, t = 0.408229'"
      ],
      "text/latex": [
       "'X \\textasciitilde{} T(5), t s.t P(-z <= T <= z) = 0.3, t = 0.408229'"
      ],
      "text/markdown": [
       "'X ~ T(5), t s.t P(-z &lt;= T &lt;= z) = 0.3, t = 0.408229'"
      ],
      "text/plain": [
       "[1] \"X ~ T(5), t s.t P(-z <= T <= z) = 0.3, t = 0.408229\""
      ]
     },
     "metadata": {},
     "output_type": "display_data"
    }
   ],
   "source": [
    "sprintf(\"X ~ T(5), P(abs(T) <= 0.92) = %f\",2*pt(0.92,5)-1)\n",
    "sprintf(\"X ~ T(5), P(T <= 2.015) = %f\",pt(2.015,5))\n",
    "sprintf(\"X ~ T(5), P(T >= 3.365) = %f\",1-pt(3.365,5))\n",
    "sprintf(\"X ~ T(5), t s.t P(T>=z) = 0.4, t = %f\",qt(1-0.4,5))\n",
    "sprintf(\"X ~ T(5), t s.t P(T<=z) = 0.05, t = %f\",qt(0.05,5))\n",
    "sprintf(\"X ~ T(5), t s.t P(-z <= T <= z) = 0.3, t = %f\",qt((1+0.3)/2,5))\n"
   ]
  },
  {
   "cell_type": "markdown",
   "metadata": {},
   "source": [
    "## Exercice 4.6 - find a confident interval for the Bernouilli Distribution\n",
    "one of the used solution is : sqrt(p*(1-p))* qnorm(1-alpha/2)/sqrt(n)\n",
    "Simulation of a Bernouilli distribution and check of the found confident interval formula"
   ]
  },
  {
   "cell_type": "code",
   "execution_count": 118,
   "metadata": {
    "scrolled": true
   },
   "outputs": [
    {
     "data": {
      "text/html": [
       "'Calculation done with p = 0.010000,alpha = 0.050000'"
      ],
      "text/latex": [
       "'Calculation done with p = 0.010000,alpha = 0.050000'"
      ],
      "text/markdown": [
       "'Calculation done with p = 0.010000,alpha = 0.050000'"
      ],
      "text/plain": [
       "[1] \"Calculation done with p = 0.010000,alpha = 0.050000\""
      ]
     },
     "metadata": {},
     "output_type": "display_data"
    },
    {
     "data": {
      "text/html": [
       "'The calculated probability to be in this interval with the simulated distribution is 0.964640'"
      ],
      "text/latex": [
       "'The calculated probability to be in this interval with the simulated distribution is 0.964640'"
      ],
      "text/markdown": [
       "'The calculated probability to be in this interval with the simulated distribution is 0.964640'"
      ],
      "text/plain": [
       "[1] \"The calculated probability to be in this interval with the simulated distribution is 0.964640\""
      ]
     },
     "metadata": {},
     "output_type": "display_data"
    }
   ],
   "source": [
    "p = 0.01  # Bernouilli parameter\n",
    "sample = 1000 # number of samples in one distribution\n",
    "test = 100000 # number of repeated simulation\n",
    "alpha = 0.05  # confident interval\n",
    "# matrix with all the Bernouilli's distribution\n",
    "rv = matrix(rbinom(sample*test,1,p),ncol=sample)\n",
    "mn = apply(rv,1,mean)\n",
    "#caclulation of the theoritical confident interval\n",
    "interval = sqrt(p*(1-p))* qnorm(1-alpha/2)/sqrt(sample)\n",
    "sprintf(\"Calculation done with p = %f,alpha = %f\",p,alpha)\n",
    "mask1 = (mn >= (p+interval))\n",
    "mask2 = (mn <= (p-interval))\n",
    "mn = mn[mask1 | mask2 ]\n",
    "prob = 1 - (length(mn) / test )\n",
    "sprintf(\"The calculated probability to be in this interval with the simulated distribution is %f\",prob)\n"
   ]
  },
  {
   "cell_type": "markdown",
   "metadata": {},
   "source": [
    "# Day 5"
   ]
  },
  {
   "cell_type": "markdown",
   "metadata": {},
   "source": [
    "using the datafile \"Dataset_ozone.txt\"\n",
    "* T9 at T15   : temperature at different hours of the day\n",
    "* Ne9 at Ne15 : clouds level at different hours of the day\n",
    "* Vx9 at Vx15 : wind level at different hours of the day\n",
    "* vent        : wind orientation, north, east ..\n",
    "* pluie       : rain\n",
    "* maxO3       : ozone concentration\n",
    "* maxO3v      : ozone concentration day before\n",
    "\n",
    "## See if there is a link between max03 and T12"
   ]
  },
  {
   "cell_type": "code",
   "execution_count": 260,
   "metadata": {
    "scrolled": true
   },
   "outputs": [
    {
     "data": {
      "text/html": [
       "<table>\n",
       "<caption>A data.frame: 6 × 14</caption>\n",
       "<thead>\n",
       "\t<tr><th></th><th scope=col>obs</th><th scope=col>maxO3</th><th scope=col>T9</th><th scope=col>T12</th><th scope=col>T15</th><th scope=col>Ne9</th><th scope=col>Ne12</th><th scope=col>Ne15</th><th scope=col>Vx9</th><th scope=col>Vx12</th><th scope=col>Vx15</th><th scope=col>maxO3v</th><th scope=col>vent</th><th scope=col>pluie</th></tr>\n",
       "\t<tr><th></th><th scope=col>&lt;int&gt;</th><th scope=col>&lt;int&gt;</th><th scope=col>&lt;dbl&gt;</th><th scope=col>&lt;dbl&gt;</th><th scope=col>&lt;dbl&gt;</th><th scope=col>&lt;int&gt;</th><th scope=col>&lt;int&gt;</th><th scope=col>&lt;int&gt;</th><th scope=col>&lt;dbl&gt;</th><th scope=col>&lt;dbl&gt;</th><th scope=col>&lt;dbl&gt;</th><th scope=col>&lt;int&gt;</th><th scope=col>&lt;chr&gt;</th><th scope=col>&lt;chr&gt;</th></tr>\n",
       "</thead>\n",
       "<tbody>\n",
       "\t<tr><th scope=row>1</th><td>601</td><td> 87</td><td>15.6</td><td>18.5</td><td>18.4</td><td>4</td><td>4</td><td>8</td><td> 0.6946</td><td>-1.7101</td><td>-0.6946</td><td> 84</td><td>Nord </td><td>Sec  </td></tr>\n",
       "\t<tr><th scope=row>2</th><td>602</td><td> 82</td><td>17.0</td><td>18.4</td><td>17.7</td><td>5</td><td>5</td><td>7</td><td>-4.3301</td><td>-4.0000</td><td>-3.0000</td><td> 87</td><td>Nord </td><td>Sec  </td></tr>\n",
       "\t<tr><th scope=row>3</th><td>603</td><td> 92</td><td>15.3</td><td>17.6</td><td>19.5</td><td>2</td><td>5</td><td>4</td><td> 2.9544</td><td> 1.8794</td><td> 0.5209</td><td> 82</td><td>Est  </td><td>Sec  </td></tr>\n",
       "\t<tr><th scope=row>4</th><td>604</td><td>114</td><td>16.2</td><td>19.7</td><td>22.5</td><td>1</td><td>1</td><td>0</td><td> 0.9848</td><td> 0.3473</td><td>-0.1736</td><td> 92</td><td>Nord </td><td>Sec  </td></tr>\n",
       "\t<tr><th scope=row>5</th><td>605</td><td> 94</td><td>17.4</td><td>20.5</td><td>20.4</td><td>8</td><td>8</td><td>7</td><td>-0.5000</td><td>-2.9544</td><td>-4.3301</td><td>114</td><td>Ouest</td><td>Sec  </td></tr>\n",
       "\t<tr><th scope=row>6</th><td>606</td><td> 80</td><td>17.7</td><td>19.8</td><td>18.3</td><td>6</td><td>6</td><td>7</td><td>-5.6382</td><td>-5.0000</td><td>-6.0000</td><td> 94</td><td>Ouest</td><td>Pluie</td></tr>\n",
       "</tbody>\n",
       "</table>\n"
      ],
      "text/latex": [
       "A data.frame: 6 × 14\n",
       "\\begin{tabular}{r|llllllllllllll}\n",
       "  & obs & maxO3 & T9 & T12 & T15 & Ne9 & Ne12 & Ne15 & Vx9 & Vx12 & Vx15 & maxO3v & vent & pluie\\\\\n",
       "  & <int> & <int> & <dbl> & <dbl> & <dbl> & <int> & <int> & <int> & <dbl> & <dbl> & <dbl> & <int> & <chr> & <chr>\\\\\n",
       "\\hline\n",
       "\t1 & 601 &  87 & 15.6 & 18.5 & 18.4 & 4 & 4 & 8 &  0.6946 & -1.7101 & -0.6946 &  84 & Nord  & Sec  \\\\\n",
       "\t2 & 602 &  82 & 17.0 & 18.4 & 17.7 & 5 & 5 & 7 & -4.3301 & -4.0000 & -3.0000 &  87 & Nord  & Sec  \\\\\n",
       "\t3 & 603 &  92 & 15.3 & 17.6 & 19.5 & 2 & 5 & 4 &  2.9544 &  1.8794 &  0.5209 &  82 & Est   & Sec  \\\\\n",
       "\t4 & 604 & 114 & 16.2 & 19.7 & 22.5 & 1 & 1 & 0 &  0.9848 &  0.3473 & -0.1736 &  92 & Nord  & Sec  \\\\\n",
       "\t5 & 605 &  94 & 17.4 & 20.5 & 20.4 & 8 & 8 & 7 & -0.5000 & -2.9544 & -4.3301 & 114 & Ouest & Sec  \\\\\n",
       "\t6 & 606 &  80 & 17.7 & 19.8 & 18.3 & 6 & 6 & 7 & -5.6382 & -5.0000 & -6.0000 &  94 & Ouest & Pluie\\\\\n",
       "\\end{tabular}\n"
      ],
      "text/markdown": [
       "\n",
       "A data.frame: 6 × 14\n",
       "\n",
       "| <!--/--> | obs &lt;int&gt; | maxO3 &lt;int&gt; | T9 &lt;dbl&gt; | T12 &lt;dbl&gt; | T15 &lt;dbl&gt; | Ne9 &lt;int&gt; | Ne12 &lt;int&gt; | Ne15 &lt;int&gt; | Vx9 &lt;dbl&gt; | Vx12 &lt;dbl&gt; | Vx15 &lt;dbl&gt; | maxO3v &lt;int&gt; | vent &lt;chr&gt; | pluie &lt;chr&gt; |\n",
       "|---|---|---|---|---|---|---|---|---|---|---|---|---|---|---|\n",
       "| 1 | 601 |  87 | 15.6 | 18.5 | 18.4 | 4 | 4 | 8 |  0.6946 | -1.7101 | -0.6946 |  84 | Nord  | Sec   |\n",
       "| 2 | 602 |  82 | 17.0 | 18.4 | 17.7 | 5 | 5 | 7 | -4.3301 | -4.0000 | -3.0000 |  87 | Nord  | Sec   |\n",
       "| 3 | 603 |  92 | 15.3 | 17.6 | 19.5 | 2 | 5 | 4 |  2.9544 |  1.8794 |  0.5209 |  82 | Est   | Sec   |\n",
       "| 4 | 604 | 114 | 16.2 | 19.7 | 22.5 | 1 | 1 | 0 |  0.9848 |  0.3473 | -0.1736 |  92 | Nord  | Sec   |\n",
       "| 5 | 605 |  94 | 17.4 | 20.5 | 20.4 | 8 | 8 | 7 | -0.5000 | -2.9544 | -4.3301 | 114 | Ouest | Sec   |\n",
       "| 6 | 606 |  80 | 17.7 | 19.8 | 18.3 | 6 | 6 | 7 | -5.6382 | -5.0000 | -6.0000 |  94 | Ouest | Pluie |\n",
       "\n"
      ],
      "text/plain": [
       "  obs maxO3 T9   T12  T15  Ne9 Ne12 Ne15 Vx9     Vx12    Vx15    maxO3v vent \n",
       "1 601  87   15.6 18.5 18.4 4   4    8     0.6946 -1.7101 -0.6946  84    Nord \n",
       "2 602  82   17.0 18.4 17.7 5   5    7    -4.3301 -4.0000 -3.0000  87    Nord \n",
       "3 603  92   15.3 17.6 19.5 2   5    4     2.9544  1.8794  0.5209  82    Est  \n",
       "4 604 114   16.2 19.7 22.5 1   1    0     0.9848  0.3473 -0.1736  92    Nord \n",
       "5 605  94   17.4 20.5 20.4 8   8    7    -0.5000 -2.9544 -4.3301 114    Ouest\n",
       "6 606  80   17.7 19.8 18.3 6   6    7    -5.6382 -5.0000 -6.0000  94    Ouest\n",
       "  pluie\n",
       "1 Sec  \n",
       "2 Sec  \n",
       "3 Sec  \n",
       "4 Sec  \n",
       "5 Sec  \n",
       "6 Pluie"
      ]
     },
     "metadata": {},
     "output_type": "display_data"
    }
   ],
   "source": [
    "A=read.table('Dataset_ozone.txt',header=TRUE,dec=',',sep=';')\n",
    "head(A)"
   ]
  },
  {
   "cell_type": "markdown",
   "metadata": {},
   "source": [
    "Plot the relation between T12 and max03 and get the \"linear regression\" object with lm function"
   ]
  },
  {
   "cell_type": "code",
   "execution_count": 127,
   "metadata": {
    "scrolled": true
   },
   "outputs": [
    {
     "data": {
      "text/plain": [
       "\n",
       "Call:\n",
       "lm(formula = A$maxO3 ~ A$T12)\n",
       "\n",
       "Coefficients:\n",
       "(Intercept)        A$T12  \n",
       "    -27.420        5.469  \n"
      ]
     },
     "metadata": {},
     "output_type": "display_data"
    },
    {
     "data": {
      "image/png": "[encoded data removed]",
      "text/plain": [
       "plot without title"
      ]
     },
     "metadata": {
      "image/png": {
       "height": 420,
       "width": 420
      },
      "text/plain": {
       "height": 420,
       "width": 420
      }
     },
     "output_type": "display_data"
    }
   ],
   "source": [
    "plot(A$T12,A$maxO3)\n",
    "#some kind of linear tendency\n",
    "L=lm(A$maxO3~A$T12)\n",
    "L"
   ]
  },
  {
   "cell_type": "markdown",
   "metadata": {},
   "source": [
    "* a = -27.420 = intercept, b = 5.469 = slope\n",
    "* a,b depends on the dataset\n",
    "* if the dataset is change and the last element is removed then :\n",
    "* a = -28.022, b= 5.491"
   ]
  },
  {
   "cell_type": "code",
   "execution_count": 129,
   "metadata": {
    "scrolled": true
   },
   "outputs": [
    {
     "data": {
      "text/plain": [
       "\n",
       "Call:\n",
       "lm(formula = A$maxO3[-1] ~ A$T12[-1])\n",
       "\n",
       "Coefficients:\n",
       "(Intercept)    A$T12[-1]  \n",
       "    -28.022        5.491  \n"
      ]
     },
     "metadata": {},
     "output_type": "display_data"
    }
   ],
   "source": [
    "#a = -27.420 = intercept, b = 5.469 = slope\n",
    "# a,b depends on the dataset\n",
    "L1=lm(A$maxO3[-1]~A$T12[-1])\n",
    "L1"
   ]
  },
  {
   "cell_type": "markdown",
   "metadata": {},
   "source": [
    "* summary(L) gives lot of different information on the linear regression"
   ]
  },
  {
   "cell_type": "code",
   "execution_count": 130,
   "metadata": {
    "scrolled": true
   },
   "outputs": [
    {
     "data": {
      "text/plain": [
       "\n",
       "Call:\n",
       "lm(formula = A$maxO3 ~ A$T12)\n",
       "\n",
       "Residuals:\n",
       "    Min      1Q  Median      3Q     Max \n",
       "-38.079 -12.735   0.257  11.003  44.671 \n",
       "\n",
       "Coefficients:\n",
       "            Estimate Std. Error t value Pr(>|t|)    \n",
       "(Intercept) -27.4196     9.0335  -3.035    0.003 ** \n",
       "A$T12         5.4687     0.4125  13.258   <2e-16 ***\n",
       "---\n",
       "Signif. codes:  0 '***' 0.001 '**' 0.01 '*' 0.05 '.' 0.1 ' ' 1\n",
       "\n",
       "Residual standard error: 17.57 on 110 degrees of freedom\n",
       "Multiple R-squared:  0.6151,\tAdjusted R-squared:  0.6116 \n",
       "F-statistic: 175.8 on 1 and 110 DF,  p-value: < 2.2e-16\n"
      ]
     },
     "metadata": {},
     "output_type": "display_data"
    }
   ],
   "source": [
    "summary(L)"
   ]
  },
  {
   "cell_type": "markdown",
   "metadata": {},
   "source": [
    "It is possible to get access to this parameters"
   ]
  },
  {
   "cell_type": "code",
   "execution_count": 133,
   "metadata": {},
   "outputs": [],
   "source": [
    "coef<-coef(L) # extract of some object of L"
   ]
  },
  {
   "cell_type": "markdown",
   "metadata": {},
   "source": [
    "from the coeff, we can make predictions"
   ]
  },
  {
   "cell_type": "code",
   "execution_count": 134,
   "metadata": {
    "scrolled": true
   },
   "outputs": [
    {
     "data": {
      "text/html": [
       "<table>\n",
       "<caption>A matrix: 1 × 1 of type dbl</caption>\n",
       "<tbody>\n",
       "\t<tr><td>-11.01358</td></tr>\n",
       "</tbody>\n",
       "</table>\n"
      ],
      "text/latex": [
       "A matrix: 1 × 1 of type dbl\n",
       "\\begin{tabular}{l}\n",
       "\t -11.01358\\\\\n",
       "\\end{tabular}\n"
      ],
      "text/markdown": [
       "\n",
       "A matrix: 1 × 1 of type dbl\n",
       "\n",
       "| -11.01358 |\n",
       "\n"
      ],
      "text/plain": [
       "     [,1]     \n",
       "[1,] -11.01358"
      ]
     },
     "metadata": {},
     "output_type": "display_data"
    }
   ],
   "source": [
    "coef%*%matrix(data=c(1,3),ncol=1) # matricial product : %*%"
   ]
  },
  {
   "cell_type": "markdown",
   "metadata": {},
   "source": [
    "Confident interval supposing that the noise is Gaussian"
   ]
  },
  {
   "cell_type": "code",
   "execution_count": 136,
   "metadata": {},
   "outputs": [
    {
     "data": {
      "text/html": [
       "<table>\n",
       "<caption>A matrix: 2 × 2 of type dbl</caption>\n",
       "<thead>\n",
       "\t<tr><th></th><th scope=col>5 %</th><th scope=col>95 %</th></tr>\n",
       "</thead>\n",
       "<tbody>\n",
       "\t<tr><th scope=row>(Intercept)</th><td>-42.40461</td><td>-12.43466</td></tr>\n",
       "\t<tr><th scope=row>A$T12</th><td>  4.78443</td><td>  6.15294</td></tr>\n",
       "</tbody>\n",
       "</table>\n"
      ],
      "text/latex": [
       "A matrix: 2 × 2 of type dbl\n",
       "\\begin{tabular}{r|ll}\n",
       "  & 5 \\% & 95 \\%\\\\\n",
       "\\hline\n",
       "\t(Intercept) & -42.40461 & -12.43466\\\\\n",
       "\tA\\$T12 &   4.78443 &   6.15294\\\\\n",
       "\\end{tabular}\n"
      ],
      "text/markdown": [
       "\n",
       "A matrix: 2 × 2 of type dbl\n",
       "\n",
       "| <!--/--> | 5 % | 95 % |\n",
       "|---|---|---|\n",
       "| (Intercept) | -42.40461 | -12.43466 |\n",
       "| A$T12 |   4.78443 |   6.15294 |\n",
       "\n"
      ],
      "text/plain": [
       "            5 %       95 %     \n",
       "(Intercept) -42.40461 -12.43466\n",
       "A$T12         4.78443   6.15294"
      ]
     },
     "metadata": {},
     "output_type": "display_data"
    }
   ],
   "source": [
    "confint(L,level=0.90) # symetrical CI"
   ]
  },
  {
   "cell_type": "markdown",
   "metadata": {},
   "source": [
    "### relation between a and b in the cofident interval"
   ]
  },
  {
   "cell_type": "code",
   "execution_count": null,
   "metadata": {},
   "outputs": [],
   "source": [
    "library(ellipse)"
   ]
  },
  {
   "cell_type": "markdown",
   "metadata": {},
   "source": [
    "The confident interval is not a rectangle as we could think but an ellipse"
   ]
  },
  {
   "cell_type": "code",
   "execution_count": 138,
   "metadata": {},
   "outputs": [
    {
     "data": {
      "image/png": "[encoded data removed]",
      "text/plain": [
       "plot without title"
      ]
     },
     "metadata": {
      "image/png": {
       "height": 420,
       "width": 420
      },
      "text/plain": {
       "height": 420,
       "width": 420
      }
     },
     "output_type": "display_data"
    }
   ],
   "source": [
    "plot(ellipse(L,c(1,2),level = 0.95))"
   ]
  },
  {
   "cell_type": "markdown",
   "metadata": {},
   "source": [
    "### difference between a and b , and estimated a and b\n",
    "we simulate a dataset with (a = 1 and b= 2) including some gaussian noise\n",
    "The result of the estimation is : \n",
    "* a= 1.008\n",
    "* b= 2.005"
   ]
  },
  {
   "cell_type": "code",
   "execution_count": 142,
   "metadata": {},
   "outputs": [
    {
     "data": {
      "text/plain": [
       "\n",
       "Call:\n",
       "lm(formula = y ~ x)\n",
       "\n",
       "Coefficients:\n",
       "(Intercept)            x  \n",
       "      1.008        2.005  \n"
      ]
     },
     "metadata": {},
     "output_type": "display_data"
    }
   ],
   "source": [
    "x=runif(20,0,4)\n",
    "y=1+2*x+rnorm(20,0,0.1) # true of a 1, b 2\n",
    "lm(y~x)"
   ]
  },
  {
   "cell_type": "markdown",
   "metadata": {},
   "source": [
    "### calculation done by R with lm"
   ]
  },
  {
   "cell_type": "code",
   "execution_count": 146,
   "metadata": {
    "scrolled": true
   },
   "outputs": [
    {
     "data": {
      "text/html": [
       "'value for b : 2.004724'"
      ],
      "text/latex": [
       "'value for b : 2.004724'"
      ],
      "text/markdown": [
       "'value for b : 2.004724'"
      ],
      "text/plain": [
       "[1] \"value for b : 2.004724\""
      ]
     },
     "metadata": {},
     "output_type": "display_data"
    },
    {
     "data": {
      "text/html": [
       "'value for a : 1.007621'"
      ],
      "text/latex": [
       "'value for a : 1.007621'"
      ],
      "text/markdown": [
       "'value for a : 1.007621'"
      ],
      "text/plain": [
       "[1] \"value for a : 1.007621\""
      ]
     },
     "metadata": {},
     "output_type": "display_data"
    }
   ],
   "source": [
    "num=sum((x-mean(x))*(y-mean(y)))\n",
    "den=sum((x-mean(x))^2)\n",
    "sprintf(\"value for b : %f\",num/den)\n",
    "sprintf(\"value for a : %f\",mean(y)-num/den*mean(x)) #intercept"
   ]
  },
  {
   "cell_type": "markdown",
   "metadata": {},
   "source": [
    "### use of Multiple R-Square\n",
    "* close to 1 => good linear model\n",
    "* close to 0 => poor linear model"
   ]
  },
  {
   "cell_type": "code",
   "execution_count": 164,
   "metadata": {},
   "outputs": [
    {
     "data": {
      "image/png": "[encoded data removed]",
      "text/plain": [
       "Plot with title \"x^2, RSquare = 0.1033\""
      ]
     },
     "metadata": {
      "image/png": {
       "height": 420,
       "width": 420
      },
      "text/plain": {
       "height": 420,
       "width": 420
      }
     },
     "output_type": "display_data"
    }
   ],
   "source": [
    "#same X\n",
    "par(mfrow=c(1,3))\n",
    "x=runif(20,0,4)\n",
    "y = 1 / (x+1)\n",
    "plot(x,y,main=\"1/(x+1), Rsquare = 0.8738\") # we can imagine a linear regression here\n",
    "Lm=lm(y~x)\n",
    "#Summary(Lm)\n",
    "\n",
    "#Multiple R squared = 0.9466\n",
    "x=runif(50,0,4)\n",
    "y=exp(x) #\n",
    "plot(x,y,main=\"exp, Rsquare = 0.8304\")\n",
    "Lm1=lm(y~x)\n",
    "#Summary(Lm)\n",
    "# two line : one at the beginning one at the end\n",
    "# ok but Multiple R-squared = 0.6365 (decrease / before) ....\n",
    "x=runif(20,-2,2)\n",
    "y=x^2#\n",
    "plot(x,y,main=\"x^2, RSquare = 0.1033\")\n",
    "Lm2=lm(y~x)\n",
    "#Summary(Lm)\n",
    "# R-squared close to 0\n",
    "# => not because you can model it linear that it is the good one !!!\n"
   ]
  },
  {
   "cell_type": "markdown",
   "metadata": {},
   "source": [
    "# Exercices Day 5"
   ]
  },
  {
   "cell_type": "code",
   "execution_count": 1,
   "metadata": {},
   "outputs": [],
   "source": [
    "T=20*60\n",
    "lambda=0.4\n",
    "n=rpois(1,0.4*T)\n",
    "B=sort(runif(n,0,T))"
   ]
  },
  {
   "cell_type": "code",
   "execution_count": 5,
   "metadata": {},
   "outputs": [
    {
     "data": {
      "text/html": [
       "0.414281839276143"
      ],
      "text/latex": [
       "0.414281839276143"
      ],
      "text/markdown": [
       "0.414281839276143"
      ],
      "text/plain": [
       "[1] 0.4142818"
      ]
     },
     "metadata": {},
     "output_type": "display_data"
    },
    {
     "data": {
      "text/html": [
       "0.4125"
      ],
      "text/latex": [
       "0.4125"
      ],
      "text/markdown": [
       "0.4125"
      ],
      "text/plain": [
       "[1] 0.4125"
      ]
     },
     "metadata": {},
     "output_type": "display_data"
    }
   ],
   "source": [
    "Delta<-function(B){\n",
    "l = c()\n",
    "for (i in c(1:length(B)-1)) {\n",
    "l <- c(l,B[i+1]-B[i]) }\n",
    "return(l)\n",
    "}\n",
    "\n",
    "Delta2<-function(B){\n",
    "l = rep(0,60)\n",
    "for (i in c(1:length(B)-1)) {\n",
    "l[B[i]%/%20] = l[B[i]%/%20]+1 }\n",
    "return(l)\n",
    "}\n",
    "\n",
    "length(B)/(B[length(B)] - B[1])\n",
    "length(B)/1200"
   ]
  },
  {
   "cell_type": "markdown",
   "metadata": {},
   "source": [
    "# Day 6\n",
    "## Simulation of a gaussian noise with rnorm function\n",
    "Generation of the \"linear regression\" object and printing of the prediction line"
   ]
  },
  {
   "cell_type": "code",
   "execution_count": 94,
   "metadata": {},
   "outputs": [
    {
     "data": {
      "image/png": "[encoded data removed]",
      "text/plain": [
       "plot without title"
      ]
     },
     "metadata": {
      "image/png": {
       "height": 420,
       "width": 420
      },
      "text/plain": {
       "height": 420,
       "width": 420
      }
     },
     "output_type": "display_data"
    }
   ],
   "source": [
    "x=runif(50,2,14)\n",
    "y=7-5*x+rnorm(50,0,1)\n",
    "plot(x,y)\n",
    "L=lm(y~x)\n",
    "abline(L,col='red') # regression line"
   ]
  },
  {
   "cell_type": "markdown",
   "metadata": {},
   "source": [
    "Printing of the different graphs linked with the \"linear regression\" object\n",
    "\n",
    "## How to check that the assumptions regarding the noise are validate\n",
    "\n",
    "### the first graph \"Residuals vs Fitted\" helps understand if the noise is centered by checking that the residuals are symetrically distributed up and down the dotted line. The red line is somehow a mean of this residuals and should be \"close\" to the dotted line"
   ]
  },
  {
   "cell_type": "code",
   "execution_count": 11,
   "metadata": {
    "scrolled": true
   },
   "outputs": [
    {
     "data": {
      "image/png": "[encoded data removed]",
      "text/plain": [
       "Plot with title \"\""
      ]
     },
     "metadata": {
      "image/png": {
       "height": 420,
       "width": 420
      },
      "text/plain": {
       "height": 420,
       "width": 420
      }
     },
     "output_type": "display_data"
    },
    {
     "data": {
      "image/png": "[encoded data removed]",
      "text/plain": [
       "Plot with title \"\""
      ]
     },
     "metadata": {
      "image/png": {
       "height": 420,
       "width": 420
      },
      "text/plain": {
       "height": 420,
       "width": 420
      }
     },
     "output_type": "display_data"
    },
    {
     "data": {
      "image/png": "[encoded data removed]",
      "text/plain": [
       "Plot with title \"\""
      ]
     },
     "metadata": {
      "image/png": {
       "height": 420,
       "width": 420
      },
      "text/plain": {
       "height": 420,
       "width": 420
      }
     },
     "output_type": "display_data"
    },
    {
     "data": {
      "image/png": "[encoded data removed]",
      "text/plain": [
       "Plot with title \"\""
      ]
     },
     "metadata": {
      "image/png": {
       "height": 420,
       "width": 420
      },
      "text/plain": {
       "height": 420,
       "width": 420
      }
     },
     "output_type": "display_data"
    }
   ],
   "source": [
    "plot(L)"
   ]
  },
  {
   "cell_type": "markdown",
   "metadata": {},
   "source": [
    "list the vailable variables generated by lm function"
   ]
  },
  {
   "cell_type": "code",
   "execution_count": 13,
   "metadata": {},
   "outputs": [
    {
     "data": {
      "text/html": [
       "<style>\n",
       ".list-inline {list-style: none; margin:0; padding: 0}\n",
       ".list-inline>li {display: inline-block}\n",
       ".list-inline>li:not(:last-child)::after {content: \"\\00b7\"; padding: 0 .5ex}\n",
       "</style>\n",
       "<ol class=list-inline><li>'coefficients'</li><li>'residuals'</li><li>'effects'</li><li>'rank'</li><li>'fitted.values'</li><li>'assign'</li><li>'qr'</li><li>'df.residual'</li><li>'xlevels'</li><li>'call'</li><li>'terms'</li><li>'model'</li></ol>\n"
      ],
      "text/latex": [
       "\\begin{enumerate*}\n",
       "\\item 'coefficients'\n",
       "\\item 'residuals'\n",
       "\\item 'effects'\n",
       "\\item 'rank'\n",
       "\\item 'fitted.values'\n",
       "\\item 'assign'\n",
       "\\item 'qr'\n",
       "\\item 'df.residual'\n",
       "\\item 'xlevels'\n",
       "\\item 'call'\n",
       "\\item 'terms'\n",
       "\\item 'model'\n",
       "\\end{enumerate*}\n"
      ],
      "text/markdown": [
       "1. 'coefficients'\n",
       "2. 'residuals'\n",
       "3. 'effects'\n",
       "4. 'rank'\n",
       "5. 'fitted.values'\n",
       "6. 'assign'\n",
       "7. 'qr'\n",
       "8. 'df.residual'\n",
       "9. 'xlevels'\n",
       "10. 'call'\n",
       "11. 'terms'\n",
       "12. 'model'\n",
       "\n",
       "\n"
      ],
      "text/plain": [
       " [1] \"coefficients\"  \"residuals\"     \"effects\"       \"rank\"         \n",
       " [5] \"fitted.values\" \"assign\"        \"qr\"            \"df.residual\"  \n",
       " [9] \"xlevels\"       \"call\"          \"terms\"         \"model\"        "
      ]
     },
     "metadata": {},
     "output_type": "display_data"
    }
   ],
   "source": [
    "names(L)"
   ]
  },
  {
   "cell_type": "code",
   "execution_count": null,
   "metadata": {},
   "outputs": [],
   "source": [
    "use the \"residuals\" and \"fitted.values\" variable to make a plot\n",
    "* sorted prediction and the residual ( with the same index as prediction)\n",
    "* do the cumulated sum on residuals\n",
    "* the cumulated sum is a way to check that we are not getting too far from 0"
   ]
  },
  {
   "cell_type": "code",
   "execution_count": 34,
   "metadata": {},
   "outputs": [
    {
     "data": {
      "text/html": [
       "<style>\n",
       ".dl-inline {width: auto; margin:0; padding: 0}\n",
       ".dl-inline>dt, .dl-inline>dd {float: none; width: auto; display: inline-block}\n",
       ".dl-inline>dt::after {content: \":\\0020\"; padding-right: .5ex}\n",
       ".dl-inline>dt:not(:first-of-type) {padding-left: .5ex}\n",
       "</style><dl class=dl-inline><dt>9</dt><dd>0.178650152684186</dd><dt>45</dt><dd>-0.362104988385101</dd><dt>3</dt><dd>-0.113507158126248</dd><dt>7</dt><dd>0.223779338005662</dd><dt>48</dt><dd>0.483062215285846</dd><dt>37</dt><dd>0.508186315139518</dd><dt>26</dt><dd>0.312113040807444</dd><dt>22</dt><dd>0.227728295444928</dd><dt>20</dt><dd>-0.0933110586967432</dd><dt>38</dt><dd>-0.00623273440265332</dd><dt>50</dt><dd>-0.131821211778671</dd><dt>13</dt><dd>-0.255661608159435</dd><dt>49</dt><dd>-0.30485576511114</dd><dt>6</dt><dd>-0.173649621515189</dd><dt>44</dt><dd>-0.0660193127372728</dd><dt>31</dt><dd>-0.125973559257599</dd><dt>21</dt><dd>-0.0745112126345369</dd><dt>41</dt><dd>-0.186400528218475</dd><dt>18</dt><dd>-0.140067432481313</dd><dt>46</dt><dd>-0.175590844350778</dd><dt>2</dt><dd>-0.124055051901386</dd><dt>33</dt><dd>-0.0986956619260414</dd><dt>34</dt><dd>-0.0923353553978218</dd><dt>4</dt><dd>-0.111155268821648</dd><dt>36</dt><dd>-0.0797579639597819</dd><dt>15</dt><dd>-0.103575435547355</dd><dt>42</dt><dd>-0.0108312083432978</dd><dt>12</dt><dd>-0.0187162503493843</dd><dt>30</dt><dd>-0.00322246127251364</dd><dt>8</dt><dd>-0.0190531585185508</dd><dt>32</dt><dd>-0.0637639148921391</dd><dt>14</dt><dd>-0.0710680991087062</dd><dt>10</dt><dd>-0.0670146820564594</dd><dt>17</dt><dd>0.0122796833945615</dd><dt>16</dt><dd>-0.00651399130300572</dd><dt>43</dt><dd>-0.0276897157617217</dd><dt>23</dt><dd>0.0336773264574439</dd><dt>39</dt><dd>0.0596698325180471</dd><dt>24</dt><dd>0.0601985541609395</dd><dt>1</dt><dd>0.0831154204146125</dd><dt>40</dt><dd>0.065835620862175</dd><dt>5</dt><dd>0.0394549549941702</dd><dt>35</dt><dd>0.0754187630283127</dd><dt>27</dt><dd>0.0357279186874231</dd><dt>11</dt><dd>0.0328896625662185</dd><dt>25</dt><dd>0.0314628153747513</dd><dt>47</dt><dd>0.0431471111631492</dd><dt>19</dt><dd>0.0469761568145802</dd><dt>28</dt><dd>0.0193087629117207</dd><dt>29</dt><dd>-6.57807142090405e-17</dd></dl>\n"
      ],
      "text/latex": [
       "\\begin{description*}\n",
       "\\item[9] 0.178650152684186\n",
       "\\item[45] -0.362104988385101\n",
       "\\item[3] -0.113507158126248\n",
       "\\item[7] 0.223779338005662\n",
       "\\item[48] 0.483062215285846\n",
       "\\item[37] 0.508186315139518\n",
       "\\item[26] 0.312113040807444\n",
       "\\item[22] 0.227728295444928\n",
       "\\item[20] -0.0933110586967432\n",
       "\\item[38] -0.00623273440265332\n",
       "\\item[50] -0.131821211778671\n",
       "\\item[13] -0.255661608159435\n",
       "\\item[49] -0.30485576511114\n",
       "\\item[6] -0.173649621515189\n",
       "\\item[44] -0.0660193127372728\n",
       "\\item[31] -0.125973559257599\n",
       "\\item[21] -0.0745112126345369\n",
       "\\item[41] -0.186400528218475\n",
       "\\item[18] -0.140067432481313\n",
       "\\item[46] -0.175590844350778\n",
       "\\item[2] -0.124055051901386\n",
       "\\item[33] -0.0986956619260414\n",
       "\\item[34] -0.0923353553978218\n",
       "\\item[4] -0.111155268821648\n",
       "\\item[36] -0.0797579639597819\n",
       "\\item[15] -0.103575435547355\n",
       "\\item[42] -0.0108312083432978\n",
       "\\item[12] -0.0187162503493843\n",
       "\\item[30] -0.00322246127251364\n",
       "\\item[8] -0.0190531585185508\n",
       "\\item[32] -0.0637639148921391\n",
       "\\item[14] -0.0710680991087062\n",
       "\\item[10] -0.0670146820564594\n",
       "\\item[17] 0.0122796833945615\n",
       "\\item[16] -0.00651399130300572\n",
       "\\item[43] -0.0276897157617217\n",
       "\\item[23] 0.0336773264574439\n",
       "\\item[39] 0.0596698325180471\n",
       "\\item[24] 0.0601985541609395\n",
       "\\item[1] 0.0831154204146125\n",
       "\\item[40] 0.065835620862175\n",
       "\\item[5] 0.0394549549941702\n",
       "\\item[35] 0.0754187630283127\n",
       "\\item[27] 0.0357279186874231\n",
       "\\item[11] 0.0328896625662185\n",
       "\\item[25] 0.0314628153747513\n",
       "\\item[47] 0.0431471111631492\n",
       "\\item[19] 0.0469761568145802\n",
       "\\item[28] 0.0193087629117207\n",
       "\\item[29] -6.57807142090405e-17\n",
       "\\end{description*}\n"
      ],
      "text/markdown": [
       "9\n",
       ":   0.17865015268418645\n",
       ":   -0.3621049883851013\n",
       ":   -0.1135071581262487\n",
       ":   0.22377933800566248\n",
       ":   0.48306221528584637\n",
       ":   0.50818631513951826\n",
       ":   0.31211304080744422\n",
       ":   0.22772829544492820\n",
       ":   -0.093311058696743238\n",
       ":   -0.0062327344026533250\n",
       ":   -0.13182121177867113\n",
       ":   -0.25566160815943549\n",
       ":   -0.304855765111146\n",
       ":   -0.17364962151518944\n",
       ":   -0.066019312737272831\n",
       ":   -0.12597355925759921\n",
       ":   -0.074511212634536941\n",
       ":   -0.18640052821847518\n",
       ":   -0.14006743248131346\n",
       ":   -0.1755908443507782\n",
       ":   -0.12405505190138633\n",
       ":   -0.098695661926041434\n",
       ":   -0.09233535539782184\n",
       ":   -0.11115526882164836\n",
       ":   -0.079757963959781915\n",
       ":   -0.10357543554735542\n",
       ":   -0.010831208343297812\n",
       ":   -0.018716250349384330\n",
       ":   -0.003222461272513648\n",
       ":   -0.019053158518550832\n",
       ":   -0.063763914892139114\n",
       ":   -0.071068099108706210\n",
       ":   -0.067014682056459417\n",
       ":   0.012279683394561516\n",
       ":   -0.0065139913030057243\n",
       ":   -0.027689715761721723\n",
       ":   0.033677326457443939\n",
       ":   0.059669832518047124\n",
       ":   0.06019855416093951\n",
       ":   0.083115420414612540\n",
       ":   0.0658356208621755\n",
       ":   0.039454954994170235\n",
       ":   0.075418763028312727\n",
       ":   0.035727918687423111\n",
       ":   0.032889662566218525\n",
       ":   0.031462815374751347\n",
       ":   0.043147111163149219\n",
       ":   0.046976156814580228\n",
       ":   0.019308762911720729\n",
       ":   -6.57807142090405e-17\n",
       "\n"
      ],
      "text/plain": [
       "            9            45             3             7            48 \n",
       " 1.786502e-01 -3.621050e-01 -1.135072e-01  2.237793e-01  4.830622e-01 \n",
       "           37            26            22            20            38 \n",
       " 5.081863e-01  3.121130e-01  2.277283e-01 -9.331106e-02 -6.232734e-03 \n",
       "           50            13            49             6            44 \n",
       "-1.318212e-01 -2.556616e-01 -3.048558e-01 -1.736496e-01 -6.601931e-02 \n",
       "           31            21            41            18            46 \n",
       "-1.259736e-01 -7.451121e-02 -1.864005e-01 -1.400674e-01 -1.755908e-01 \n",
       "            2            33            34             4            36 \n",
       "-1.240551e-01 -9.869566e-02 -9.233536e-02 -1.111553e-01 -7.975796e-02 \n",
       "           15            42            12            30             8 \n",
       "-1.035754e-01 -1.083121e-02 -1.871625e-02 -3.222461e-03 -1.905316e-02 \n",
       "           32            14            10            17            16 \n",
       "-6.376391e-02 -7.106810e-02 -6.701468e-02  1.227968e-02 -6.513991e-03 \n",
       "           43            23            39            24             1 \n",
       "-2.768972e-02  3.367733e-02  5.966983e-02  6.019855e-02  8.311542e-02 \n",
       "           40             5            35            27            11 \n",
       " 6.583562e-02  3.945495e-02  7.541876e-02  3.572792e-02  3.288966e-02 \n",
       "           25            47            19            28            29 \n",
       " 3.146282e-02  4.314711e-02  4.697616e-02  1.930876e-02 -6.578071e-17 "
      ]
     },
     "metadata": {},
     "output_type": "display_data"
    },
    {
     "data": {
      "image/png": "[encoded data removed]",
      "text/plain": [
       "plot without title"
      ]
     },
     "metadata": {
      "image/png": {
       "height": 420,
       "width": 420
      },
      "text/plain": {
       "height": 420,
       "width": 420
      }
     },
     "output_type": "display_data"
    }
   ],
   "source": [
    "res=L$residuals\n",
    "pred=L$fitted.values\n",
    "pred_s=sort(pred,index.return=TRUE)\n",
    "res_s=res[pred_s$ix]\n",
    "res_s_c=cumsum(res_s)\n",
    "res_s_c/(1:50) # cumulative mean\n",
    "plot(pred_s$x,res_s_c)"
   ]
  },
  {
   "cell_type": "markdown",
   "metadata": {},
   "source": [
    "### check the homosudasticity\n",
    "    we look again at the \"residual vs fitted\" graph to check that there is no increasing or decreasing of the dispersion of residuals when the fitted values are increasing"
   ]
  },
  {
   "cell_type": "code",
   "execution_count": 36,
   "metadata": {
    "scrolled": true
   },
   "outputs": [
    {
     "data": {
      "image/png": "[encoded data removed]",
      "text/plain": [
       "Plot with title \"\""
      ]
     },
     "metadata": {
      "image/png": {
       "height": 420,
       "width": 420
      },
      "text/plain": {
       "height": 420,
       "width": 420
      }
     },
     "output_type": "display_data"
    },
    {
     "data": {
      "image/png": "[encoded data removed]",
      "text/plain": [
       "Plot with title \"\""
      ]
     },
     "metadata": {
      "image/png": {
       "height": 420,
       "width": 420
      },
      "text/plain": {
       "height": 420,
       "width": 420
      }
     },
     "output_type": "display_data"
    },
    {
     "data": {
      "image/png": "[encoded data removed]",
      "text/plain": [
       "Plot with title \"\""
      ]
     },
     "metadata": {
      "image/png": {
       "height": 420,
       "width": 420
      },
      "text/plain": {
       "height": 420,
       "width": 420
      }
     },
     "output_type": "display_data"
    },
    {
     "data": {
      "image/png": "[encoded data removed]",
      "text/plain": [
       "Plot with title \"\""
      ]
     },
     "metadata": {
      "image/png": {
       "height": 420,
       "width": 420
      },
      "text/plain": {
       "height": 420,
       "width": 420
      }
     },
     "output_type": "display_data"
    }
   ],
   "source": [
    "plot(L)"
   ]
  },
  {
   "cell_type": "markdown",
   "metadata": {},
   "source": [
    "### check if the noise is Gaussian\n",
    "the graph QQPlot enable this\n",
    "The points should be very close to the dotted line so that theorical and empirical quartile are equivalent\n",
    "The extreme points may be farer to the dotted line"
   ]
  },
  {
   "cell_type": "code",
   "execution_count": 35,
   "metadata": {
    "scrolled": true
   },
   "outputs": [
    {
     "data": {
      "image/png": "[encoded data removed]",
      "text/plain": [
       "Plot with title \"\""
      ]
     },
     "metadata": {
      "image/png": {
       "height": 420,
       "width": 420
      },
      "text/plain": {
       "height": 420,
       "width": 420
      }
     },
     "output_type": "display_data"
    },
    {
     "data": {
      "image/png": "[encoded data removed]",
      "text/plain": [
       "Plot with title \"\""
      ]
     },
     "metadata": {
      "image/png": {
       "height": 420,
       "width": 420
      },
      "text/plain": {
       "height": 420,
       "width": 420
      }
     },
     "output_type": "display_data"
    },
    {
     "data": {
      "image/png": "[encoded data removed]",
      "text/plain": [
       "Plot with title \"\""
      ]
     },
     "metadata": {
      "image/png": {
       "height": 420,
       "width": 420
      },
      "text/plain": {
       "height": 420,
       "width": 420
      }
     },
     "output_type": "display_data"
    },
    {
     "data": {
      "image/png": "[encoded data removed]",
      "text/plain": [
       "Plot with title \"\""
      ]
     },
     "metadata": {
      "image/png": {
       "height": 420,
       "width": 420
      },
      "text/plain": {
       "height": 420,
       "width": 420
      }
     },
     "output_type": "display_data"
    }
   ],
   "source": [
    "plot(L)"
   ]
  },
  {
   "cell_type": "markdown",
   "metadata": {},
   "source": [
    "Even if it is not always very simple to be sure of the fact that the noise is Gaussian with the graphic\n",
    "in the following plotting we have added a noise with an exponential distribution and the dots are quit close to the dotted line."
   ]
  },
  {
   "cell_type": "code",
   "execution_count": 73,
   "metadata": {
    "scrolled": true
   },
   "outputs": [
    {
     "data": {
      "image/png": "[encoded data removed]",
      "text/plain": [
       "Plot with title \"\""
      ]
     },
     "metadata": {
      "image/png": {
       "height": 420,
       "width": 420
      },
      "text/plain": {
       "height": 420,
       "width": 420
      }
     },
     "output_type": "display_data"
    },
    {
     "data": {
      "image/png": "[encoded data removed]",
      "text/plain": [
       "Plot with title \"\""
      ]
     },
     "metadata": {
      "image/png": {
       "height": 420,
       "width": 420
      },
      "text/plain": {
       "height": 420,
       "width": 420
      }
     },
     "output_type": "display_data"
    },
    {
     "data": {
      "image/png": "[encoded data removed]",
      "text/plain": [
       "Plot with title \"\""
      ]
     },
     "metadata": {
      "image/png": {
       "height": 420,
       "width": 420
      },
      "text/plain": {
       "height": 420,
       "width": 420
      }
     },
     "output_type": "display_data"
    },
    {
     "data": {
      "image/png": "[encoded data removed]",
      "text/plain": [
       "Plot with title \"\""
      ]
     },
     "metadata": {
      "image/png": {
       "height": 420,
       "width": 420
      },
      "text/plain": {
       "height": 420,
       "width": 420
      }
     },
     "output_type": "display_data"
    }
   ],
   "source": [
    "# exemple with an exponentiel noise => not easy with the graphic !\n",
    "y=1+2*x+rexp(50,0.001)\n",
    "L=lm(y~x)\n",
    "plot(L)"
   ]
  },
  {
   "cell_type": "markdown",
   "metadata": {},
   "source": [
    "Another way to controle this is to look at the summary of the \"linear regression\" object and to check if min / max or 1Q / 3Q are symetric. In the exemple below, it is clearly not the case. Also possible with boxplot function that mus be centered"
   ]
  },
  {
   "cell_type": "code",
   "execution_count": 101,
   "metadata": {
    "scrolled": true
   },
   "outputs": [
    {
     "data": {
      "text/plain": [
       "    Min.  1st Qu.   Median     Mean  3rd Qu.     Max. \n",
       "-1.64804 -0.25881  0.03661  0.00000  0.30559  1.24120 "
      ]
     },
     "metadata": {},
     "output_type": "display_data"
    },
    {
     "data": {
      "image/png": "[encoded data removed]",
      "text/plain": [
       "plot without title"
      ]
     },
     "metadata": {
      "image/png": {
       "height": 420,
       "width": 420
      },
      "text/plain": {
       "height": 420,
       "width": 420
      }
     },
     "output_type": "display_data"
    }
   ],
   "source": [
    "summary(L$residuals)\n",
    "boxplot(L$residuals)"
   ]
  },
  {
   "cell_type": "markdown",
   "metadata": {},
   "source": [
    "Finally, a more accurate possibility is to build the histogram of the residuals and to comapre it with the gaussian N(0,(sigma estimator)^2)"
   ]
  },
  {
   "cell_type": "code",
   "execution_count": 243,
   "metadata": {
    "scrolled": false
   },
   "outputs": [
    {
     "data": {
      "image/png": "[encoded data removed]",
      "text/plain": [
       "Plot with title \"Histogram of rstandard(LExp)\""
      ]
     },
     "metadata": {
      "image/png": {
       "height": 420,
       "width": 420
      },
      "text/plain": {
       "height": 420,
       "width": 420
      }
     },
     "output_type": "display_data"
    }
   ],
   "source": [
    "yExp=1+2*x+rexp(50,0.001)\n",
    "yGaus=1+2*x+rnorm(50,0,1)\n",
    "LExp=lm(yExp~x)\n",
    "LGaus=lm(yGaus~x)\n",
    "#hist(LExp$residuals, freq=FALSE)\n",
    "par(mfrow=c(1,2))\n",
    "hist(rstandard(LGaus),breaks=15,xlim=c(-3,3),ylim=c(0,0.8),freq= FALSE) \n",
    "x2=seq(-3,3,0.01)\n",
    "var=var(rstandard(LGaus))\n",
    "par(new=TRUE)\n",
    "plot(x2,dnorm(x2,0,sqrt(var)),type='l',col='red',xlim=c(-3,3),ylim=c(0,0.8),ylab=\"\") \n",
    "hist(rstandard(LExp),breaks=15,xlim=c(-5,5),ylim=c(0,1),freq= FALSE) \n",
    "x1=seq(-5000,5000,1)\n",
    "var=var(rstandard(LExp))\n",
    "par(new=TRUE)\n",
    "plot(x1,dnorm(x1,0,sqrt(var)),type='l',col='red',xlim=c(-5,5),ylim=c(0,1),ylab=\"\") \n"
   ]
  },
  {
   "cell_type": "code",
   "execution_count": 236,
   "metadata": {},
   "outputs": [
    {
     "data": {
      "text/html": [
       "<style>\n",
       ".dl-inline {width: auto; margin:0; padding: 0}\n",
       ".dl-inline>dt, .dl-inline>dd {float: none; width: auto; display: inline-block}\n",
       ".dl-inline>dt::after {content: \":\\0020\"; padding-right: .5ex}\n",
       ".dl-inline>dt:not(:first-of-type) {padding-left: .5ex}\n",
       "</style><dl class=dl-inline><dt>1</dt><dd>-0.72520766241093</dd><dt>2</dt><dd>-0.6335314730103</dd><dt>3</dt><dd>1.70554964072408</dd><dt>4</dt><dd>-0.631820967277723</dd><dt>5</dt><dd>-1.46536746567274</dd><dt>6</dt><dd>-0.194129086974943</dd><dt>7</dt><dd>0.468424160939853</dd><dt>8</dt><dd>1.02328777517485</dd><dt>9</dt><dd>0.415706106423803</dd><dt>10</dt><dd>-1.13999242753149</dd><dt>11</dt><dd>-0.930003314625819</dd><dt>12</dt><dd>-1.37086345324798</dd><dt>13</dt><dd>0.252640406589817</dd><dt>14</dt><dd>-0.581870564581194</dd><dt>15</dt><dd>2.71720169409595</dd><dt>16</dt><dd>0.14009425928192</dd><dt>17</dt><dd>-0.847897087190329</dd><dt>18</dt><dd>-1.3854151049114</dd><dt>19</dt><dd>-0.790484052328279</dd><dt>20</dt><dd>0.7346402552188</dd><dt>21</dt><dd>0.242542146365107</dd><dt>22</dt><dd>1.72948261667597</dd><dt>23</dt><dd>-0.584491805943103</dd><dt>24</dt><dd>1.57040575836762</dd><dt>25</dt><dd>-0.69171176214411</dd><dt>26</dt><dd>-0.432844175502976</dd><dt>27</dt><dd>0.118435034301223</dd><dt>28</dt><dd>-0.936430552064771</dd><dt>29</dt><dd>-0.0322835167374836</dd><dt>30</dt><dd>-0.565633290240772</dd><dt>31</dt><dd>-1.20054473285951</dd><dt>32</dt><dd>0.44501775148794</dd><dt>33</dt><dd>-0.587356173045055</dd><dt>34</dt><dd>0.337288153095775</dd><dt>35</dt><dd>-0.905724999891544</dd><dt>36</dt><dd>1.86751068724061</dd><dt>37</dt><dd>-0.0126634182457291</dd><dt>38</dt><dd>-0.49685147711694</dd><dt>39</dt><dd>1.96889794557185</dd><dt>40</dt><dd>-0.638527167359223</dd><dt>41</dt><dd>0.105049484121659</dd><dt>42</dt><dd>-0.0540823940491847</dd><dt>43</dt><dd>0.503002300327706</dd><dt>44</dt><dd>-0.292061490072499</dd><dt>45</dt><dd>0.993952167072646</dd><dt>46</dt><dd>-0.452283902452147</dd><dt>47</dt><dd>-0.194125090265386</dd><dt>48</dt><dd>-0.259339094378412</dd><dt>49</dt><dd>-0.659773906898954</dd><dt>50</dt><dd>2.38786940282157</dd></dl>\n"
      ],
      "text/latex": [
       "\\begin{description*}\n",
       "\\item[1] -0.72520766241093\n",
       "\\item[2] -0.6335314730103\n",
       "\\item[3] 1.70554964072408\n",
       "\\item[4] -0.631820967277723\n",
       "\\item[5] -1.46536746567274\n",
       "\\item[6] -0.194129086974943\n",
       "\\item[7] 0.468424160939853\n",
       "\\item[8] 1.02328777517485\n",
       "\\item[9] 0.415706106423803\n",
       "\\item[10] -1.13999242753149\n",
       "\\item[11] -0.930003314625819\n",
       "\\item[12] -1.37086345324798\n",
       "\\item[13] 0.252640406589817\n",
       "\\item[14] -0.581870564581194\n",
       "\\item[15] 2.71720169409595\n",
       "\\item[16] 0.14009425928192\n",
       "\\item[17] -0.847897087190329\n",
       "\\item[18] -1.3854151049114\n",
       "\\item[19] -0.790484052328279\n",
       "\\item[20] 0.7346402552188\n",
       "\\item[21] 0.242542146365107\n",
       "\\item[22] 1.72948261667597\n",
       "\\item[23] -0.584491805943103\n",
       "\\item[24] 1.57040575836762\n",
       "\\item[25] -0.69171176214411\n",
       "\\item[26] -0.432844175502976\n",
       "\\item[27] 0.118435034301223\n",
       "\\item[28] -0.936430552064771\n",
       "\\item[29] -0.0322835167374836\n",
       "\\item[30] -0.565633290240772\n",
       "\\item[31] -1.20054473285951\n",
       "\\item[32] 0.44501775148794\n",
       "\\item[33] -0.587356173045055\n",
       "\\item[34] 0.337288153095775\n",
       "\\item[35] -0.905724999891544\n",
       "\\item[36] 1.86751068724061\n",
       "\\item[37] -0.0126634182457291\n",
       "\\item[38] -0.49685147711694\n",
       "\\item[39] 1.96889794557185\n",
       "\\item[40] -0.638527167359223\n",
       "\\item[41] 0.105049484121659\n",
       "\\item[42] -0.0540823940491847\n",
       "\\item[43] 0.503002300327706\n",
       "\\item[44] -0.292061490072499\n",
       "\\item[45] 0.993952167072646\n",
       "\\item[46] -0.452283902452147\n",
       "\\item[47] -0.194125090265386\n",
       "\\item[48] -0.259339094378412\n",
       "\\item[49] -0.659773906898954\n",
       "\\item[50] 2.38786940282157\n",
       "\\end{description*}\n"
      ],
      "text/markdown": [
       "1\n",
       ":   -0.725207662410932\n",
       ":   -0.63353147301033\n",
       ":   1.705549640724084\n",
       ":   -0.6318209672777235\n",
       ":   -1.465367465672746\n",
       ":   -0.1941290869749437\n",
       ":   0.4684241609398538\n",
       ":   1.023287775174859\n",
       ":   0.41570610642380310\n",
       ":   -1.1399924275314911\n",
       ":   -0.93000331462581912\n",
       ":   -1.3708634532479813\n",
       ":   0.25264040658981714\n",
       ":   -0.58187056458119415\n",
       ":   2.7172016940959516\n",
       ":   0.1400942592819217\n",
       ":   -0.84789708719032918\n",
       ":   -1.385415104911419\n",
       ":   -0.79048405232827920\n",
       ":   0.734640255218821\n",
       ":   0.24254214636510722\n",
       ":   1.7294826166759723\n",
       ":   -0.58449180594310324\n",
       ":   1.5704057583676225\n",
       ":   -0.6917117621441126\n",
       ":   -0.43284417550297627\n",
       ":   0.11843503430122328\n",
       ":   -0.93643055206477129\n",
       ":   -0.032283516737483630\n",
       ":   -0.56563329024077231\n",
       ":   -1.2005447328595132\n",
       ":   0.4450177514879433\n",
       ":   -0.58735617304505534\n",
       ":   0.33728815309577535\n",
       ":   -0.90572499989154436\n",
       ":   1.8675106872406137\n",
       ":   -0.012663418245729138\n",
       ":   -0.4968514771169439\n",
       ":   1.9688979455718540\n",
       ":   -0.63852716735922341\n",
       ":   0.10504948412165942\n",
       ":   -0.054082394049184743\n",
       ":   0.50300230032770644\n",
       ":   -0.29206149007249945\n",
       ":   0.99395216707264646\n",
       ":   -0.45228390245214747\n",
       ":   -0.19412509026538648\n",
       ":   -0.25933909437841249\n",
       ":   -0.65977390689895450\n",
       ":   2.38786940282157\n",
       "\n"
      ],
      "text/plain": [
       "          1           2           3           4           5           6 \n",
       "-0.72520766 -0.63353147  1.70554964 -0.63182097 -1.46536747 -0.19412909 \n",
       "          7           8           9          10          11          12 \n",
       " 0.46842416  1.02328778  0.41570611 -1.13999243 -0.93000331 -1.37086345 \n",
       "         13          14          15          16          17          18 \n",
       " 0.25264041 -0.58187056  2.71720169  0.14009426 -0.84789709 -1.38541510 \n",
       "         19          20          21          22          23          24 \n",
       "-0.79048405  0.73464026  0.24254215  1.72948262 -0.58449181  1.57040576 \n",
       "         25          26          27          28          29          30 \n",
       "-0.69171176 -0.43284418  0.11843503 -0.93643055 -0.03228352 -0.56563329 \n",
       "         31          32          33          34          35          36 \n",
       "-1.20054473  0.44501775 -0.58735617  0.33728815 -0.90572500  1.86751069 \n",
       "         37          38          39          40          41          42 \n",
       "-0.01266342 -0.49685148  1.96889795 -0.63852717  0.10504948 -0.05408239 \n",
       "         43          44          45          46          47          48 \n",
       " 0.50300230 -0.29206149  0.99395217 -0.45228390 -0.19412509 -0.25933909 \n",
       "         49          50 \n",
       "-0.65977391  2.38786940 "
      ]
     },
     "metadata": {},
     "output_type": "display_data"
    }
   ],
   "source": [
    "rstandard(LExp)"
   ]
  },
  {
   "cell_type": "markdown",
   "metadata": {},
   "source": [
    "## studentize residuals"
   ]
  },
  {
   "cell_type": "markdown",
   "metadata": {},
   "source": [
    "R propose functions to calculare standardized and studentized residuals"
   ]
  },
  {
   "cell_type": "code",
   "execution_count": 97,
   "metadata": {},
   "outputs": [],
   "source": [
    "x=runif(50,14,50)\n",
    "y=1+2*x+rnorm(50,0,0.5)\n",
    "L=lm(y~x)\n",
    "resstand=rstandard(L)\n",
    "resstud=rstudent(L)"
   ]
  },
  {
   "cell_type": "markdown",
   "metadata": {},
   "source": [
    "On the graph \"Residual vs fitted\" the points with a number are those for which the abs(studentized residual) > 2, even if this graph is done with the \"classical\" residual.\n",
    "Those points are outliers for the regression"
   ]
  },
  {
   "cell_type": "code",
   "execution_count": 98,
   "metadata": {
    "scrolled": true
   },
   "outputs": [
    {
     "data": {
      "image/png": "[encoded data removed]",
      "text/plain": [
       "Plot with title \"\""
      ]
     },
     "metadata": {
      "image/png": {
       "height": 420,
       "width": 420
      },
      "text/plain": {
       "height": 420,
       "width": 420
      }
     },
     "output_type": "display_data"
    },
    {
     "data": {
      "image/png": "[encoded data removed]",
      "text/plain": [
       "Plot with title \"\""
      ]
     },
     "metadata": {
      "image/png": {
       "height": 420,
       "width": 420
      },
      "text/plain": {
       "height": 420,
       "width": 420
      }
     },
     "output_type": "display_data"
    },
    {
     "data": {
      "image/png": "[encoded data removed]",
      "text/plain": [
       "Plot with title \"\""
      ]
     },
     "metadata": {
      "image/png": {
       "height": 420,
       "width": 420
      },
      "text/plain": {
       "height": 420,
       "width": 420
      }
     },
     "output_type": "display_data"
    },
    {
     "data": {
      "image/png": "[encoded data removed]",
      "text/plain": [
       "Plot with title \"\""
      ]
     },
     "metadata": {
      "image/png": {
       "height": 420,
       "width": 420
      },
      "text/plain": {
       "height": 420,
       "width": 420
      }
     },
     "output_type": "display_data"
    }
   ],
   "source": [
    "plot(L)"
   ]
  },
  {
   "cell_type": "code",
   "execution_count": 99,
   "metadata": {
    "scrolled": true
   },
   "outputs": [
    {
     "data": {
      "text/html": [
       "<style>\n",
       ".dl-inline {width: auto; margin:0; padding: 0}\n",
       ".dl-inline>dt, .dl-inline>dd {float: none; width: auto; display: inline-block}\n",
       ".dl-inline>dt::after {content: \":\\0020\"; padding-right: .5ex}\n",
       ".dl-inline>dt:not(:first-of-type) {padding-left: .5ex}\n",
       "</style><dl class=dl-inline><dt>1</dt><dd>0.396760008934123</dd><dt>2</dt><dd>0.0995942776386131</dd><dt>3</dt><dd>0.234496175140583</dd><dt>4</dt><dd>2.0774548417299</dd><dt>5</dt><dd>-0.434762526184578</dd><dt>6</dt><dd>-0.526952149678351</dd><dt>7</dt><dd>0.753716105937046</dd><dt>8</dt><dd>-0.125395375662406</dd><dt>9</dt><dd>-0.374872620867858</dd><dt>10</dt><dd>0.352859647683337</dd><dt>11</dt><dd>0.677350369579202</dd><dt>12</dt><dd>0.673886200454571</dd><dt>13</dt><dd>-1.15692856737035</dd><dt>14</dt><dd>1.43507407435307</dd><dt>15</dt><dd>-0.437595384681499</dd><dt>16</dt><dd>-1.61429021506843</dd><dt>17</dt><dd>-0.52005840410496</dd><dt>18</dt><dd>0.0295147514463549</dd><dt>19</dt><dd>0.255766871122462</dd><dt>20</dt><dd>2.73671656504596</dd><dt>21</dt><dd>0.239832728902327</dd><dt>22</dt><dd>0.107243717087578</dd><dt>23</dt><dd>-0.805155571748234</dd><dt>24</dt><dd>0.129466672471262</dd><dt>25</dt><dd>0.706029791904604</dd><dt>26</dt><dd>-0.543768947559869</dd><dt>27</dt><dd>-0.215182422590468</dd><dt>28</dt><dd>-1.14415295942875</dd><dt>29</dt><dd>0.735428711336475</dd><dt>30</dt><dd>0.936070089058675</dd><dt>31</dt><dd>0.0275958895067927</dd><dt>32</dt><dd>0.317120242904424</dd><dt>33</dt><dd>-0.970500337121967</dd><dt>34</dt><dd>-0.411889891353935</dd><dt>35</dt><dd>0.975689301201146</dd><dt>36</dt><dd>1.0344752350995</dd><dt>37</dt><dd>-0.701263823177659</dd><dt>38</dt><dd>0.0502322508656745</dd><dt>39</dt><dd>-3.93299606652563</dd><dt>40</dt><dd>0.465285788922303</dd><dt>41</dt><dd>-1.39390216018989</dd><dt>42</dt><dd>1.17674910687445</dd><dt>43</dt><dd>-0.599443992248724</dd><dt>44</dt><dd>1.64176812609974</dd><dt>45</dt><dd>0.398736937704728</dd><dt>46</dt><dd>-1.32097313784839</dd><dt>47</dt><dd>-1.50598620492603</dd><dt>48</dt><dd>-0.299280644787418</dd><dt>49</dt><dd>-0.321304691261052</dd><dt>50</dt><dd>0.274482674791586</dd></dl>\n"
      ],
      "text/latex": [
       "\\begin{description*}\n",
       "\\item[1] 0.396760008934123\n",
       "\\item[2] 0.0995942776386131\n",
       "\\item[3] 0.234496175140583\n",
       "\\item[4] 2.0774548417299\n",
       "\\item[5] -0.434762526184578\n",
       "\\item[6] -0.526952149678351\n",
       "\\item[7] 0.753716105937046\n",
       "\\item[8] -0.125395375662406\n",
       "\\item[9] -0.374872620867858\n",
       "\\item[10] 0.352859647683337\n",
       "\\item[11] 0.677350369579202\n",
       "\\item[12] 0.673886200454571\n",
       "\\item[13] -1.15692856737035\n",
       "\\item[14] 1.43507407435307\n",
       "\\item[15] -0.437595384681499\n",
       "\\item[16] -1.61429021506843\n",
       "\\item[17] -0.52005840410496\n",
       "\\item[18] 0.0295147514463549\n",
       "\\item[19] 0.255766871122462\n",
       "\\item[20] 2.73671656504596\n",
       "\\item[21] 0.239832728902327\n",
       "\\item[22] 0.107243717087578\n",
       "\\item[23] -0.805155571748234\n",
       "\\item[24] 0.129466672471262\n",
       "\\item[25] 0.706029791904604\n",
       "\\item[26] -0.543768947559869\n",
       "\\item[27] -0.215182422590468\n",
       "\\item[28] -1.14415295942875\n",
       "\\item[29] 0.735428711336475\n",
       "\\item[30] 0.936070089058675\n",
       "\\item[31] 0.0275958895067927\n",
       "\\item[32] 0.317120242904424\n",
       "\\item[33] -0.970500337121967\n",
       "\\item[34] -0.411889891353935\n",
       "\\item[35] 0.975689301201146\n",
       "\\item[36] 1.0344752350995\n",
       "\\item[37] -0.701263823177659\n",
       "\\item[38] 0.0502322508656745\n",
       "\\item[39] -3.93299606652563\n",
       "\\item[40] 0.465285788922303\n",
       "\\item[41] -1.39390216018989\n",
       "\\item[42] 1.17674910687445\n",
       "\\item[43] -0.599443992248724\n",
       "\\item[44] 1.64176812609974\n",
       "\\item[45] 0.398736937704728\n",
       "\\item[46] -1.32097313784839\n",
       "\\item[47] -1.50598620492603\n",
       "\\item[48] -0.299280644787418\n",
       "\\item[49] -0.321304691261052\n",
       "\\item[50] 0.274482674791586\n",
       "\\end{description*}\n"
      ],
      "text/markdown": [
       "1\n",
       ":   0.3967600089341232\n",
       ":   0.09959427763861313\n",
       ":   0.2344961751405834\n",
       ":   2.07745484172995\n",
       ":   -0.4347625261845786\n",
       ":   -0.5269521496783517\n",
       ":   0.7537161059370468\n",
       ":   -0.1253953756624069\n",
       ":   -0.37487262086785810\n",
       ":   0.35285964768333711\n",
       ":   0.67735036957920212\n",
       ":   0.67388620045457113\n",
       ":   -1.1569285673703514\n",
       ":   1.4350740743530715\n",
       ":   -0.43759538468149916\n",
       ":   -1.6142902150684317\n",
       ":   -0.5200584041049618\n",
       ":   0.029514751446354919\n",
       ":   0.25576687112246220\n",
       ":   2.7367165650459621\n",
       ":   0.23983272890232722\n",
       ":   0.10724371708757823\n",
       ":   -0.80515557174823424\n",
       ":   0.12946667247126225\n",
       ":   0.70602979190460426\n",
       ":   -0.54376894755986927\n",
       ":   -0.21518242259046828\n",
       ":   -1.1441529594287529\n",
       ":   0.73542871133647530\n",
       ":   0.93607008905867531\n",
       ":   0.027595889506792732\n",
       ":   0.31712024290442433\n",
       ":   -0.97050033712196734\n",
       ":   -0.41188989135393535\n",
       ":   0.97568930120114636\n",
       ":   1.034475235099537\n",
       ":   -0.70126382317765938\n",
       ":   0.050232250865674539\n",
       ":   -3.9329960665256340\n",
       ":   0.46528578892230341\n",
       ":   -1.3939021601898942\n",
       ":   1.1767491068744543\n",
       ":   -0.59944399224872444\n",
       ":   1.6417681260997445\n",
       ":   0.39873693770472846\n",
       ":   -1.3209731378483947\n",
       ":   -1.5059862049260348\n",
       ":   -0.29928064478741849\n",
       ":   -0.32130469126105250\n",
       ":   0.274482674791586\n",
       "\n"
      ],
      "text/plain": [
       "          1           2           3           4           5           6 \n",
       " 0.39676001  0.09959428  0.23449618  2.07745484 -0.43476253 -0.52695215 \n",
       "          7           8           9          10          11          12 \n",
       " 0.75371611 -0.12539538 -0.37487262  0.35285965  0.67735037  0.67388620 \n",
       "         13          14          15          16          17          18 \n",
       "-1.15692857  1.43507407 -0.43759538 -1.61429022 -0.52005840  0.02951475 \n",
       "         19          20          21          22          23          24 \n",
       " 0.25576687  2.73671657  0.23983273  0.10724372 -0.80515557  0.12946667 \n",
       "         25          26          27          28          29          30 \n",
       " 0.70602979 -0.54376895 -0.21518242 -1.14415296  0.73542871  0.93607009 \n",
       "         31          32          33          34          35          36 \n",
       " 0.02759589  0.31712024 -0.97050034 -0.41188989  0.97568930  1.03447524 \n",
       "         37          38          39          40          41          42 \n",
       "-0.70126382  0.05023225 -3.93299607  0.46528579 -1.39390216  1.17674911 \n",
       "         43          44          45          46          47          48 \n",
       "-0.59944399  1.64176813  0.39873694 -1.32097314 -1.50598620 -0.29928064 \n",
       "         49          50 \n",
       "-0.32130469  0.27448267 "
      ]
     },
     "metadata": {},
     "output_type": "display_data"
    }
   ],
   "source": [
    "resstud"
   ]
  },
  {
   "cell_type": "markdown",
   "metadata": {},
   "source": [
    "### if the asumptions are not validated for the noise, in the summary(L) list of properties, the only one that can be used are :\n",
    "* a and b values\n",
    "* Residual standard error\n",
    "* Multiple R-squared"
   ]
  },
  {
   "cell_type": "code",
   "execution_count": 131,
   "metadata": {},
   "outputs": [
    {
     "data": {
      "text/plain": [
       "\n",
       "Call:\n",
       "lm(formula = A$maxO3 ~ A$T12)\n",
       "\n",
       "Residuals:\n",
       "    Min      1Q  Median      3Q     Max \n",
       "-38.079 -12.735   0.257  11.003  44.671 \n",
       "\n",
       "Coefficients:\n",
       "            Estimate Std. Error t value Pr(>|t|)    \n",
       "(Intercept) -27.4196     9.0335  -3.035    0.003 ** \n",
       "A$T12         5.4687     0.4125  13.258   <2e-16 ***\n",
       "---\n",
       "Signif. codes:  0 '***' 0.001 '**' 0.01 '*' 0.05 '.' 0.1 ' ' 1\n",
       "\n",
       "Residual standard error: 17.57 on 110 degrees of freedom\n",
       "Multiple R-squared:  0.6151,\tAdjusted R-squared:  0.6116 \n",
       "F-statistic: 175.8 on 1 and 110 DF,  p-value: < 2.2e-16\n"
      ]
     },
     "metadata": {},
     "output_type": "display_data"
    }
   ],
   "source": [
    "summary(L)"
   ]
  },
  {
   "cell_type": "markdown",
   "metadata": {},
   "source": [
    "## Confident Interval\n",
    "### get a confident interval with R\n",
    "But, R will give an answer even if the assumption related to the noise are not verified"
   ]
  },
  {
   "cell_type": "code",
   "execution_count": 105,
   "metadata": {
    "scrolled": true
   },
   "outputs": [
    {
     "data": {
      "text/html": [
       "<table>\n",
       "<caption>A matrix: 2 × 2 of type dbl</caption>\n",
       "<thead>\n",
       "\t<tr><th></th><th scope=col>2.5 %</th><th scope=col>97.5 %</th></tr>\n",
       "</thead>\n",
       "<tbody>\n",
       "\t<tr><th scope=row>(Intercept)</th><td>0.2750682</td><td>1.102436</td></tr>\n",
       "\t<tr><th scope=row>x</th><td>1.9978722</td><td>2.022890</td></tr>\n",
       "</tbody>\n",
       "</table>\n"
      ],
      "text/latex": [
       "A matrix: 2 × 2 of type dbl\n",
       "\\begin{tabular}{r|ll}\n",
       "  & 2.5 \\% & 97.5 \\%\\\\\n",
       "\\hline\n",
       "\t(Intercept) & 0.2750682 & 1.102436\\\\\n",
       "\tx & 1.9978722 & 2.022890\\\\\n",
       "\\end{tabular}\n"
      ],
      "text/markdown": [
       "\n",
       "A matrix: 2 × 2 of type dbl\n",
       "\n",
       "| <!--/--> | 2.5 % | 97.5 % |\n",
       "|---|---|---|\n",
       "| (Intercept) | 0.2750682 | 1.102436 |\n",
       "| x | 1.9978722 | 2.022890 |\n",
       "\n"
      ],
      "text/plain": [
       "            2.5 %     97.5 %  \n",
       "(Intercept) 0.2750682 1.102436\n",
       "x           1.9978722 2.022890"
      ]
     },
     "metadata": {},
     "output_type": "display_data"
    }
   ],
   "source": [
    "#confident interval\n",
    "confint(L,level=0.95)"
   ]
  },
  {
   "cell_type": "markdown",
   "metadata": {},
   "source": [
    "### How to plot the two \"confident interval curves\" related to a new prediction Yn+1\n",
    "use predict fonction with parameter interval = 'confidence\" for CI on E(Yn+1) - blue dash line\n",
    "use predict fonction with parameter interval = 'prediction\" for CI on Yn+1 - green dash line\n",
    "\n",
    "Remarks :\n",
    "* some point may be outside since some points can be outside (alpha = 95%)\n",
    "* for prediction it is the green CI that is important"
   ]
  },
  {
   "cell_type": "code",
   "execution_count": 116,
   "metadata": {},
   "outputs": [
    {
     "data": {
      "image/png": "[encoded data removed]",
      "text/plain": [
       "plot without title"
      ]
     },
     "metadata": {
      "image/png": {
       "height": 420,
       "width": 420
      },
      "text/plain": {
       "height": 420,
       "width": 420
      }
     },
     "output_type": "display_data"
    }
   ],
   "source": [
    "# \n",
    "x=runif(50,0,50)\n",
    "y=2+4*x+rnorm(50,0,10)\n",
    "plot(x,y)\n",
    "L=lm(y~x)\n",
    "abline(L,col='red')\n",
    "# new observation must have the same name (as x)\n",
    "x=seq(min(x),max(x),length=100)\n",
    "# x must be a dataframe\n",
    "CI1=predict(L,newdata=as.data.frame(x),interval='confidence',level=0.95)\n",
    "CI2=predict(L,newdata=as.data.frame(x),interval='prediction',level=0.95)\n",
    "#cbind add columns\n",
    "# lty : types of lines - help(par)\n",
    "matlines(x,cbind(CI1,CI2[,-1]),lty=c(1,2,2,3,3),col=c('red','blue','blue','green','green'))\n",
    "legend(\"topleft\",lty=2:3,c('E[Y]','Y'))\n"
   ]
  },
  {
   "cell_type": "markdown",
   "metadata": {},
   "source": [
    "# Day 7\n",
    "Possibility to compute a linear model, even if the data seems not very linear"
   ]
  },
  {
   "cell_type": "code",
   "execution_count": 168,
   "metadata": {},
   "outputs": [
    {
     "data": {
      "image/png": "[encoded data removed]",
      "text/plain": [
       "plot without title"
      ]
     },
     "metadata": {
      "image/png": {
       "height": 420,
       "width": 420
      },
      "text/plain": {
       "height": 420,
       "width": 420
      }
     },
     "output_type": "display_data"
    }
   ],
   "source": [
    "x=runif(100,1,5)\n",
    "y=exp(2+3*x)+rnorm(100,0,1)\n",
    "plot(x,y)"
   ]
  },
  {
   "cell_type": "code",
   "execution_count": 169,
   "metadata": {},
   "outputs": [
    {
     "data": {
      "text/plain": [
       "\n",
       "Call:\n",
       "lm(formula = y ~ x)\n",
       "\n",
       "Residuals:\n",
       "     Min       1Q   Median       3Q      Max \n",
       "-2843369 -1990096  -563798  1297697 11001220 \n",
       "\n",
       "Coefficients:\n",
       "            Estimate Std. Error t value Pr(>|t|)    \n",
       "(Intercept) -4768057     781034  -6.105 2.07e-08 ***\n",
       "x            2175903     249323   8.727 6.96e-14 ***\n",
       "---\n",
       "Signif. codes:  0 '***' 0.001 '**' 0.01 '*' 0.05 '.' 0.1 ' ' 1\n",
       "\n",
       "Residual standard error: 2773000 on 98 degrees of freedom\n",
       "Multiple R-squared:  0.4373,\tAdjusted R-squared:  0.4316 \n",
       "F-statistic: 76.16 on 1 and 98 DF,  p-value: 6.957e-14\n"
      ]
     },
     "metadata": {},
     "output_type": "display_data"
    }
   ],
   "source": [
    "L=lm(y~x)\n",
    "summary(L)"
   ]
  },
  {
   "cell_type": "code",
   "execution_count": 170,
   "metadata": {},
   "outputs": [
    {
     "data": {
      "image/png": "[encoded data removed]",
      "text/plain": [
       "plot without title"
      ]
     },
     "metadata": {
      "image/png": {
       "height": 420,
       "width": 420
      },
      "text/plain": {
       "height": 420,
       "width": 420
      }
     },
     "output_type": "display_data"
    }
   ],
   "source": [
    "x=runif(50,-4,4)\n",
    "y=1+4*x^2+rnorm(50,0,1)\n",
    "plot(x,y)"
   ]
  },
  {
   "cell_type": "code",
   "execution_count": 171,
   "metadata": {},
   "outputs": [
    {
     "data": {
      "text/plain": [
       "\n",
       "Call:\n",
       "lm(formula = y ~ x)\n",
       "\n",
       "Residuals:\n",
       "    Min      1Q  Median      3Q     Max \n",
       "-24.386 -19.068  -4.539  16.267  45.348 \n",
       "\n",
       "Coefficients:\n",
       "            Estimate Std. Error t value Pr(>|t|)    \n",
       "(Intercept)   23.765      3.088   7.695 6.39e-10 ***\n",
       "x              1.450      1.275   1.137    0.261    \n",
       "---\n",
       "Signif. codes:  0 '***' 0.001 '**' 0.01 '*' 0.05 '.' 0.1 ' ' 1\n",
       "\n",
       "Residual standard error: 21.22 on 48 degrees of freedom\n",
       "Multiple R-squared:  0.02624,\tAdjusted R-squared:  0.005949 \n",
       "F-statistic: 1.293 on 1 and 48 DF,  p-value: 0.2611\n"
      ]
     },
     "metadata": {},
     "output_type": "display_data"
    }
   ],
   "source": [
    "L=lm(y~x)\n",
    "summary(L)"
   ]
  },
  {
   "cell_type": "markdown",
   "metadata": {},
   "source": [
    "By transforming the datas it is possible to go back to a linear model"
   ]
  },
  {
   "cell_type": "code",
   "execution_count": 172,
   "metadata": {
    "scrolled": true
   },
   "outputs": [
    {
     "data": {
      "text/plain": [
       "\n",
       "Call:\n",
       "lm(formula = y ~ T)\n",
       "\n",
       "Residuals:\n",
       "     Min       1Q   Median       3Q      Max \n",
       "-2.09994 -0.68648 -0.03094  0.79375  1.93852 \n",
       "\n",
       "Coefficients:\n",
       "            Estimate Std. Error t value Pr(>|t|)    \n",
       "(Intercept)  1.03691    0.21694    4.78  1.7e-05 ***\n",
       "T            4.01483    0.02757  145.61  < 2e-16 ***\n",
       "---\n",
       "Signif. codes:  0 '***' 0.001 '**' 0.01 '*' 0.05 '.' 0.1 ' ' 1\n",
       "\n",
       "Residual standard error: 1.022 on 48 degrees of freedom\n",
       "Multiple R-squared:  0.9977,\tAdjusted R-squared:  0.9977 \n",
       "F-statistic: 2.12e+04 on 1 and 48 DF,  p-value: < 2.2e-16\n"
      ]
     },
     "metadata": {},
     "output_type": "display_data"
    }
   ],
   "source": [
    "T=x^2\n",
    "L1=lm(y~T)\n",
    "summary(L1)"
   ]
  },
  {
   "cell_type": "markdown",
   "metadata": {},
   "source": [
    "### Get Rsquare without running lm"
   ]
  },
  {
   "cell_type": "code",
   "execution_count": 173,
   "metadata": {},
   "outputs": [
    {
     "data": {
      "text/html": [
       "0.0262362056872718"
      ],
      "text/latex": [
       "0.0262362056872718"
      ],
      "text/markdown": [
       "0.0262362056872718"
      ],
      "text/plain": [
       "[1] 0.02623621"
      ]
     },
     "metadata": {},
     "output_type": "display_data"
    }
   ],
   "source": [
    "cor(x,y)^2"
   ]
  },
  {
   "cell_type": "code",
   "execution_count": 175,
   "metadata": {},
   "outputs": [
    {
     "data": {
      "text/html": [
       "0.997741178051489"
      ],
      "text/latex": [
       "0.997741178051489"
      ],
      "text/markdown": [
       "0.997741178051489"
      ],
      "text/plain": [
       "[1] 0.9977412"
      ]
     },
     "metadata": {},
     "output_type": "display_data"
    }
   ],
   "source": [
    "cor(T,y)^2"
   ]
  },
  {
   "cell_type": "markdown",
   "metadata": {},
   "source": [
    "## Analysis of the file reg1.txt"
   ]
  },
  {
   "cell_type": "code",
   "execution_count": 254,
   "metadata": {},
   "outputs": [
    {
     "data": {
      "text/html": [
       "<table>\n",
       "<caption>A data.frame: 6 × 2</caption>\n",
       "<thead>\n",
       "\t<tr><th></th><th scope=col>X</th><th scope=col>Y</th></tr>\n",
       "\t<tr><th></th><th scope=col>&lt;dbl&gt;</th><th scope=col>&lt;dbl&gt;</th></tr>\n",
       "</thead>\n",
       "<tbody>\n",
       "\t<tr><th scope=row>1</th><td>19.48785</td><td> 1.5203410</td></tr>\n",
       "\t<tr><th scope=row>2</th><td>18.08384</td><td>-0.4061314</td></tr>\n",
       "\t<tr><th scope=row>3</th><td>13.80163</td><td> 2.1274110</td></tr>\n",
       "\t<tr><th scope=row>4</th><td>12.82095</td><td> 1.6700520</td></tr>\n",
       "\t<tr><th scope=row>5</th><td>17.78741</td><td> 1.8717180</td></tr>\n",
       "\t<tr><th scope=row>6</th><td>17.61689</td><td> 0.1721909</td></tr>\n",
       "</tbody>\n",
       "</table>\n"
      ],
      "text/latex": [
       "A data.frame: 6 × 2\n",
       "\\begin{tabular}{r|ll}\n",
       "  & X & Y\\\\\n",
       "  & <dbl> & <dbl>\\\\\n",
       "\\hline\n",
       "\t1 & 19.48785 &  1.5203410\\\\\n",
       "\t2 & 18.08384 & -0.4061314\\\\\n",
       "\t3 & 13.80163 &  2.1274110\\\\\n",
       "\t4 & 12.82095 &  1.6700520\\\\\n",
       "\t5 & 17.78741 &  1.8717180\\\\\n",
       "\t6 & 17.61689 &  0.1721909\\\\\n",
       "\\end{tabular}\n"
      ],
      "text/markdown": [
       "\n",
       "A data.frame: 6 × 2\n",
       "\n",
       "| <!--/--> | X &lt;dbl&gt; | Y &lt;dbl&gt; |\n",
       "|---|---|---|\n",
       "| 1 | 19.48785 |  1.5203410 |\n",
       "| 2 | 18.08384 | -0.4061314 |\n",
       "| 3 | 13.80163 |  2.1274110 |\n",
       "| 4 | 12.82095 |  1.6700520 |\n",
       "| 5 | 17.78741 |  1.8717180 |\n",
       "| 6 | 17.61689 |  0.1721909 |\n",
       "\n"
      ],
      "text/plain": [
       "  X        Y         \n",
       "1 19.48785  1.5203410\n",
       "2 18.08384 -0.4061314\n",
       "3 13.80163  2.1274110\n",
       "4 12.82095  1.6700520\n",
       "5 17.78741  1.8717180\n",
       "6 17.61689  0.1721909"
      ]
     },
     "metadata": {},
     "output_type": "display_data"
    },
    {
     "data": {
      "text/html": [
       "<style>\n",
       ".list-inline {list-style: none; margin:0; padding: 0}\n",
       ".list-inline>li {display: inline-block}\n",
       ".list-inline>li:not(:last-child)::after {content: \"\\00b7\"; padding: 0 .5ex}\n",
       "</style>\n",
       "<ol class=list-inline><li>100</li><li>2</li></ol>\n"
      ],
      "text/latex": [
       "\\begin{enumerate*}\n",
       "\\item 100\n",
       "\\item 2\n",
       "\\end{enumerate*}\n"
      ],
      "text/markdown": [
       "1. 100\n",
       "2. 2\n",
       "\n",
       "\n"
      ],
      "text/plain": [
       "[1] 100   2"
      ]
     },
     "metadata": {},
     "output_type": "display_data"
    }
   ],
   "source": [
    "reg1=read.table('reg1.txt',header=FALSE,dec='.')\n",
    "colnames(reg1)=c('X','Y')\n",
    "head(reg1)\n",
    "dim(reg1)"
   ]
  },
  {
   "cell_type": "code",
   "execution_count": 207,
   "metadata": {},
   "outputs": [
    {
     "data": {
      "image/png": "[encoded data removed]",
      "text/plain": [
       "plot without title"
      ]
     },
     "metadata": {
      "image/png": {
       "height": 420,
       "width": 420
      },
      "text/plain": {
       "height": 420,
       "width": 420
      }
     },
     "output_type": "display_data"
    }
   ],
   "source": [
    "plot(reg1$X,reg1$Y)"
   ]
  },
  {
   "cell_type": "code",
   "execution_count": 255,
   "metadata": {},
   "outputs": [],
   "source": [
    "L1=lm(Y~X,data=reg1)"
   ]
  },
  {
   "cell_type": "code",
   "execution_count": 256,
   "metadata": {
    "scrolled": true
   },
   "outputs": [
    {
     "data": {
      "text/plain": [
       "\n",
       "Call:\n",
       "lm(formula = Y ~ X, data = reg1)\n",
       "\n",
       "Residuals:\n",
       "     Min       1Q   Median       3Q      Max \n",
       "-2.72420 -0.54717 -0.00295  0.52021  2.08067 \n",
       "\n",
       "Coefficients:\n",
       "            Estimate Std. Error t value Pr(>|t|)    \n",
       "(Intercept)  4.50764    0.48958   9.207 6.36e-15 ***\n",
       "X           -0.20846    0.03145  -6.628 1.86e-09 ***\n",
       "---\n",
       "Signif. codes:  0 '***' 0.001 '**' 0.01 '*' 0.05 '.' 0.1 ' ' 1\n",
       "\n",
       "Residual standard error: 0.9052 on 98 degrees of freedom\n",
       "Multiple R-squared:  0.3095,\tAdjusted R-squared:  0.3025 \n",
       "F-statistic: 43.93 on 1 and 98 DF,  p-value: 1.856e-09\n"
      ]
     },
     "metadata": {},
     "output_type": "display_data"
    }
   ],
   "source": [
    "summary(L1)"
   ]
  },
  {
   "cell_type": "markdown",
   "metadata": {},
   "source": [
    "R-Squared is low so we are not sure that a linear regression can be done\n",
    "You can always use a,b due to list square criterion. \n",
    "b = -0.20846 which is closed to 0 : we have to check that b <> 0"
   ]
  },
  {
   "cell_type": "code",
   "execution_count": 259,
   "metadata": {},
   "outputs": [
    {
     "data": {
      "image/png": "[encoded data removed]",
      "text/plain": [
       "plot without title"
      ]
     },
     "metadata": {
      "image/png": {
       "height": 420,
       "width": 420
      },
      "text/plain": {
       "height": 420,
       "width": 420
      }
     },
     "output_type": "display_data"
    }
   ],
   "source": [
    "plot(reg1$X,reg1$Y)\n",
    "abline(L1,col='red')\n"
   ]
  },
  {
   "cell_type": "markdown",
   "metadata": {},
   "source": [
    "To check if b could be = 0, we have to calculate its confident interval. \n",
    "For this we need to see if asumptions on the noise are satisfied"
   ]
  },
  {
   "cell_type": "markdown",
   "metadata": {},
   "source": [
    "Symetry of Residuals : min/max, mean, Q1/Q3 are not bad"
   ]
  },
  {
   "cell_type": "markdown",
   "metadata": {},
   "source": [
    "More in detail : \n",
    "* centered : yes, but points 91 and 88 seems far for the mean\n",
    "* homosudasticity : no dispersion (increasing / decreasing in the \"Rsiduals vs Fitted\" graph\n",
    "* Gaussian : Q-Q plot is ok, except for the extermes (but this is often the case)\n"
   ]
  },
  {
   "cell_type": "code",
   "execution_count": 211,
   "metadata": {},
   "outputs": [
    {
     "data": {
      "image/png": "[encoded data removed]",
      "text/plain": [
       "Plot with title \"\""
      ]
     },
     "metadata": {
      "image/png": {
       "height": 420,
       "width": 420
      },
      "text/plain": {
       "height": 420,
       "width": 420
      }
     },
     "output_type": "display_data"
    },
    {
     "data": {
      "image/png": "[encoded data removed]",
      "text/plain": [
       "Plot with title \"\""
      ]
     },
     "metadata": {
      "image/png": {
       "height": 420,
       "width": 420
      },
      "text/plain": {
       "height": 420,
       "width": 420
      }
     },
     "output_type": "display_data"
    },
    {
     "data": {
      "image/png": "[encoded data removed]",
      "text/plain": [
       "Plot with title \"\""
      ]
     },
     "metadata": {
      "image/png": {
       "height": 420,
       "width": 420
      },
      "text/plain": {
       "height": 420,
       "width": 420
      }
     },
     "output_type": "display_data"
    },
    {
     "data": {
      "image/png": "[encoded data removed]",
      "text/plain": [
       "Plot with title \"\""
      ]
     },
     "metadata": {
      "image/png": {
       "height": 420,
       "width": 420
      },
      "text/plain": {
       "height": 420,
       "width": 420
      }
     },
     "output_type": "display_data"
    }
   ],
   "source": [
    "plot(L1)"
   ]
  },
  {
   "cell_type": "markdown",
   "metadata": {},
   "source": [
    "histogramme : be carefull : use standardized residuals\n",
    "    the histogram is ok"
   ]
  },
  {
   "cell_type": "code",
   "execution_count": 213,
   "metadata": {},
   "outputs": [
    {
     "data": {
      "image/png": "[encoded data removed]",
      "text/plain": [
       "Plot with title \"Histogram of res\""
      ]
     },
     "metadata": {
      "image/png": {
       "height": 420,
       "width": 420
      },
      "text/plain": {
       "height": 420,
       "width": 420
      }
     },
     "output_type": "display_data"
    }
   ],
   "source": [
    "res=rstandard(L1)\n",
    "hist(res, freq = FALSE)"
   ]
  },
  {
   "cell_type": "markdown",
   "metadata": {},
   "source": [
    "We find 5 outliers either using the vector "
   ]
  },
  {
   "cell_type": "code",
   "execution_count": 215,
   "metadata": {},
   "outputs": [],
   "source": [
    "res2=rstudent(L1)"
   ]
  },
  {
   "cell_type": "code",
   "execution_count": 219,
   "metadata": {},
   "outputs": [
    {
     "data": {
      "text/html": [
       "<style>\n",
       ".dl-inline {width: auto; margin:0; padding: 0}\n",
       ".dl-inline>dt, .dl-inline>dd {float: none; width: auto; display: inline-block}\n",
       ".dl-inline>dt::after {content: \":\\0020\"; padding-right: .5ex}\n",
       ".dl-inline>dt:not(:first-of-type) {padding-left: .5ex}\n",
       "</style><dl class=dl-inline><dt>13</dt><dd>2.38618999134564</dd><dt>38</dt><dd>-2.09991593673588</dd><dt>58</dt><dd>-2.11735193712949</dd><dt>68</dt><dd>-2.37972497218074</dd><dt>91</dt><dd>-3.17388057105538</dd></dl>\n"
      ],
      "text/latex": [
       "\\begin{description*}\n",
       "\\item[13] 2.38618999134564\n",
       "\\item[38] -2.09991593673588\n",
       "\\item[58] -2.11735193712949\n",
       "\\item[68] -2.37972497218074\n",
       "\\item[91] -3.17388057105538\n",
       "\\end{description*}\n"
      ],
      "text/markdown": [
       "13\n",
       ":   2.3861899913456438\n",
       ":   -2.0999159367358858\n",
       ":   -2.1173519371294968\n",
       ":   -2.3797249721807491\n",
       ":   -3.17388057105538\n",
       "\n"
      ],
      "text/plain": [
       "       13        38        58        68        91 \n",
       " 2.386190 -2.099916 -2.117352 -2.379725 -3.173881 "
      ]
     },
     "metadata": {},
     "output_type": "display_data"
    }
   ],
   "source": [
    "res2[abs(res2) > 2]"
   ]
  },
  {
   "cell_type": "markdown",
   "metadata": {},
   "source": [
    "or plot adding -2 and 2 lines"
   ]
  },
  {
   "cell_type": "code",
   "execution_count": 221,
   "metadata": {},
   "outputs": [
    {
     "data": {
      "image/png": "[encoded data removed]",
      "text/plain": [
       "plot without title"
      ]
     },
     "metadata": {
      "image/png": {
       "height": 420,
       "width": 420
      },
      "text/plain": {
       "height": 420,
       "width": 420
      }
     },
     "output_type": "display_data"
    }
   ],
   "source": [
    "plot(res2)\n",
    "abline(h=2,col='red')\n",
    "abline(h=-2,col='red')"
   ]
  },
  {
   "cell_type": "markdown",
   "metadata": {},
   "source": [
    "The steps to follow regarding outliers are :\n",
    "* perform the regression without the outliers : if there is an impact, ask the experts of the dataset to see if it is possible to really suppress them or if they are normal and should be kept."
   ]
  },
  {
   "cell_type": "markdown",
   "metadata": {},
   "source": [
    "The asumption regarding the nois are ok and it is Gaussian => we can compute classical confident interval"
   ]
  },
  {
   "cell_type": "code",
   "execution_count": 222,
   "metadata": {},
   "outputs": [
    {
     "data": {
      "text/html": [
       "<table>\n",
       "<caption>A matrix: 2 × 2 of type dbl</caption>\n",
       "<thead>\n",
       "\t<tr><th></th><th scope=col>2.5 %</th><th scope=col>97.5 %</th></tr>\n",
       "</thead>\n",
       "<tbody>\n",
       "\t<tr><th scope=row>(Intercept)</th><td> 3.5360876</td><td> 5.4791912</td></tr>\n",
       "\t<tr><th scope=row>X1</th><td>-0.2708783</td><td>-0.1460508</td></tr>\n",
       "</tbody>\n",
       "</table>\n"
      ],
      "text/latex": [
       "A matrix: 2 × 2 of type dbl\n",
       "\\begin{tabular}{r|ll}\n",
       "  & 2.5 \\% & 97.5 \\%\\\\\n",
       "\\hline\n",
       "\t(Intercept) &  3.5360876 &  5.4791912\\\\\n",
       "\tX1 & -0.2708783 & -0.1460508\\\\\n",
       "\\end{tabular}\n"
      ],
      "text/markdown": [
       "\n",
       "A matrix: 2 × 2 of type dbl\n",
       "\n",
       "| <!--/--> | 2.5 % | 97.5 % |\n",
       "|---|---|---|\n",
       "| (Intercept) |  3.5360876 |  5.4791912 |\n",
       "| X1 | -0.2708783 | -0.1460508 |\n",
       "\n"
      ],
      "text/plain": [
       "            2.5 %      97.5 %    \n",
       "(Intercept)  3.5360876  5.4791912\n",
       "X1          -0.2708783 -0.1460508"
      ]
     },
     "metadata": {},
     "output_type": "display_data"
    }
   ],
   "source": [
    "confint(L1,level=0.95)"
   ]
  },
  {
   "cell_type": "markdown",
   "metadata": {},
   "source": [
    "0 is not in the CI for b parameter. So we can say that with probability 0.95 the slope is different from 0.\n",
    "So there is a linear link between x and y with a probability of 95%"
   ]
  },
  {
   "cell_type": "markdown",
   "metadata": {},
   "source": [
    "Plot the CI for Yn+1 and E(Yn+1)"
   ]
  },
  {
   "cell_type": "code",
   "execution_count": 232,
   "metadata": {
    "scrolled": true
   },
   "outputs": [
    {
     "data": {
      "image/png": "[encoded data removed]",
      "text/plain": [
       "plot without title"
      ]
     },
     "metadata": {
      "image/png": {
       "height": 420,
       "width": 420
      },
      "text/plain": {
       "height": 420,
       "width": 420
      }
     },
     "output_type": "display_data"
    }
   ],
   "source": [
    "L1=lm(y1~x1)\n",
    "plot(x1,y1)\n",
    "abline(L1,col='red')\n",
    "x1=seq(min(x1),max(x1),length=100)\n",
    "# x must be a dataframe\n",
    "CI1=predict(L1,newdata=as.data.frame(x1),interval='confidence',level=0.95)\n",
    "CI2=predict(L1,newdata=as.data.frame(x1),interval='prediction',level=0.95)\n",
    "#cbind add columns\n",
    "# lty : types of lines - help(par)\n",
    "matlines(x1,cbind(CI1,CI2[,-1]),lty=c(1,2,2,3,3),col=c('red','blue','blue','green','green'))\n",
    "legend(\"topleft\",lty=2:3,c('E[Y]','Y'))"
   ]
  },
  {
   "cell_type": "markdown",
   "metadata": {},
   "source": [
    "## Analysis of the file reg2.txt"
   ]
  },
  {
   "cell_type": "code",
   "execution_count": 244,
   "metadata": {},
   "outputs": [
    {
     "data": {
      "text/html": [
       "<table>\n",
       "<caption>A data.frame: 6 × 2</caption>\n",
       "<thead>\n",
       "\t<tr><th></th><th scope=col>X</th><th scope=col>Y</th></tr>\n",
       "\t<tr><th></th><th scope=col>&lt;dbl&gt;</th><th scope=col>&lt;dbl&gt;</th></tr>\n",
       "</thead>\n",
       "<tbody>\n",
       "\t<tr><th scope=row>1</th><td>19.48785</td><td> 8.052981</td></tr>\n",
       "\t<tr><th scope=row>2</th><td>18.08384</td><td>10.523270</td></tr>\n",
       "\t<tr><th scope=row>3</th><td>13.80163</td><td> 8.941360</td></tr>\n",
       "\t<tr><th scope=row>4</th><td>12.82095</td><td> 8.309731</td></tr>\n",
       "\t<tr><th scope=row>5</th><td>17.78741</td><td>10.663020</td></tr>\n",
       "\t<tr><th scope=row>6</th><td>17.61689</td><td>10.913890</td></tr>\n",
       "</tbody>\n",
       "</table>\n"
      ],
      "text/latex": [
       "A data.frame: 6 × 2\n",
       "\\begin{tabular}{r|ll}\n",
       "  & X & Y\\\\\n",
       "  & <dbl> & <dbl>\\\\\n",
       "\\hline\n",
       "\t1 & 19.48785 &  8.052981\\\\\n",
       "\t2 & 18.08384 & 10.523270\\\\\n",
       "\t3 & 13.80163 &  8.941360\\\\\n",
       "\t4 & 12.82095 &  8.309731\\\\\n",
       "\t5 & 17.78741 & 10.663020\\\\\n",
       "\t6 & 17.61689 & 10.913890\\\\\n",
       "\\end{tabular}\n"
      ],
      "text/markdown": [
       "\n",
       "A data.frame: 6 × 2\n",
       "\n",
       "| <!--/--> | X &lt;dbl&gt; | Y &lt;dbl&gt; |\n",
       "|---|---|---|\n",
       "| 1 | 19.48785 |  8.052981 |\n",
       "| 2 | 18.08384 | 10.523270 |\n",
       "| 3 | 13.80163 |  8.941360 |\n",
       "| 4 | 12.82095 |  8.309731 |\n",
       "| 5 | 17.78741 | 10.663020 |\n",
       "| 6 | 17.61689 | 10.913890 |\n",
       "\n"
      ],
      "text/plain": [
       "  X        Y        \n",
       "1 19.48785  8.052981\n",
       "2 18.08384 10.523270\n",
       "3 13.80163  8.941360\n",
       "4 12.82095  8.309731\n",
       "5 17.78741 10.663020\n",
       "6 17.61689 10.913890"
      ]
     },
     "metadata": {},
     "output_type": "display_data"
    },
    {
     "data": {
      "text/html": [
       "<style>\n",
       ".list-inline {list-style: none; margin:0; padding: 0}\n",
       ".list-inline>li {display: inline-block}\n",
       ".list-inline>li:not(:last-child)::after {content: \"\\00b7\"; padding: 0 .5ex}\n",
       "</style>\n",
       "<ol class=list-inline><li>100</li><li>2</li></ol>\n"
      ],
      "text/latex": [
       "\\begin{enumerate*}\n",
       "\\item 100\n",
       "\\item 2\n",
       "\\end{enumerate*}\n"
      ],
      "text/markdown": [
       "1. 100\n",
       "2. 2\n",
       "\n",
       "\n"
      ],
      "text/plain": [
       "[1] 100   2"
      ]
     },
     "metadata": {},
     "output_type": "display_data"
    }
   ],
   "source": [
    "reg2=read.table('reg2.txt',header=FALSE,dec='.')\n",
    "colnames(reg2)=c('X','Y')\n",
    "head(reg2)\n",
    "dim(reg2)"
   ]
  },
  {
   "cell_type": "markdown",
   "metadata": {},
   "source": [
    "Same structure as Reg1 : 100 rows and 2 column renamed X and Y\n",
    "Plot to have an idea of the dats$as"
   ]
  },
  {
   "cell_type": "code",
   "execution_count": 246,
   "metadata": {},
   "outputs": [
    {
     "data": {
      "image/png": "[encoded data removed]",
      "text/plain": [
       "plot without title"
      ]
     },
     "metadata": {
      "image/png": {
       "height": 420,
       "width": 420
      },
      "text/plain": {
       "height": 420,
       "width": 420
      }
     },
     "output_type": "display_data"
    }
   ],
   "source": [
    "plot(reg2$X,reg2$Y)"
   ]
  },
  {
   "cell_type": "markdown",
   "metadata": {},
   "source": [
    "We can imagine a line ...\n",
    "Check RSquare and a,b coefficient"
   ]
  },
  {
   "cell_type": "code",
   "execution_count": 249,
   "metadata": {},
   "outputs": [
    {
     "data": {
      "text/plain": [
       "\n",
       "Call:\n",
       "lm(formula = Y ~ X, data = reg2)\n",
       "\n",
       "Residuals:\n",
       "     Min       1Q   Median       3Q      Max \n",
       "-3.12482 -1.13654  0.08256  0.94724  2.07272 \n",
       "\n",
       "Coefficients:\n",
       "            Estimate Std. Error t value Pr(>|t|)    \n",
       "(Intercept)  13.8404     0.7876  17.572  < 2e-16 ***\n",
       "X            -0.2792     0.0506  -5.519 2.79e-07 ***\n",
       "---\n",
       "Signif. codes:  0 '***' 0.001 '**' 0.01 '*' 0.05 '.' 0.1 ' ' 1\n",
       "\n",
       "Residual standard error: 1.456 on 98 degrees of freedom\n",
       "Multiple R-squared:  0.2371,\tAdjusted R-squared:  0.2293 \n",
       "F-statistic: 30.46 on 1 and 98 DF,  p-value: 2.788e-07\n"
      ]
     },
     "metadata": {},
     "output_type": "display_data"
    }
   ],
   "source": [
    "L2=lm(Y~X,data=reg2)\n",
    "summary(L2)"
   ]
  },
  {
   "cell_type": "markdown",
   "metadata": {},
   "source": [
    "R-Squared is low : 0.2371 and b coeffcient is closed to 0 : -0.2792\n",
    "Let's add the regression line to the plot\n"
   ]
  },
  {
   "cell_type": "code",
   "execution_count": 252,
   "metadata": {},
   "outputs": [
    {
     "data": {
      "image/png": "[encoded data removed]",
      "text/plain": [
       "plot without title"
      ]
     },
     "metadata": {
      "image/png": {
       "height": 420,
       "width": 420
      },
      "text/plain": {
       "height": 420,
       "width": 420
      }
     },
     "output_type": "display_data"
    }
   ],
   "source": [
    "plot(reg2$X,reg2$Y)\n",
    "abline(L2,col='red')"
   ]
  },
  {
   "cell_type": "markdown",
   "metadata": {},
   "source": [
    "Before going further, let's have an idea about the noise by looking at the simetry of the residuals and at the different plottings of L2"
   ]
  },
  {
   "cell_type": "code",
   "execution_count": 253,
   "metadata": {
    "scrolled": false
   },
   "outputs": [
    {
     "data": {
      "text/plain": [
       "\n",
       "Call:\n",
       "lm(formula = Y ~ X, data = reg2)\n",
       "\n",
       "Residuals:\n",
       "     Min       1Q   Median       3Q      Max \n",
       "-3.12482 -1.13654  0.08256  0.94724  2.07272 \n",
       "\n",
       "Coefficients:\n",
       "            Estimate Std. Error t value Pr(>|t|)    \n",
       "(Intercept)  13.8404     0.7876  17.572  < 2e-16 ***\n",
       "X            -0.2792     0.0506  -5.519 2.79e-07 ***\n",
       "---\n",
       "Signif. codes:  0 '***' 0.001 '**' 0.01 '*' 0.05 '.' 0.1 ' ' 1\n",
       "\n",
       "Residual standard error: 1.456 on 98 degrees of freedom\n",
       "Multiple R-squared:  0.2371,\tAdjusted R-squared:  0.2293 \n",
       "F-statistic: 30.46 on 1 and 98 DF,  p-value: 2.788e-07\n"
      ]
     },
     "metadata": {},
     "output_type": "display_data"
    },
    {
     "data": {
      "image/png": "[encoded data removed]",
      "text/plain": [
       "Plot with title \"\""
      ]
     },
     "metadata": {
      "image/png": {
       "height": 420,
       "width": 420
      },
      "text/plain": {
       "height": 420,
       "width": 420
      }
     },
     "output_type": "display_data"
    },
    {
     "data": {
      "image/png": "[encoded data removed]",
      "text/plain": [
       "Plot with title \"\""
      ]
     },
     "metadata": {
      "image/png": {
       "height": 420,
       "width": 420
      },
      "text/plain": {
       "height": 420,
       "width": 420
      }
     },
     "output_type": "display_data"
    },
    {
     "data": {
      "image/png": "[encoded data removed]",
      "text/plain": [
       "Plot with title \"\""
      ]
     },
     "metadata": {
      "image/png": {
       "height": 420,
       "width": 420
      },
      "text/plain": {
       "height": 420,
       "width": 420
      }
     },
     "output_type": "display_data"
    },
    {
     "data": {
      "image/png": "[encoded data removed]",
      "text/plain": [
       "Plot with title \"\""
      ]
     },
     "metadata": {
      "image/png": {
       "height": 420,
       "width": 420
      },
      "text/plain": {
       "height": 420,
       "width": 420
      }
     },
     "output_type": "display_data"
    }
   ],
   "source": [
    "summary(L2)\n",
    "plot(L2)"
   ]
  },
  {
   "cell_type": "markdown",
   "metadata": {},
   "source": [
    "Looking at summary, the residuals do not seems really symetric (more under 0) : this is confirmed by the curve \"Residual vs fitted\". So the first asumption is wrong.\n",
    "The gaussian hypothesis are also wrong (QQ plot not linear).\n",
    "We stop the analysis at this point."
   ]
  }
 ],
 "metadata": {
  "kernelspec": {
   "display_name": "R",
   "language": "R",
   "name": "ir"
  },
  "language_info": {
   "codemirror_mode": "r",
   "file_extension": ".r",
   "mimetype": "text/x-r-source",
   "name": "R",
   "pygments_lexer": "r",
   "version": "4.0.0"
  }
 },
 "nbformat": 4,
 "nbformat_minor": 4
}
